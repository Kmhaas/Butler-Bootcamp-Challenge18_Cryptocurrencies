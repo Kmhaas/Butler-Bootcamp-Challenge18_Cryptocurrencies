{
 "cells": [
  {
   "cell_type": "markdown",
   "metadata": {},
   "source": [
    "# Clustering Crypto"
   ]
  },
  {
   "cell_type": "code",
   "execution_count": 11,
   "metadata": {},
   "outputs": [],
   "source": [
    "# Initial imports\n",
    "import pandas as pd\n",
    "import hvplot.pandas\n",
    "from path import Path\n",
    "import plotly.express as px\n",
    "from sklearn.preprocessing import StandardScaler, MinMaxScaler\n",
    "from sklearn.decomposition import PCA\n",
    "from sklearn.cluster import KMeans\n"
   ]
  },
  {
   "cell_type": "markdown",
   "metadata": {},
   "source": [
    "### Deliverable 1: Preprocessing the Data for PCA"
   ]
  },
  {
   "cell_type": "code",
   "execution_count": 12,
   "metadata": {},
   "outputs": [
    {
     "data": {
      "text/html": [
       "<div>\n",
       "<style scoped>\n",
       "    .dataframe tbody tr th:only-of-type {\n",
       "        vertical-align: middle;\n",
       "    }\n",
       "\n",
       "    .dataframe tbody tr th {\n",
       "        vertical-align: top;\n",
       "    }\n",
       "\n",
       "    .dataframe thead th {\n",
       "        text-align: right;\n",
       "    }\n",
       "</style>\n",
       "<table border=\"1\" class=\"dataframe\">\n",
       "  <thead>\n",
       "    <tr style=\"text-align: right;\">\n",
       "      <th></th>\n",
       "      <th>Unnamed: 0</th>\n",
       "      <th>CoinName</th>\n",
       "      <th>Algorithm</th>\n",
       "      <th>IsTrading</th>\n",
       "      <th>ProofType</th>\n",
       "      <th>TotalCoinsMined</th>\n",
       "      <th>TotalCoinSupply</th>\n",
       "    </tr>\n",
       "  </thead>\n",
       "  <tbody>\n",
       "    <tr>\n",
       "      <th>0</th>\n",
       "      <td>42</td>\n",
       "      <td>42 Coin</td>\n",
       "      <td>Scrypt</td>\n",
       "      <td>True</td>\n",
       "      <td>PoW/PoS</td>\n",
       "      <td>4.199995e+01</td>\n",
       "      <td>42</td>\n",
       "    </tr>\n",
       "    <tr>\n",
       "      <th>1</th>\n",
       "      <td>365</td>\n",
       "      <td>365Coin</td>\n",
       "      <td>X11</td>\n",
       "      <td>True</td>\n",
       "      <td>PoW/PoS</td>\n",
       "      <td>NaN</td>\n",
       "      <td>2300000000</td>\n",
       "    </tr>\n",
       "    <tr>\n",
       "      <th>2</th>\n",
       "      <td>404</td>\n",
       "      <td>404Coin</td>\n",
       "      <td>Scrypt</td>\n",
       "      <td>True</td>\n",
       "      <td>PoW/PoS</td>\n",
       "      <td>1.055185e+09</td>\n",
       "      <td>532000000</td>\n",
       "    </tr>\n",
       "    <tr>\n",
       "      <th>3</th>\n",
       "      <td>611</td>\n",
       "      <td>SixEleven</td>\n",
       "      <td>SHA-256</td>\n",
       "      <td>True</td>\n",
       "      <td>PoW</td>\n",
       "      <td>NaN</td>\n",
       "      <td>611000</td>\n",
       "    </tr>\n",
       "    <tr>\n",
       "      <th>4</th>\n",
       "      <td>808</td>\n",
       "      <td>808</td>\n",
       "      <td>SHA-256</td>\n",
       "      <td>True</td>\n",
       "      <td>PoW/PoS</td>\n",
       "      <td>0.000000e+00</td>\n",
       "      <td>0</td>\n",
       "    </tr>\n",
       "    <tr>\n",
       "      <th>5</th>\n",
       "      <td>1337</td>\n",
       "      <td>EliteCoin</td>\n",
       "      <td>X13</td>\n",
       "      <td>True</td>\n",
       "      <td>PoW/PoS</td>\n",
       "      <td>2.927942e+10</td>\n",
       "      <td>314159265359</td>\n",
       "    </tr>\n",
       "    <tr>\n",
       "      <th>6</th>\n",
       "      <td>2015</td>\n",
       "      <td>2015 coin</td>\n",
       "      <td>X11</td>\n",
       "      <td>True</td>\n",
       "      <td>PoW/PoS</td>\n",
       "      <td>NaN</td>\n",
       "      <td>0</td>\n",
       "    </tr>\n",
       "    <tr>\n",
       "      <th>7</th>\n",
       "      <td>BTC</td>\n",
       "      <td>Bitcoin</td>\n",
       "      <td>SHA-256</td>\n",
       "      <td>True</td>\n",
       "      <td>PoW</td>\n",
       "      <td>1.792718e+07</td>\n",
       "      <td>21000000</td>\n",
       "    </tr>\n",
       "    <tr>\n",
       "      <th>8</th>\n",
       "      <td>ETH</td>\n",
       "      <td>Ethereum</td>\n",
       "      <td>Ethash</td>\n",
       "      <td>True</td>\n",
       "      <td>PoW</td>\n",
       "      <td>1.076842e+08</td>\n",
       "      <td>0</td>\n",
       "    </tr>\n",
       "    <tr>\n",
       "      <th>9</th>\n",
       "      <td>LTC</td>\n",
       "      <td>Litecoin</td>\n",
       "      <td>Scrypt</td>\n",
       "      <td>True</td>\n",
       "      <td>PoW</td>\n",
       "      <td>6.303924e+07</td>\n",
       "      <td>84000000</td>\n",
       "    </tr>\n",
       "  </tbody>\n",
       "</table>\n",
       "</div>"
      ],
      "text/plain": [
       "  Unnamed: 0   CoinName Algorithm  IsTrading ProofType  TotalCoinsMined  \\\n",
       "0         42    42 Coin    Scrypt       True   PoW/PoS     4.199995e+01   \n",
       "1        365    365Coin       X11       True   PoW/PoS              NaN   \n",
       "2        404    404Coin    Scrypt       True   PoW/PoS     1.055185e+09   \n",
       "3        611  SixEleven   SHA-256       True       PoW              NaN   \n",
       "4        808        808   SHA-256       True   PoW/PoS     0.000000e+00   \n",
       "5       1337  EliteCoin       X13       True   PoW/PoS     2.927942e+10   \n",
       "6       2015  2015 coin       X11       True   PoW/PoS              NaN   \n",
       "7        BTC    Bitcoin   SHA-256       True       PoW     1.792718e+07   \n",
       "8        ETH   Ethereum    Ethash       True       PoW     1.076842e+08   \n",
       "9        LTC   Litecoin    Scrypt       True       PoW     6.303924e+07   \n",
       "\n",
       "  TotalCoinSupply  \n",
       "0              42  \n",
       "1      2300000000  \n",
       "2       532000000  \n",
       "3          611000  \n",
       "4               0  \n",
       "5    314159265359  \n",
       "6               0  \n",
       "7        21000000  \n",
       "8               0  \n",
       "9        84000000  "
      ]
     },
     "execution_count": 12,
     "metadata": {},
     "output_type": "execute_result"
    }
   ],
   "source": [
    "# Load the crypto_data.csv dataset.\n",
    "file_path = \"Resources/crypto_data.csv\"\n",
    "crypto_df = pd.read_csv(file_path)\n",
    "crypto_df.head(10)"
   ]
  },
  {
   "cell_type": "code",
   "execution_count": 13,
   "metadata": {},
   "outputs": [
    {
     "name": "stdout",
     "output_type": "stream",
     "text": [
      "(1144, 7)\n"
     ]
    },
    {
     "data": {
      "text/html": [
       "<div>\n",
       "<style scoped>\n",
       "    .dataframe tbody tr th:only-of-type {\n",
       "        vertical-align: middle;\n",
       "    }\n",
       "\n",
       "    .dataframe tbody tr th {\n",
       "        vertical-align: top;\n",
       "    }\n",
       "\n",
       "    .dataframe thead th {\n",
       "        text-align: right;\n",
       "    }\n",
       "</style>\n",
       "<table border=\"1\" class=\"dataframe\">\n",
       "  <thead>\n",
       "    <tr style=\"text-align: right;\">\n",
       "      <th></th>\n",
       "      <th>Unnamed: 0</th>\n",
       "      <th>CoinName</th>\n",
       "      <th>Algorithm</th>\n",
       "      <th>IsTrading</th>\n",
       "      <th>ProofType</th>\n",
       "      <th>TotalCoinsMined</th>\n",
       "      <th>TotalCoinSupply</th>\n",
       "    </tr>\n",
       "  </thead>\n",
       "  <tbody>\n",
       "    <tr>\n",
       "      <th>0</th>\n",
       "      <td>42</td>\n",
       "      <td>42 Coin</td>\n",
       "      <td>Scrypt</td>\n",
       "      <td>True</td>\n",
       "      <td>PoW/PoS</td>\n",
       "      <td>4.199995e+01</td>\n",
       "      <td>42</td>\n",
       "    </tr>\n",
       "    <tr>\n",
       "      <th>1</th>\n",
       "      <td>365</td>\n",
       "      <td>365Coin</td>\n",
       "      <td>X11</td>\n",
       "      <td>True</td>\n",
       "      <td>PoW/PoS</td>\n",
       "      <td>NaN</td>\n",
       "      <td>2300000000</td>\n",
       "    </tr>\n",
       "    <tr>\n",
       "      <th>2</th>\n",
       "      <td>404</td>\n",
       "      <td>404Coin</td>\n",
       "      <td>Scrypt</td>\n",
       "      <td>True</td>\n",
       "      <td>PoW/PoS</td>\n",
       "      <td>1.055185e+09</td>\n",
       "      <td>532000000</td>\n",
       "    </tr>\n",
       "    <tr>\n",
       "      <th>3</th>\n",
       "      <td>611</td>\n",
       "      <td>SixEleven</td>\n",
       "      <td>SHA-256</td>\n",
       "      <td>True</td>\n",
       "      <td>PoW</td>\n",
       "      <td>NaN</td>\n",
       "      <td>611000</td>\n",
       "    </tr>\n",
       "    <tr>\n",
       "      <th>4</th>\n",
       "      <td>808</td>\n",
       "      <td>808</td>\n",
       "      <td>SHA-256</td>\n",
       "      <td>True</td>\n",
       "      <td>PoW/PoS</td>\n",
       "      <td>0.000000e+00</td>\n",
       "      <td>0</td>\n",
       "    </tr>\n",
       "  </tbody>\n",
       "</table>\n",
       "</div>"
      ],
      "text/plain": [
       "  Unnamed: 0   CoinName Algorithm  IsTrading ProofType  TotalCoinsMined  \\\n",
       "0         42    42 Coin    Scrypt       True   PoW/PoS     4.199995e+01   \n",
       "1        365    365Coin       X11       True   PoW/PoS              NaN   \n",
       "2        404    404Coin    Scrypt       True   PoW/PoS     1.055185e+09   \n",
       "3        611  SixEleven   SHA-256       True       PoW              NaN   \n",
       "4        808        808   SHA-256       True   PoW/PoS     0.000000e+00   \n",
       "\n",
       "  TotalCoinSupply  \n",
       "0              42  \n",
       "1      2300000000  \n",
       "2       532000000  \n",
       "3          611000  \n",
       "4               0  "
      ]
     },
     "execution_count": 13,
     "metadata": {},
     "output_type": "execute_result"
    }
   ],
   "source": [
    "# Keep all the cryptocurrencies that are being traded.\n",
    "crypto_df.drop(crypto_df[crypto_df['IsTrading']==False].index, inplace=True)\n",
    "print(crypto_df.shape)\n",
    "crypto_df.head()"
   ]
  },
  {
   "cell_type": "code",
   "execution_count": 14,
   "metadata": {},
   "outputs": [
    {
     "name": "stdout",
     "output_type": "stream",
     "text": [
      "Unnamed: 0 column has 0 null values\n",
      "CoinName column has 0 null values\n",
      "Algorithm column has 0 null values\n",
      "IsTrading column has 0 null values\n",
      "ProofType column has 0 null values\n",
      "TotalCoinsMined column has 459 null values\n",
      "TotalCoinSupply column has 0 null values\n"
     ]
    }
   ],
   "source": [
    "# Keep all the cryptocurrencies that have a working algorithm.\n",
    "for column in crypto_df.columns:\n",
    "    print(f\"{column} column has {crypto_df[column].isnull().sum()} null values\")"
   ]
  },
  {
   "cell_type": "code",
   "execution_count": 15,
   "metadata": {},
   "outputs": [
    {
     "name": "stdout",
     "output_type": "stream",
     "text": [
      "(1144, 6)\n"
     ]
    },
    {
     "data": {
      "text/html": [
       "<div>\n",
       "<style scoped>\n",
       "    .dataframe tbody tr th:only-of-type {\n",
       "        vertical-align: middle;\n",
       "    }\n",
       "\n",
       "    .dataframe tbody tr th {\n",
       "        vertical-align: top;\n",
       "    }\n",
       "\n",
       "    .dataframe thead th {\n",
       "        text-align: right;\n",
       "    }\n",
       "</style>\n",
       "<table border=\"1\" class=\"dataframe\">\n",
       "  <thead>\n",
       "    <tr style=\"text-align: right;\">\n",
       "      <th></th>\n",
       "      <th>Unnamed: 0</th>\n",
       "      <th>CoinName</th>\n",
       "      <th>Algorithm</th>\n",
       "      <th>ProofType</th>\n",
       "      <th>TotalCoinsMined</th>\n",
       "      <th>TotalCoinSupply</th>\n",
       "    </tr>\n",
       "  </thead>\n",
       "  <tbody>\n",
       "    <tr>\n",
       "      <th>0</th>\n",
       "      <td>42</td>\n",
       "      <td>42 Coin</td>\n",
       "      <td>Scrypt</td>\n",
       "      <td>PoW/PoS</td>\n",
       "      <td>4.199995e+01</td>\n",
       "      <td>42</td>\n",
       "    </tr>\n",
       "    <tr>\n",
       "      <th>1</th>\n",
       "      <td>365</td>\n",
       "      <td>365Coin</td>\n",
       "      <td>X11</td>\n",
       "      <td>PoW/PoS</td>\n",
       "      <td>NaN</td>\n",
       "      <td>2300000000</td>\n",
       "    </tr>\n",
       "    <tr>\n",
       "      <th>2</th>\n",
       "      <td>404</td>\n",
       "      <td>404Coin</td>\n",
       "      <td>Scrypt</td>\n",
       "      <td>PoW/PoS</td>\n",
       "      <td>1.055185e+09</td>\n",
       "      <td>532000000</td>\n",
       "    </tr>\n",
       "    <tr>\n",
       "      <th>3</th>\n",
       "      <td>611</td>\n",
       "      <td>SixEleven</td>\n",
       "      <td>SHA-256</td>\n",
       "      <td>PoW</td>\n",
       "      <td>NaN</td>\n",
       "      <td>611000</td>\n",
       "    </tr>\n",
       "    <tr>\n",
       "      <th>4</th>\n",
       "      <td>808</td>\n",
       "      <td>808</td>\n",
       "      <td>SHA-256</td>\n",
       "      <td>PoW/PoS</td>\n",
       "      <td>0.000000e+00</td>\n",
       "      <td>0</td>\n",
       "    </tr>\n",
       "  </tbody>\n",
       "</table>\n",
       "</div>"
      ],
      "text/plain": [
       "  Unnamed: 0   CoinName Algorithm ProofType  TotalCoinsMined TotalCoinSupply\n",
       "0         42    42 Coin    Scrypt   PoW/PoS     4.199995e+01              42\n",
       "1        365    365Coin       X11   PoW/PoS              NaN      2300000000\n",
       "2        404    404Coin    Scrypt   PoW/PoS     1.055185e+09       532000000\n",
       "3        611  SixEleven   SHA-256       PoW              NaN          611000\n",
       "4        808        808   SHA-256   PoW/PoS     0.000000e+00               0"
      ]
     },
     "execution_count": 15,
     "metadata": {},
     "output_type": "execute_result"
    }
   ],
   "source": [
    "# Remove the \"IsTrading\" column. \n",
    "crypto_df.drop(columns = ['IsTrading'], inplace=True)\n",
    "print(crypto_df.shape)\n",
    "crypto_df.head()"
   ]
  },
  {
   "cell_type": "code",
   "execution_count": 27,
   "metadata": {},
   "outputs": [
    {
     "name": "stdout",
     "output_type": "stream",
     "text": [
      "(685, 6)\n"
     ]
    },
    {
     "data": {
      "text/html": [
       "<div>\n",
       "<style scoped>\n",
       "    .dataframe tbody tr th:only-of-type {\n",
       "        vertical-align: middle;\n",
       "    }\n",
       "\n",
       "    .dataframe tbody tr th {\n",
       "        vertical-align: top;\n",
       "    }\n",
       "\n",
       "    .dataframe thead th {\n",
       "        text-align: right;\n",
       "    }\n",
       "</style>\n",
       "<table border=\"1\" class=\"dataframe\">\n",
       "  <thead>\n",
       "    <tr style=\"text-align: right;\">\n",
       "      <th></th>\n",
       "      <th>Unnamed: 0</th>\n",
       "      <th>CoinName</th>\n",
       "      <th>Algorithm</th>\n",
       "      <th>ProofType</th>\n",
       "      <th>TotalCoinsMined</th>\n",
       "      <th>TotalCoinSupply</th>\n",
       "    </tr>\n",
       "  </thead>\n",
       "  <tbody>\n",
       "    <tr>\n",
       "      <th>0</th>\n",
       "      <td>42</td>\n",
       "      <td>42 Coin</td>\n",
       "      <td>Scrypt</td>\n",
       "      <td>PoW/PoS</td>\n",
       "      <td>4.199995e+01</td>\n",
       "      <td>42</td>\n",
       "    </tr>\n",
       "    <tr>\n",
       "      <th>2</th>\n",
       "      <td>404</td>\n",
       "      <td>404Coin</td>\n",
       "      <td>Scrypt</td>\n",
       "      <td>PoW/PoS</td>\n",
       "      <td>1.055185e+09</td>\n",
       "      <td>532000000</td>\n",
       "    </tr>\n",
       "    <tr>\n",
       "      <th>4</th>\n",
       "      <td>808</td>\n",
       "      <td>808</td>\n",
       "      <td>SHA-256</td>\n",
       "      <td>PoW/PoS</td>\n",
       "      <td>0.000000e+00</td>\n",
       "      <td>0</td>\n",
       "    </tr>\n",
       "    <tr>\n",
       "      <th>5</th>\n",
       "      <td>1337</td>\n",
       "      <td>EliteCoin</td>\n",
       "      <td>X13</td>\n",
       "      <td>PoW/PoS</td>\n",
       "      <td>2.927942e+10</td>\n",
       "      <td>314159265359</td>\n",
       "    </tr>\n",
       "    <tr>\n",
       "      <th>7</th>\n",
       "      <td>BTC</td>\n",
       "      <td>Bitcoin</td>\n",
       "      <td>SHA-256</td>\n",
       "      <td>PoW</td>\n",
       "      <td>1.792718e+07</td>\n",
       "      <td>21000000</td>\n",
       "    </tr>\n",
       "  </tbody>\n",
       "</table>\n",
       "</div>"
      ],
      "text/plain": [
       "  Unnamed: 0   CoinName Algorithm ProofType  TotalCoinsMined TotalCoinSupply\n",
       "0         42    42 Coin    Scrypt   PoW/PoS     4.199995e+01              42\n",
       "2        404    404Coin    Scrypt   PoW/PoS     1.055185e+09       532000000\n",
       "4        808        808   SHA-256   PoW/PoS     0.000000e+00               0\n",
       "5       1337  EliteCoin       X13   PoW/PoS     2.927942e+10    314159265359\n",
       "7        BTC    Bitcoin   SHA-256       PoW     1.792718e+07        21000000"
      ]
     },
     "execution_count": 27,
     "metadata": {},
     "output_type": "execute_result"
    }
   ],
   "source": [
    "# Remove rows that have at least 1 null value.\n",
    "crypto_df = crypto_df.dropna()\n",
    "print(crypto_df.shape)\n",
    "crypto_df.head()"
   ]
  },
  {
   "cell_type": "code",
   "execution_count": 30,
   "metadata": {},
   "outputs": [
    {
     "name": "stdout",
     "output_type": "stream",
     "text": [
      "(532, 6)\n"
     ]
    },
    {
     "data": {
      "text/html": [
       "<div>\n",
       "<style scoped>\n",
       "    .dataframe tbody tr th:only-of-type {\n",
       "        vertical-align: middle;\n",
       "    }\n",
       "\n",
       "    .dataframe tbody tr th {\n",
       "        vertical-align: top;\n",
       "    }\n",
       "\n",
       "    .dataframe thead th {\n",
       "        text-align: right;\n",
       "    }\n",
       "</style>\n",
       "<table border=\"1\" class=\"dataframe\">\n",
       "  <thead>\n",
       "    <tr style=\"text-align: right;\">\n",
       "      <th></th>\n",
       "      <th>Unnamed: 0</th>\n",
       "      <th>CoinName</th>\n",
       "      <th>Algorithm</th>\n",
       "      <th>ProofType</th>\n",
       "      <th>TotalCoinsMined</th>\n",
       "      <th>TotalCoinSupply</th>\n",
       "    </tr>\n",
       "  </thead>\n",
       "  <tbody>\n",
       "    <tr>\n",
       "      <th>0</th>\n",
       "      <td>42</td>\n",
       "      <td>42 Coin</td>\n",
       "      <td>Scrypt</td>\n",
       "      <td>PoW/PoS</td>\n",
       "      <td>4.199995e+01</td>\n",
       "      <td>42</td>\n",
       "    </tr>\n",
       "    <tr>\n",
       "      <th>2</th>\n",
       "      <td>404</td>\n",
       "      <td>404Coin</td>\n",
       "      <td>Scrypt</td>\n",
       "      <td>PoW/PoS</td>\n",
       "      <td>1.055185e+09</td>\n",
       "      <td>532000000</td>\n",
       "    </tr>\n",
       "    <tr>\n",
       "      <th>5</th>\n",
       "      <td>1337</td>\n",
       "      <td>EliteCoin</td>\n",
       "      <td>X13</td>\n",
       "      <td>PoW/PoS</td>\n",
       "      <td>2.927942e+10</td>\n",
       "      <td>314159265359</td>\n",
       "    </tr>\n",
       "    <tr>\n",
       "      <th>7</th>\n",
       "      <td>BTC</td>\n",
       "      <td>Bitcoin</td>\n",
       "      <td>SHA-256</td>\n",
       "      <td>PoW</td>\n",
       "      <td>1.792718e+07</td>\n",
       "      <td>21000000</td>\n",
       "    </tr>\n",
       "    <tr>\n",
       "      <th>8</th>\n",
       "      <td>ETH</td>\n",
       "      <td>Ethereum</td>\n",
       "      <td>Ethash</td>\n",
       "      <td>PoW</td>\n",
       "      <td>1.076842e+08</td>\n",
       "      <td>0</td>\n",
       "    </tr>\n",
       "  </tbody>\n",
       "</table>\n",
       "</div>"
      ],
      "text/plain": [
       "  Unnamed: 0   CoinName Algorithm ProofType  TotalCoinsMined TotalCoinSupply\n",
       "0         42    42 Coin    Scrypt   PoW/PoS     4.199995e+01              42\n",
       "2        404    404Coin    Scrypt   PoW/PoS     1.055185e+09       532000000\n",
       "5       1337  EliteCoin       X13   PoW/PoS     2.927942e+10    314159265359\n",
       "7        BTC    Bitcoin   SHA-256       PoW     1.792718e+07        21000000\n",
       "8        ETH   Ethereum    Ethash       PoW     1.076842e+08               0"
      ]
     },
     "execution_count": 30,
     "metadata": {},
     "output_type": "execute_result"
    }
   ],
   "source": [
    "# Keep the rows where coins are mined.\n",
    "crypto_df.drop(crypto_df[crypto_df['TotalCoinsMined'] <=1].index, inplace=True)\n",
    "print(crypto_df.shape)\n",
    "crypto_df.head()"
   ]
  },
  {
   "cell_type": "code",
   "execution_count": 32,
   "metadata": {},
   "outputs": [
    {
     "data": {
      "text/html": [
       "<div>\n",
       "<style scoped>\n",
       "    .dataframe tbody tr th:only-of-type {\n",
       "        vertical-align: middle;\n",
       "    }\n",
       "\n",
       "    .dataframe tbody tr th {\n",
       "        vertical-align: top;\n",
       "    }\n",
       "\n",
       "    .dataframe thead th {\n",
       "        text-align: right;\n",
       "    }\n",
       "</style>\n",
       "<table border=\"1\" class=\"dataframe\">\n",
       "  <thead>\n",
       "    <tr style=\"text-align: right;\">\n",
       "      <th></th>\n",
       "      <th>CoinName</th>\n",
       "    </tr>\n",
       "  </thead>\n",
       "  <tbody>\n",
       "    <tr>\n",
       "      <th>0</th>\n",
       "      <td>42 Coin</td>\n",
       "    </tr>\n",
       "    <tr>\n",
       "      <th>2</th>\n",
       "      <td>404Coin</td>\n",
       "    </tr>\n",
       "    <tr>\n",
       "      <th>5</th>\n",
       "      <td>EliteCoin</td>\n",
       "    </tr>\n",
       "    <tr>\n",
       "      <th>7</th>\n",
       "      <td>Bitcoin</td>\n",
       "    </tr>\n",
       "    <tr>\n",
       "      <th>8</th>\n",
       "      <td>Ethereum</td>\n",
       "    </tr>\n",
       "  </tbody>\n",
       "</table>\n",
       "</div>"
      ],
      "text/plain": [
       "    CoinName\n",
       "0    42 Coin\n",
       "2    404Coin\n",
       "5  EliteCoin\n",
       "7    Bitcoin\n",
       "8   Ethereum"
      ]
     },
     "execution_count": 32,
     "metadata": {},
     "output_type": "execute_result"
    }
   ],
   "source": [
    "# Create a new DataFrame that holds only the cryptocurrencies names.\n",
    "crypto_name = pd.DataFrame(crypto_df[\"CoinName\"])\n",
    "crypto_name.head()"
   ]
  },
  {
   "cell_type": "code",
   "execution_count": 33,
   "metadata": {},
   "outputs": [
    {
     "name": "stdout",
     "output_type": "stream",
     "text": [
      "(532, 5)\n"
     ]
    },
    {
     "data": {
      "text/html": [
       "<div>\n",
       "<style scoped>\n",
       "    .dataframe tbody tr th:only-of-type {\n",
       "        vertical-align: middle;\n",
       "    }\n",
       "\n",
       "    .dataframe tbody tr th {\n",
       "        vertical-align: top;\n",
       "    }\n",
       "\n",
       "    .dataframe thead th {\n",
       "        text-align: right;\n",
       "    }\n",
       "</style>\n",
       "<table border=\"1\" class=\"dataframe\">\n",
       "  <thead>\n",
       "    <tr style=\"text-align: right;\">\n",
       "      <th></th>\n",
       "      <th>Unnamed: 0</th>\n",
       "      <th>Algorithm</th>\n",
       "      <th>ProofType</th>\n",
       "      <th>TotalCoinsMined</th>\n",
       "      <th>TotalCoinSupply</th>\n",
       "    </tr>\n",
       "  </thead>\n",
       "  <tbody>\n",
       "    <tr>\n",
       "      <th>0</th>\n",
       "      <td>42</td>\n",
       "      <td>Scrypt</td>\n",
       "      <td>PoW/PoS</td>\n",
       "      <td>4.199995e+01</td>\n",
       "      <td>42</td>\n",
       "    </tr>\n",
       "    <tr>\n",
       "      <th>2</th>\n",
       "      <td>404</td>\n",
       "      <td>Scrypt</td>\n",
       "      <td>PoW/PoS</td>\n",
       "      <td>1.055185e+09</td>\n",
       "      <td>532000000</td>\n",
       "    </tr>\n",
       "    <tr>\n",
       "      <th>5</th>\n",
       "      <td>1337</td>\n",
       "      <td>X13</td>\n",
       "      <td>PoW/PoS</td>\n",
       "      <td>2.927942e+10</td>\n",
       "      <td>314159265359</td>\n",
       "    </tr>\n",
       "    <tr>\n",
       "      <th>7</th>\n",
       "      <td>BTC</td>\n",
       "      <td>SHA-256</td>\n",
       "      <td>PoW</td>\n",
       "      <td>1.792718e+07</td>\n",
       "      <td>21000000</td>\n",
       "    </tr>\n",
       "    <tr>\n",
       "      <th>8</th>\n",
       "      <td>ETH</td>\n",
       "      <td>Ethash</td>\n",
       "      <td>PoW</td>\n",
       "      <td>1.076842e+08</td>\n",
       "      <td>0</td>\n",
       "    </tr>\n",
       "  </tbody>\n",
       "</table>\n",
       "</div>"
      ],
      "text/plain": [
       "  Unnamed: 0 Algorithm ProofType  TotalCoinsMined TotalCoinSupply\n",
       "0         42    Scrypt   PoW/PoS     4.199995e+01              42\n",
       "2        404    Scrypt   PoW/PoS     1.055185e+09       532000000\n",
       "5       1337       X13   PoW/PoS     2.927942e+10    314159265359\n",
       "7        BTC   SHA-256       PoW     1.792718e+07        21000000\n",
       "8        ETH    Ethash       PoW     1.076842e+08               0"
      ]
     },
     "execution_count": 33,
     "metadata": {},
     "output_type": "execute_result"
    }
   ],
   "source": [
    "# Drop the 'CoinName' column since it's not going to be used on the clustering algorithm.\n",
    "crypto_df.drop(columns = ['CoinName'], inplace=True)\n",
    "print(crypto_df.shape)\n",
    "crypto_df.head()"
   ]
  },
  {
   "cell_type": "code",
   "execution_count": 39,
   "metadata": {},
   "outputs": [
    {
     "name": "stdout",
     "output_type": "stream",
     "text": [
      "(532, 4)\n"
     ]
    },
    {
     "data": {
      "text/html": [
       "<div>\n",
       "<style scoped>\n",
       "    .dataframe tbody tr th:only-of-type {\n",
       "        vertical-align: middle;\n",
       "    }\n",
       "\n",
       "    .dataframe tbody tr th {\n",
       "        vertical-align: top;\n",
       "    }\n",
       "\n",
       "    .dataframe thead th {\n",
       "        text-align: right;\n",
       "    }\n",
       "</style>\n",
       "<table border=\"1\" class=\"dataframe\">\n",
       "  <thead>\n",
       "    <tr style=\"text-align: right;\">\n",
       "      <th></th>\n",
       "      <th>Algorithm</th>\n",
       "      <th>ProofType</th>\n",
       "      <th>TotalCoinsMined</th>\n",
       "      <th>TotalCoinSupply</th>\n",
       "    </tr>\n",
       "  </thead>\n",
       "  <tbody>\n",
       "    <tr>\n",
       "      <th>0</th>\n",
       "      <td>Scrypt</td>\n",
       "      <td>PoW/PoS</td>\n",
       "      <td>4.199995e+01</td>\n",
       "      <td>42</td>\n",
       "    </tr>\n",
       "    <tr>\n",
       "      <th>2</th>\n",
       "      <td>Scrypt</td>\n",
       "      <td>PoW/PoS</td>\n",
       "      <td>1.055185e+09</td>\n",
       "      <td>532000000</td>\n",
       "    </tr>\n",
       "    <tr>\n",
       "      <th>5</th>\n",
       "      <td>X13</td>\n",
       "      <td>PoW/PoS</td>\n",
       "      <td>2.927942e+10</td>\n",
       "      <td>314159265359</td>\n",
       "    </tr>\n",
       "    <tr>\n",
       "      <th>7</th>\n",
       "      <td>SHA-256</td>\n",
       "      <td>PoW</td>\n",
       "      <td>1.792718e+07</td>\n",
       "      <td>21000000</td>\n",
       "    </tr>\n",
       "    <tr>\n",
       "      <th>8</th>\n",
       "      <td>Ethash</td>\n",
       "      <td>PoW</td>\n",
       "      <td>1.076842e+08</td>\n",
       "      <td>0</td>\n",
       "    </tr>\n",
       "  </tbody>\n",
       "</table>\n",
       "</div>"
      ],
      "text/plain": [
       "  Algorithm ProofType  TotalCoinsMined TotalCoinSupply\n",
       "0    Scrypt   PoW/PoS     4.199995e+01              42\n",
       "2    Scrypt   PoW/PoS     1.055185e+09       532000000\n",
       "5       X13   PoW/PoS     2.927942e+10    314159265359\n",
       "7   SHA-256       PoW     1.792718e+07        21000000\n",
       "8    Ethash       PoW     1.076842e+08               0"
      ]
     },
     "execution_count": 39,
     "metadata": {},
     "output_type": "execute_result"
    }
   ],
   "source": [
    "crypto_df.drop(columns = ['Unnamed: 0'], inplace=True)\n",
    "print(crypto_df.shape)\n",
    "crypto_df.head()"
   ]
  },
  {
   "cell_type": "code",
   "execution_count": 40,
   "metadata": {},
   "outputs": [
    {
     "data": {
      "text/html": [
       "<div>\n",
       "<style scoped>\n",
       "    .dataframe tbody tr th:only-of-type {\n",
       "        vertical-align: middle;\n",
       "    }\n",
       "\n",
       "    .dataframe tbody tr th {\n",
       "        vertical-align: top;\n",
       "    }\n",
       "\n",
       "    .dataframe thead th {\n",
       "        text-align: right;\n",
       "    }\n",
       "</style>\n",
       "<table border=\"1\" class=\"dataframe\">\n",
       "  <thead>\n",
       "    <tr style=\"text-align: right;\">\n",
       "      <th></th>\n",
       "      <th>TotalCoinsMined</th>\n",
       "      <th>TotalCoinSupply</th>\n",
       "      <th>Algorithm_1GB AES Pattern Search</th>\n",
       "      <th>Algorithm_536</th>\n",
       "      <th>Algorithm_Argon2d</th>\n",
       "      <th>Algorithm_BLAKE256</th>\n",
       "      <th>Algorithm_Blake</th>\n",
       "      <th>Algorithm_Blake2S</th>\n",
       "      <th>Algorithm_Blake2b</th>\n",
       "      <th>Algorithm_C11</th>\n",
       "      <th>...</th>\n",
       "      <th>ProofType_PoW/PoS</th>\n",
       "      <th>ProofType_PoW/PoS</th>\n",
       "      <th>ProofType_PoW/PoW</th>\n",
       "      <th>ProofType_PoW/nPoS</th>\n",
       "      <th>ProofType_Pos</th>\n",
       "      <th>ProofType_Proof of Authority</th>\n",
       "      <th>ProofType_Proof of Trust</th>\n",
       "      <th>ProofType_TPoS</th>\n",
       "      <th>ProofType_Zero-Knowledge Proof</th>\n",
       "      <th>ProofType_dPoW/PoW</th>\n",
       "    </tr>\n",
       "  </thead>\n",
       "  <tbody>\n",
       "    <tr>\n",
       "      <th>0</th>\n",
       "      <td>4.199995e+01</td>\n",
       "      <td>42</td>\n",
       "      <td>0</td>\n",
       "      <td>0</td>\n",
       "      <td>0</td>\n",
       "      <td>0</td>\n",
       "      <td>0</td>\n",
       "      <td>0</td>\n",
       "      <td>0</td>\n",
       "      <td>0</td>\n",
       "      <td>...</td>\n",
       "      <td>1</td>\n",
       "      <td>0</td>\n",
       "      <td>0</td>\n",
       "      <td>0</td>\n",
       "      <td>0</td>\n",
       "      <td>0</td>\n",
       "      <td>0</td>\n",
       "      <td>0</td>\n",
       "      <td>0</td>\n",
       "      <td>0</td>\n",
       "    </tr>\n",
       "    <tr>\n",
       "      <th>2</th>\n",
       "      <td>1.055185e+09</td>\n",
       "      <td>532000000</td>\n",
       "      <td>0</td>\n",
       "      <td>0</td>\n",
       "      <td>0</td>\n",
       "      <td>0</td>\n",
       "      <td>0</td>\n",
       "      <td>0</td>\n",
       "      <td>0</td>\n",
       "      <td>0</td>\n",
       "      <td>...</td>\n",
       "      <td>1</td>\n",
       "      <td>0</td>\n",
       "      <td>0</td>\n",
       "      <td>0</td>\n",
       "      <td>0</td>\n",
       "      <td>0</td>\n",
       "      <td>0</td>\n",
       "      <td>0</td>\n",
       "      <td>0</td>\n",
       "      <td>0</td>\n",
       "    </tr>\n",
       "    <tr>\n",
       "      <th>5</th>\n",
       "      <td>2.927942e+10</td>\n",
       "      <td>314159265359</td>\n",
       "      <td>0</td>\n",
       "      <td>0</td>\n",
       "      <td>0</td>\n",
       "      <td>0</td>\n",
       "      <td>0</td>\n",
       "      <td>0</td>\n",
       "      <td>0</td>\n",
       "      <td>0</td>\n",
       "      <td>...</td>\n",
       "      <td>1</td>\n",
       "      <td>0</td>\n",
       "      <td>0</td>\n",
       "      <td>0</td>\n",
       "      <td>0</td>\n",
       "      <td>0</td>\n",
       "      <td>0</td>\n",
       "      <td>0</td>\n",
       "      <td>0</td>\n",
       "      <td>0</td>\n",
       "    </tr>\n",
       "    <tr>\n",
       "      <th>7</th>\n",
       "      <td>1.792718e+07</td>\n",
       "      <td>21000000</td>\n",
       "      <td>0</td>\n",
       "      <td>0</td>\n",
       "      <td>0</td>\n",
       "      <td>0</td>\n",
       "      <td>0</td>\n",
       "      <td>0</td>\n",
       "      <td>0</td>\n",
       "      <td>0</td>\n",
       "      <td>...</td>\n",
       "      <td>0</td>\n",
       "      <td>0</td>\n",
       "      <td>0</td>\n",
       "      <td>0</td>\n",
       "      <td>0</td>\n",
       "      <td>0</td>\n",
       "      <td>0</td>\n",
       "      <td>0</td>\n",
       "      <td>0</td>\n",
       "      <td>0</td>\n",
       "    </tr>\n",
       "    <tr>\n",
       "      <th>8</th>\n",
       "      <td>1.076842e+08</td>\n",
       "      <td>0</td>\n",
       "      <td>0</td>\n",
       "      <td>0</td>\n",
       "      <td>0</td>\n",
       "      <td>0</td>\n",
       "      <td>0</td>\n",
       "      <td>0</td>\n",
       "      <td>0</td>\n",
       "      <td>0</td>\n",
       "      <td>...</td>\n",
       "      <td>0</td>\n",
       "      <td>0</td>\n",
       "      <td>0</td>\n",
       "      <td>0</td>\n",
       "      <td>0</td>\n",
       "      <td>0</td>\n",
       "      <td>0</td>\n",
       "      <td>0</td>\n",
       "      <td>0</td>\n",
       "      <td>0</td>\n",
       "    </tr>\n",
       "  </tbody>\n",
       "</table>\n",
       "<p>5 rows × 98 columns</p>\n",
       "</div>"
      ],
      "text/plain": [
       "   TotalCoinsMined TotalCoinSupply  Algorithm_1GB AES Pattern Search  \\\n",
       "0     4.199995e+01              42                                 0   \n",
       "2     1.055185e+09       532000000                                 0   \n",
       "5     2.927942e+10    314159265359                                 0   \n",
       "7     1.792718e+07        21000000                                 0   \n",
       "8     1.076842e+08               0                                 0   \n",
       "\n",
       "   Algorithm_536  Algorithm_Argon2d  Algorithm_BLAKE256  Algorithm_Blake  \\\n",
       "0              0                  0                   0                0   \n",
       "2              0                  0                   0                0   \n",
       "5              0                  0                   0                0   \n",
       "7              0                  0                   0                0   \n",
       "8              0                  0                   0                0   \n",
       "\n",
       "   Algorithm_Blake2S  Algorithm_Blake2b  Algorithm_C11  ...  \\\n",
       "0                  0                  0              0  ...   \n",
       "2                  0                  0              0  ...   \n",
       "5                  0                  0              0  ...   \n",
       "7                  0                  0              0  ...   \n",
       "8                  0                  0              0  ...   \n",
       "\n",
       "   ProofType_PoW/PoS  ProofType_PoW/PoS   ProofType_PoW/PoW  \\\n",
       "0                  1                   0                  0   \n",
       "2                  1                   0                  0   \n",
       "5                  1                   0                  0   \n",
       "7                  0                   0                  0   \n",
       "8                  0                   0                  0   \n",
       "\n",
       "   ProofType_PoW/nPoS  ProofType_Pos  ProofType_Proof of Authority  \\\n",
       "0                   0              0                             0   \n",
       "2                   0              0                             0   \n",
       "5                   0              0                             0   \n",
       "7                   0              0                             0   \n",
       "8                   0              0                             0   \n",
       "\n",
       "   ProofType_Proof of Trust  ProofType_TPoS  ProofType_Zero-Knowledge Proof  \\\n",
       "0                         0               0                               0   \n",
       "2                         0               0                               0   \n",
       "5                         0               0                               0   \n",
       "7                         0               0                               0   \n",
       "8                         0               0                               0   \n",
       "\n",
       "   ProofType_dPoW/PoW  \n",
       "0                   0  \n",
       "2                   0  \n",
       "5                   0  \n",
       "7                   0  \n",
       "8                   0  \n",
       "\n",
       "[5 rows x 98 columns]"
      ]
     },
     "execution_count": 40,
     "metadata": {},
     "output_type": "execute_result"
    }
   ],
   "source": [
    "# Use get_dummies() to create variables for text features.\n",
    "crypto_dummies = pd.get_dummies(crypto_df, prefix=['Algorithm', 'ProofType'], columns=['Algorithm', 'ProofType'])\n",
    "crypto_dummies.head()"
   ]
  },
  {
   "cell_type": "code",
   "execution_count": 41,
   "metadata": {},
   "outputs": [
    {
     "data": {
      "text/plain": [
       "array([[-0.11710817, -0.1528703 , -0.0433963 , ..., -0.0433963 ,\n",
       "        -0.0433963 , -0.0433963 ],\n",
       "       [-0.09396955, -0.145009  , -0.0433963 , ..., -0.0433963 ,\n",
       "        -0.0433963 , -0.0433963 ],\n",
       "       [ 0.52494561,  4.48942416, -0.0433963 , ..., -0.0433963 ,\n",
       "        -0.0433963 , -0.0433963 ],\n",
       "       ...,\n",
       "       [-0.09561336, -0.13217937, -0.0433963 , ..., -0.0433963 ,\n",
       "        -0.0433963 , -0.0433963 ],\n",
       "       [-0.11694817, -0.15255998, -0.0433963 , ..., -0.0433963 ,\n",
       "        -0.0433963 , -0.0433963 ],\n",
       "       [-0.11710536, -0.15285552, -0.0433963 , ..., -0.0433963 ,\n",
       "        -0.0433963 , -0.0433963 ]])"
      ]
     },
     "execution_count": 41,
     "metadata": {},
     "output_type": "execute_result"
    }
   ],
   "source": [
    "# Standardize the data with StandardScaler().\n",
    "x_scaled = StandardScaler().fit_transform(crypto_dummies)\n",
    "x_scaled"
   ]
  },
  {
   "cell_type": "markdown",
   "metadata": {},
   "source": [
    "### Deliverable 2: Reducing Data Dimensions Using PCA"
   ]
  },
  {
   "cell_type": "code",
   "execution_count": 42,
   "metadata": {},
   "outputs": [
    {
     "data": {
      "text/plain": [
       "array([[-0.33306482,  1.06756957, -0.58225127],\n",
       "       [-0.3164164 ,  1.06782627, -0.58268657],\n",
       "       [ 2.29833451,  1.69992031, -0.68462816],\n",
       "       ...,\n",
       "       [ 0.31555779, -2.29289399,  0.44426359],\n",
       "       [-0.16456629, -2.05137659,  0.33682483],\n",
       "       [-0.28555748,  0.82372113, -0.29604775]])"
      ]
     },
     "execution_count": 42,
     "metadata": {},
     "output_type": "execute_result"
    }
   ],
   "source": [
    "# Using PCA to reduce dimension to three principal components.\n",
    "pca = PCA(n_components=3)\n",
    "crypto_pca = pca.fit_transform(x_scaled)\n",
    "crypto_pca"
   ]
  },
  {
   "cell_type": "code",
   "execution_count": 43,
   "metadata": {},
   "outputs": [
    {
     "name": "stdout",
     "output_type": "stream",
     "text": [
      "(532, 3)\n"
     ]
    },
    {
     "data": {
      "text/html": [
       "<div>\n",
       "<style scoped>\n",
       "    .dataframe tbody tr th:only-of-type {\n",
       "        vertical-align: middle;\n",
       "    }\n",
       "\n",
       "    .dataframe tbody tr th {\n",
       "        vertical-align: top;\n",
       "    }\n",
       "\n",
       "    .dataframe thead th {\n",
       "        text-align: right;\n",
       "    }\n",
       "</style>\n",
       "<table border=\"1\" class=\"dataframe\">\n",
       "  <thead>\n",
       "    <tr style=\"text-align: right;\">\n",
       "      <th></th>\n",
       "      <th>PC 1</th>\n",
       "      <th>PC 2</th>\n",
       "      <th>PC 3</th>\n",
       "    </tr>\n",
       "  </thead>\n",
       "  <tbody>\n",
       "    <tr>\n",
       "      <th>0</th>\n",
       "      <td>-0.333065</td>\n",
       "      <td>1.067570</td>\n",
       "      <td>-0.582251</td>\n",
       "    </tr>\n",
       "    <tr>\n",
       "      <th>2</th>\n",
       "      <td>-0.316416</td>\n",
       "      <td>1.067826</td>\n",
       "      <td>-0.582687</td>\n",
       "    </tr>\n",
       "    <tr>\n",
       "      <th>5</th>\n",
       "      <td>2.298335</td>\n",
       "      <td>1.699920</td>\n",
       "      <td>-0.684628</td>\n",
       "    </tr>\n",
       "    <tr>\n",
       "      <th>7</th>\n",
       "      <td>-0.144602</td>\n",
       "      <td>-1.332097</td>\n",
       "      <td>0.194247</td>\n",
       "    </tr>\n",
       "    <tr>\n",
       "      <th>8</th>\n",
       "      <td>-0.153569</td>\n",
       "      <td>-2.034055</td>\n",
       "      <td>0.395247</td>\n",
       "    </tr>\n",
       "  </tbody>\n",
       "</table>\n",
       "</div>"
      ],
      "text/plain": [
       "       PC 1      PC 2      PC 3\n",
       "0 -0.333065  1.067570 -0.582251\n",
       "2 -0.316416  1.067826 -0.582687\n",
       "5  2.298335  1.699920 -0.684628\n",
       "7 -0.144602 -1.332097  0.194247\n",
       "8 -0.153569 -2.034055  0.395247"
      ]
     },
     "execution_count": 43,
     "metadata": {},
     "output_type": "execute_result"
    }
   ],
   "source": [
    "# Create a DataFrame with the three principal components.\n",
    "crypto_pca_df = pd.DataFrame(data=crypto_pca, columns=[\"PC 1\", \"PC 2\", \"PC 3\"],index=crypto_dummies.index)\n",
    "print(crypto_pca_df.shape)\n",
    "crypto_pca_df.head()"
   ]
  },
  {
   "cell_type": "markdown",
   "metadata": {},
   "source": [
    "### Deliverable 3: Clustering Crytocurrencies Using K-Means\n",
    "\n",
    "#### Finding the Best Value for `k` Using the Elbow Curve"
   ]
  },
  {
   "cell_type": "code",
   "execution_count": 44,
   "metadata": {},
   "outputs": [
    {
     "name": "stderr",
     "output_type": "stream",
     "text": [
      "C:\\Users\\indyh\\anaconda3\\envs\\mlenv\\lib\\site-packages\\sklearn\\cluster\\_kmeans.py:882: UserWarning: KMeans is known to have a memory leak on Windows with MKL, when there are less chunks than available threads. You can avoid it by setting the environment variable OMP_NUM_THREADS=3.\n",
      "  f\"KMeans is known to have a memory leak on Windows \"\n"
     ]
    },
    {
     "data": {},
     "metadata": {},
     "output_type": "display_data"
    },
    {
     "data": {
      "application/vnd.holoviews_exec.v0+json": "",
      "text/html": [
       "<div id='1002'>\n",
       "\n",
       "\n",
       "\n",
       "\n",
       "\n",
       "  <div class=\"bk-root\" id=\"9b0b4fca-15fb-4c8a-ba50-d0fcdce9cf33\" data-root-id=\"1002\"></div>\n",
       "</div>\n",
       "<script type=\"application/javascript\">(function(root) {\n",
       "  function embed_document(root) {\n",
       "    var docs_json = {\"dd811b99-088c-4342-b838-4f47b93618af\":{\"defs\":[{\"extends\":null,\"module\":null,\"name\":\"ReactiveHTML1\",\"overrides\":[],\"properties\":[]},{\"extends\":null,\"module\":null,\"name\":\"FlexBox1\",\"overrides\":[],\"properties\":[{\"default\":\"flex-start\",\"kind\":null,\"name\":\"align_content\"},{\"default\":\"flex-start\",\"kind\":null,\"name\":\"align_items\"},{\"default\":\"row\",\"kind\":null,\"name\":\"flex_direction\"},{\"default\":\"wrap\",\"kind\":null,\"name\":\"flex_wrap\"},{\"default\":\"flex-start\",\"kind\":null,\"name\":\"justify_content\"}]},{\"extends\":null,\"module\":null,\"name\":\"GridStack1\",\"overrides\":[],\"properties\":[{\"default\":\"warn\",\"kind\":null,\"name\":\"mode\"},{\"default\":null,\"kind\":null,\"name\":\"ncols\"},{\"default\":null,\"kind\":null,\"name\":\"nrows\"},{\"default\":true,\"kind\":null,\"name\":\"allow_resize\"},{\"default\":true,\"kind\":null,\"name\":\"allow_drag\"},{\"default\":[],\"kind\":null,\"name\":\"state\"}]},{\"extends\":null,\"module\":null,\"name\":\"click1\",\"overrides\":[],\"properties\":[{\"default\":\"\",\"kind\":null,\"name\":\"terminal_output\"},{\"default\":\"\",\"kind\":null,\"name\":\"debug_name\"},{\"default\":0,\"kind\":null,\"name\":\"clears\"}]},{\"extends\":null,\"module\":null,\"name\":\"TemplateActions1\",\"overrides\":[],\"properties\":[{\"default\":0,\"kind\":null,\"name\":\"open_modal\"},{\"default\":0,\"kind\":null,\"name\":\"close_modal\"}]},{\"extends\":null,\"module\":null,\"name\":\"MaterialTemplateActions1\",\"overrides\":[],\"properties\":[{\"default\":0,\"kind\":null,\"name\":\"open_modal\"},{\"default\":0,\"kind\":null,\"name\":\"close_modal\"}]}],\"roots\":{\"references\":[{\"attributes\":{\"line_color\":\"#30a2da\",\"line_width\":2,\"x\":{\"field\":\"k\"},\"y\":{\"field\":\"inertia\"}},\"id\":\"1045\",\"type\":\"Line\"},{\"attributes\":{\"margin\":[5,5,5,5],\"name\":\"HSpacer01631\",\"sizing_mode\":\"stretch_width\"},\"id\":\"1003\",\"type\":\"Spacer\"},{\"attributes\":{},\"id\":\"1048\",\"type\":\"BasicTickFormatter\"},{\"attributes\":{\"end\":10.0,\"reset_end\":10.0,\"reset_start\":1.0,\"start\":1.0,\"tags\":[[[\"k\",\"k\",null]]]},\"id\":\"1004\",\"type\":\"Range1d\"},{\"attributes\":{\"end\":3996.3786082537354,\"reset_end\":3996.3786082537354,\"reset_start\":-270.18931512897467,\"start\":-270.18931512897467,\"tags\":[[[\"inertia\",\"inertia\",null]]]},\"id\":\"1005\",\"type\":\"Range1d\"},{\"attributes\":{\"line_alpha\":0.2,\"line_color\":\"#30a2da\",\"line_width\":2,\"x\":{\"field\":\"k\"},\"y\":{\"field\":\"inertia\"}},\"id\":\"1042\",\"type\":\"Line\"},{\"attributes\":{},\"id\":\"1012\",\"type\":\"LinearScale\"},{\"attributes\":{\"source\":{\"id\":\"1037\"}},\"id\":\"1044\",\"type\":\"CDSView\"},{\"attributes\":{\"ticks\":[1,2,3,4,5,6,7,8,9,10]},\"id\":\"1046\",\"type\":\"FixedTicker\"},{\"attributes\":{},\"id\":\"1024\",\"type\":\"SaveTool\"},{\"attributes\":{},\"id\":\"1054\",\"type\":\"AllLabels\"},{\"attributes\":{},\"id\":\"1025\",\"type\":\"PanTool\"},{\"attributes\":{\"callback\":null,\"renderers\":[{\"id\":\"1043\"}],\"tags\":[\"hv_created\"],\"tooltips\":[[\"k\",\"@{k}\"],[\"inertia\",\"@{inertia}\"]]},\"id\":\"1006\",\"type\":\"HoverTool\"},{\"attributes\":{},\"id\":\"1028\",\"type\":\"ResetTool\"},{\"attributes\":{},\"id\":\"1061\",\"type\":\"UnionRenderers\"},{\"attributes\":{\"line_color\":\"#30a2da\",\"line_width\":2,\"x\":{\"field\":\"k\"},\"y\":{\"field\":\"inertia\"}},\"id\":\"1040\",\"type\":\"Line\"},{\"attributes\":{},\"id\":\"1026\",\"type\":\"WheelZoomTool\"},{\"attributes\":{\"data\":{\"inertia\":{\"__ndarray__\":\"BAe0nalxrEBvIHB5hVajQKSam45PypZAV8XetXSCfUAR6mGXVpRyQNEA/ra+0mxAnLwlG647ZkDAPQb00v5gQDGrBs6tTVtAmyxoqulWVUA=\",\"dtype\":\"float64\",\"order\":\"little\",\"shape\":[10]},\"k\":[1,2,3,4,5,6,7,8,9,10]},\"selected\":{\"id\":\"1038\"},\"selection_policy\":{\"id\":\"1061\"}},\"id\":\"1037\",\"type\":\"ColumnDataSource\"},{\"attributes\":{\"overlay\":{\"id\":\"1029\"}},\"id\":\"1027\",\"type\":\"BoxZoomTool\"},{\"attributes\":{\"margin\":[5,5,5,5],\"name\":\"HSpacer01632\",\"sizing_mode\":\"stretch_width\"},\"id\":\"1073\",\"type\":\"Spacer\"},{\"attributes\":{\"line_alpha\":0.1,\"line_color\":\"#30a2da\",\"line_width\":2,\"x\":{\"field\":\"k\"},\"y\":{\"field\":\"inertia\"}},\"id\":\"1041\",\"type\":\"Line\"},{\"attributes\":{\"axis\":{\"id\":\"1016\"},\"coordinates\":null,\"grid_line_color\":null,\"group\":null,\"ticker\":null},\"id\":\"1019\",\"type\":\"Grid\"},{\"attributes\":{\"tools\":[{\"id\":\"1006\"},{\"id\":\"1024\"},{\"id\":\"1025\"},{\"id\":\"1026\"},{\"id\":\"1027\"},{\"id\":\"1028\"}]},\"id\":\"1030\",\"type\":\"Toolbar\"},{\"attributes\":{},\"id\":\"1021\",\"type\":\"BasicTicker\"},{\"attributes\":{\"coordinates\":null,\"group\":null,\"text\":\"Elbow Curve\",\"text_color\":\"black\",\"text_font_size\":\"12pt\"},\"id\":\"1008\",\"type\":\"Title\"},{\"attributes\":{\"coordinates\":null,\"data_source\":{\"id\":\"1037\"},\"glyph\":{\"id\":\"1040\"},\"group\":null,\"hover_glyph\":null,\"muted_glyph\":{\"id\":\"1042\"},\"nonselection_glyph\":{\"id\":\"1041\"},\"selection_glyph\":{\"id\":\"1045\"},\"view\":{\"id\":\"1044\"}},\"id\":\"1043\",\"type\":\"GlyphRenderer\"},{\"attributes\":{},\"id\":\"1053\",\"type\":\"BasicTickFormatter\"},{\"attributes\":{},\"id\":\"1038\",\"type\":\"Selection\"},{\"attributes\":{},\"id\":\"1014\",\"type\":\"LinearScale\"},{\"attributes\":{\"bottom_units\":\"screen\",\"coordinates\":null,\"fill_alpha\":0.5,\"fill_color\":\"lightgrey\",\"group\":null,\"left_units\":\"screen\",\"level\":\"overlay\",\"line_alpha\":1.0,\"line_color\":\"black\",\"line_dash\":[4,4],\"line_width\":2,\"right_units\":\"screen\",\"syncable\":false,\"top_units\":\"screen\"},\"id\":\"1029\",\"type\":\"BoxAnnotation\"},{\"attributes\":{\"axis_label\":\"inertia\",\"coordinates\":null,\"formatter\":{\"id\":\"1053\"},\"group\":null,\"major_label_policy\":{\"id\":\"1054\"},\"ticker\":{\"id\":\"1021\"}},\"id\":\"1020\",\"type\":\"LinearAxis\"},{\"attributes\":{\"axis_label\":\"k\",\"coordinates\":null,\"formatter\":{\"id\":\"1048\"},\"group\":null,\"major_label_policy\":{\"id\":\"1049\"},\"ticker\":{\"id\":\"1046\"}},\"id\":\"1016\",\"type\":\"LinearAxis\"},{\"attributes\":{\"below\":[{\"id\":\"1016\"}],\"center\":[{\"id\":\"1019\"},{\"id\":\"1023\"}],\"height\":300,\"left\":[{\"id\":\"1020\"}],\"margin\":[5,5,5,5],\"min_border_bottom\":10,\"min_border_left\":10,\"min_border_right\":10,\"min_border_top\":10,\"renderers\":[{\"id\":\"1043\"}],\"sizing_mode\":\"fixed\",\"title\":{\"id\":\"1008\"},\"toolbar\":{\"id\":\"1030\"},\"width\":700,\"x_range\":{\"id\":\"1004\"},\"x_scale\":{\"id\":\"1012\"},\"y_range\":{\"id\":\"1005\"},\"y_scale\":{\"id\":\"1014\"}},\"id\":\"1007\",\"subtype\":\"Figure\",\"type\":\"Plot\"},{\"attributes\":{\"children\":[{\"id\":\"1003\"},{\"id\":\"1007\"},{\"id\":\"1073\"}],\"margin\":[0,0,0,0],\"name\":\"Row01627\",\"tags\":[\"embedded\"]},\"id\":\"1002\",\"type\":\"Row\"},{\"attributes\":{\"axis\":{\"id\":\"1020\"},\"coordinates\":null,\"dimension\":1,\"grid_line_color\":null,\"group\":null,\"ticker\":null},\"id\":\"1023\",\"type\":\"Grid\"},{\"attributes\":{},\"id\":\"1049\",\"type\":\"AllLabels\"}],\"root_ids\":[\"1002\"]},\"title\":\"Bokeh Application\",\"version\":\"2.4.1\"}};\n",
       "    var render_items = [{\"docid\":\"dd811b99-088c-4342-b838-4f47b93618af\",\"root_ids\":[\"1002\"],\"roots\":{\"1002\":\"9b0b4fca-15fb-4c8a-ba50-d0fcdce9cf33\"}}];\n",
       "    root.Bokeh.embed.embed_items_notebook(docs_json, render_items);\n",
       "  }\n",
       "  if (root.Bokeh !== undefined && root.Bokeh.Panel !== undefined) {\n",
       "    embed_document(root);\n",
       "  } else {\n",
       "    var attempts = 0;\n",
       "    var timer = setInterval(function(root) {\n",
       "      if (root.Bokeh !== undefined && root.Bokeh.Panel !== undefined) {\n",
       "        clearInterval(timer);\n",
       "        embed_document(root);\n",
       "      } else if (document.readyState == \"complete\") {\n",
       "        attempts++;\n",
       "        if (attempts > 200) {\n",
       "          clearInterval(timer);\n",
       "          console.log(\"Bokeh: ERROR: Unable to run BokehJS code because BokehJS library is missing\");\n",
       "        }\n",
       "      }\n",
       "    }, 25, root)\n",
       "  }\n",
       "})(window);</script>"
      ],
      "text/plain": [
       ":Curve   [k]   (inertia)"
      ]
     },
     "execution_count": 44,
     "metadata": {
      "application/vnd.holoviews_exec.v0+json": {
       "id": "1002"
      }
     },
     "output_type": "execute_result"
    }
   ],
   "source": [
    "# Create an elbow curve to find the best value for K.\n",
    "# Store values of K to plot\n",
    "inertia = []\n",
    "k = list(range(1, 11))\n",
    "\n",
    "# Loop through K values and find inertia (best K)\n",
    "for i in k:\n",
    "    km = KMeans(n_clusters=i, random_state=0)\n",
    "    km.fit(crypto_pca_df)\n",
    "    inertia.append(km.inertia_)\n",
    "\n",
    "# Create a df and plot the elbow curve using hvPlot\n",
    "elbow_data = {\"k\": k, \"inertia\": inertia}\n",
    "df_elbow = pd.DataFrame(elbow_data)\n",
    "df_elbow.hvplot.line(x=\"k\", y=\"inertia\", title=\"Elbow Curve\", xticks=k)\n"
   ]
  },
  {
   "cell_type": "markdown",
   "metadata": {},
   "source": [
    "Running K-Means with `k=4`"
   ]
  },
  {
   "cell_type": "code",
   "execution_count": 45,
   "metadata": {},
   "outputs": [
    {
     "name": "stdout",
     "output_type": "stream",
     "text": [
      "[1 1 1 0 0 0 1 0 0 0 1 0 1 1 0 1 0 0 1 1 0 0 0 0 0 1 0 0 0 1 0 1 0 0 1 1 0\n",
      " 0 0 0 0 0 1 1 0 0 0 0 0 1 1 0 1 0 0 0 0 1 0 0 1 0 1 1 1 0 0 0 1 1 1 1 1 0\n",
      " 0 0 1 1 0 1 0 1 1 0 0 0 0 1 1 0 1 0 0 1 1 0 1 1 0 0 1 1 0 1 1 0 1 0 1 0 1\n",
      " 0 1 1 0 0 1 0 0 0 1 0 0 0 0 0 1 1 0 0 0 1 0 1 0 0 1 0 1 0 1 1 0 0 1 0 0 1\n",
      " 1 0 1 0 1 1 1 0 0 0 0 1 1 1 1 1 0 0 1 1 1 1 1 0 1 1 1 1 1 0 1 0 1 1 0 1 0\n",
      " 1 1 0 1 0 1 0 1 0 1 1 1 1 0 1 1 1 1 1 0 0 1 1 0 0 1 1 1 1 1 0 1 1 1 1 1 1\n",
      " 1 1 0 1 1 1 1 1 1 0 0 0 1 1 1 1 0 1 0 1 1 0 1 0 0 1 0 0 1 0 1 1 1 0 1 1 0\n",
      " 1 1 1 1 1 1 1 0 1 0 1 1 1 1 0 1 0 1 0 0 0 0 1 0 1 1 0 1 0 0 0 1 0 1 0 0 0\n",
      " 1 0 1 0 1 1 2 0 1 0 0 0 0 0 1 1 0 1 1 1 0 1 0 1 0 1 0 1 1 1 1 0 1 1 0 1 1\n",
      " 1 0 0 0 0 1 1 1 1 0 1 0 0 0 1 1 0 0 1 1 0 1 0 0 0 1 0 0 1 1 1 0 0 0 1 1 1\n",
      " 0 0 1 0 0 0 0 1 2 2 0 0 0 1 2 1 1 1 1 0 0 0 0 1 1 1 0 1 0 1 1 1 1 0 1 1 0\n",
      " 1 1 0 0 1 0 1 0 0 0 0 1 1 0 1 0 1 1 1 1 1 1 0 0 0 1 1 1 1 1 1 0 1 0 0 0 0\n",
      " 1 1 1 1 0 1 1 0 1 1 0 2 0 1 0 0 1 1 0 1 0 0 1 0 0 1 0 1 0 1 1 0 1 1 1 1 1\n",
      " 0 0 0 1 1 1 0 1 0 1 0 1 1 1 1 0 1 1 1 0 1 0 1 0 1 1 1 0 0 1 1 1 1 1 1 0 1\n",
      " 0 1 0 1 1 2 1 3 1 1 1 0 0 1]\n"
     ]
    }
   ],
   "source": [
    "# Initialize the K-Means model.\n",
    "model = KMeans(n_clusters = 4, random_state = 1)\n",
    "model\n",
    "\n",
    "# Fit the model\n",
    "model.fit(crypto_pca_df)\n",
    "\n",
    "# Predict clusters\n",
    "pred = model.predict(crypto_pca_df)\n",
    "print(pred)"
   ]
  },
  {
   "cell_type": "code",
   "execution_count": 46,
   "metadata": {},
   "outputs": [
    {
     "name": "stdout",
     "output_type": "stream",
     "text": [
      "(532, 9)\n"
     ]
    },
    {
     "data": {
      "text/html": [
       "<div>\n",
       "<style scoped>\n",
       "    .dataframe tbody tr th:only-of-type {\n",
       "        vertical-align: middle;\n",
       "    }\n",
       "\n",
       "    .dataframe tbody tr th {\n",
       "        vertical-align: top;\n",
       "    }\n",
       "\n",
       "    .dataframe thead th {\n",
       "        text-align: right;\n",
       "    }\n",
       "</style>\n",
       "<table border=\"1\" class=\"dataframe\">\n",
       "  <thead>\n",
       "    <tr style=\"text-align: right;\">\n",
       "      <th></th>\n",
       "      <th>Algorithm</th>\n",
       "      <th>ProofType</th>\n",
       "      <th>TotalCoinsMined</th>\n",
       "      <th>TotalCoinSupply</th>\n",
       "      <th>PC 1</th>\n",
       "      <th>PC 2</th>\n",
       "      <th>PC 3</th>\n",
       "      <th>CoinName</th>\n",
       "      <th>Class</th>\n",
       "    </tr>\n",
       "  </thead>\n",
       "  <tbody>\n",
       "    <tr>\n",
       "      <th>0</th>\n",
       "      <td>Scrypt</td>\n",
       "      <td>PoW/PoS</td>\n",
       "      <td>4.199995e+01</td>\n",
       "      <td>42</td>\n",
       "      <td>-0.333065</td>\n",
       "      <td>1.067570</td>\n",
       "      <td>-0.582251</td>\n",
       "      <td>42 Coin</td>\n",
       "      <td>1</td>\n",
       "    </tr>\n",
       "    <tr>\n",
       "      <th>2</th>\n",
       "      <td>Scrypt</td>\n",
       "      <td>PoW/PoS</td>\n",
       "      <td>1.055185e+09</td>\n",
       "      <td>532000000</td>\n",
       "      <td>-0.316416</td>\n",
       "      <td>1.067826</td>\n",
       "      <td>-0.582687</td>\n",
       "      <td>404Coin</td>\n",
       "      <td>1</td>\n",
       "    </tr>\n",
       "    <tr>\n",
       "      <th>5</th>\n",
       "      <td>X13</td>\n",
       "      <td>PoW/PoS</td>\n",
       "      <td>2.927942e+10</td>\n",
       "      <td>314159265359</td>\n",
       "      <td>2.298335</td>\n",
       "      <td>1.699920</td>\n",
       "      <td>-0.684628</td>\n",
       "      <td>EliteCoin</td>\n",
       "      <td>1</td>\n",
       "    </tr>\n",
       "    <tr>\n",
       "      <th>7</th>\n",
       "      <td>SHA-256</td>\n",
       "      <td>PoW</td>\n",
       "      <td>1.792718e+07</td>\n",
       "      <td>21000000</td>\n",
       "      <td>-0.144602</td>\n",
       "      <td>-1.332097</td>\n",
       "      <td>0.194247</td>\n",
       "      <td>Bitcoin</td>\n",
       "      <td>0</td>\n",
       "    </tr>\n",
       "    <tr>\n",
       "      <th>8</th>\n",
       "      <td>Ethash</td>\n",
       "      <td>PoW</td>\n",
       "      <td>1.076842e+08</td>\n",
       "      <td>0</td>\n",
       "      <td>-0.153569</td>\n",
       "      <td>-2.034055</td>\n",
       "      <td>0.395247</td>\n",
       "      <td>Ethereum</td>\n",
       "      <td>0</td>\n",
       "    </tr>\n",
       "    <tr>\n",
       "      <th>9</th>\n",
       "      <td>Scrypt</td>\n",
       "      <td>PoW</td>\n",
       "      <td>6.303924e+07</td>\n",
       "      <td>84000000</td>\n",
       "      <td>-0.162247</td>\n",
       "      <td>-1.108919</td>\n",
       "      <td>-0.015848</td>\n",
       "      <td>Litecoin</td>\n",
       "      <td>0</td>\n",
       "    </tr>\n",
       "    <tr>\n",
       "      <th>10</th>\n",
       "      <td>X11</td>\n",
       "      <td>PoW/PoS</td>\n",
       "      <td>9.031294e+06</td>\n",
       "      <td>22000000</td>\n",
       "      <td>-0.399648</td>\n",
       "      <td>1.269560</td>\n",
       "      <td>-0.479747</td>\n",
       "      <td>Dash</td>\n",
       "      <td>1</td>\n",
       "    </tr>\n",
       "    <tr>\n",
       "      <th>11</th>\n",
       "      <td>CryptoNight-V7</td>\n",
       "      <td>PoW</td>\n",
       "      <td>1.720114e+07</td>\n",
       "      <td>0</td>\n",
       "      <td>-0.136347</td>\n",
       "      <td>-2.268282</td>\n",
       "      <td>0.360832</td>\n",
       "      <td>Monero</td>\n",
       "      <td>0</td>\n",
       "    </tr>\n",
       "    <tr>\n",
       "      <th>12</th>\n",
       "      <td>Ethash</td>\n",
       "      <td>PoW</td>\n",
       "      <td>1.133597e+08</td>\n",
       "      <td>210000000</td>\n",
       "      <td>-0.152014</td>\n",
       "      <td>-2.034139</td>\n",
       "      <td>0.395227</td>\n",
       "      <td>Ethereum Classic</td>\n",
       "      <td>0</td>\n",
       "    </tr>\n",
       "    <tr>\n",
       "      <th>13</th>\n",
       "      <td>Equihash</td>\n",
       "      <td>PoW</td>\n",
       "      <td>7.383056e+06</td>\n",
       "      <td>21000000</td>\n",
       "      <td>-0.164565</td>\n",
       "      <td>-2.051377</td>\n",
       "      <td>0.336825</td>\n",
       "      <td>ZCash</td>\n",
       "      <td>0</td>\n",
       "    </tr>\n",
       "  </tbody>\n",
       "</table>\n",
       "</div>"
      ],
      "text/plain": [
       "         Algorithm ProofType  TotalCoinsMined TotalCoinSupply      PC 1  \\\n",
       "0           Scrypt   PoW/PoS     4.199995e+01              42 -0.333065   \n",
       "2           Scrypt   PoW/PoS     1.055185e+09       532000000 -0.316416   \n",
       "5              X13   PoW/PoS     2.927942e+10    314159265359  2.298335   \n",
       "7          SHA-256       PoW     1.792718e+07        21000000 -0.144602   \n",
       "8           Ethash       PoW     1.076842e+08               0 -0.153569   \n",
       "9           Scrypt       PoW     6.303924e+07        84000000 -0.162247   \n",
       "10             X11   PoW/PoS     9.031294e+06        22000000 -0.399648   \n",
       "11  CryptoNight-V7       PoW     1.720114e+07               0 -0.136347   \n",
       "12          Ethash       PoW     1.133597e+08       210000000 -0.152014   \n",
       "13        Equihash       PoW     7.383056e+06        21000000 -0.164565   \n",
       "\n",
       "        PC 2      PC 3          CoinName  Class  \n",
       "0   1.067570 -0.582251           42 Coin      1  \n",
       "2   1.067826 -0.582687           404Coin      1  \n",
       "5   1.699920 -0.684628         EliteCoin      1  \n",
       "7  -1.332097  0.194247           Bitcoin      0  \n",
       "8  -2.034055  0.395247          Ethereum      0  \n",
       "9  -1.108919 -0.015848          Litecoin      0  \n",
       "10  1.269560 -0.479747              Dash      1  \n",
       "11 -2.268282  0.360832            Monero      0  \n",
       "12 -2.034139  0.395227  Ethereum Classic      0  \n",
       "13 -2.051377  0.336825             ZCash      0  "
      ]
     },
     "execution_count": 46,
     "metadata": {},
     "output_type": "execute_result"
    }
   ],
   "source": [
    "# Create a new DataFrame including predicted clusters and cryptocurrencies features.\n",
    "# Concatentate the crypto_df and pcs_df DataFrames on the same columns.\n",
    "cryptocurrencies = pd.concat([crypto_df, crypto_pca_df], axis=1)\n",
    "\n",
    "#  Add a new column, \"CoinName\" to the clustered_df DataFrame that holds the names of the cryptocurrencies. \n",
    "clustered_df = pd.concat([cryptocurrencies, crypto_name],axis=1)\n",
    "\n",
    "#  Add a new column, \"Class\" to the clustered_df DataFrame that holds the predictions.\n",
    "clustered_df[\"Class\"] = model.labels_\n",
    "\n",
    "# Print the shape of the clustered_df\n",
    "print(clustered_df.shape)\n",
    "clustered_df.head(10)"
   ]
  },
  {
   "cell_type": "markdown",
   "metadata": {},
   "source": [
    "### Deliverable 4: Visualizing Cryptocurrencies Results\n",
    "\n",
    "#### 3D-Scatter with Clusters"
   ]
  },
  {
   "cell_type": "code",
   "execution_count": 47,
   "metadata": {},
   "outputs": [
    {
     "data": {
      "application/vnd.plotly.v1+json": {
       "config": {
        "plotlyServerURL": "https://plot.ly"
       },
       "data": [
        {
         "customdata": [
          [
           "Scrypt"
          ],
          [
           "Scrypt"
          ],
          [
           "X13"
          ],
          [
           "X11"
          ],
          [
           "SHA-512"
          ],
          [
           "SHA-256"
          ],
          [
           "SHA-256"
          ],
          [
           "X15"
          ],
          [
           "Scrypt"
          ],
          [
           "Scrypt"
          ],
          [
           "Scrypt"
          ],
          [
           "Scrypt"
          ],
          [
           "Scrypt"
          ],
          [
           "Scrypt"
          ],
          [
           "Groestl"
          ],
          [
           "PoS"
          ],
          [
           "Scrypt"
          ],
          [
           "Scrypt"
          ],
          [
           "X11"
          ],
          [
           "X11"
          ],
          [
           "SHA3"
          ],
          [
           "Scrypt"
          ],
          [
           "SHA-256"
          ],
          [
           "Scrypt"
          ],
          [
           "X13"
          ],
          [
           "X13"
          ],
          [
           "NeoScrypt"
          ],
          [
           "Scrypt"
          ],
          [
           "Scrypt"
          ],
          [
           "Scrypt"
          ],
          [
           "X11"
          ],
          [
           "X11"
          ],
          [
           "Multiple"
          ],
          [
           "PHI1612"
          ],
          [
           "X11"
          ],
          [
           "Scrypt"
          ],
          [
           "Scrypt"
          ],
          [
           "Scrypt"
          ],
          [
           "X11"
          ],
          [
           "Multiple"
          ],
          [
           "X13"
          ],
          [
           "Scrypt"
          ],
          [
           "Shabal256"
          ],
          [
           "Counterparty"
          ],
          [
           "SHA-256"
          ],
          [
           "Groestl"
          ],
          [
           "Scrypt"
          ],
          [
           "X13"
          ],
          [
           "Scrypt"
          ],
          [
           "Scrypt"
          ],
          [
           "X13"
          ],
          [
           "X11"
          ],
          [
           "Scrypt"
          ],
          [
           "X11"
          ],
          [
           "SHA3"
          ],
          [
           "QUAIT"
          ],
          [
           "X11"
          ],
          [
           "Scrypt"
          ],
          [
           "X13"
          ],
          [
           "SHA-256"
          ],
          [
           "X15"
          ],
          [
           "BLAKE256"
          ],
          [
           "SHA-256"
          ],
          [
           "X11"
          ],
          [
           "SHA-256"
          ],
          [
           "NIST5"
          ],
          [
           "Scrypt"
          ],
          [
           "Scrypt"
          ],
          [
           "X11"
          ],
          [
           "Scrypt"
          ],
          [
           "SHA-256"
          ],
          [
           "Scrypt"
          ],
          [
           "PoS"
          ],
          [
           "X11"
          ],
          [
           "SHA-256"
          ],
          [
           "SHA-256"
          ],
          [
           "NIST5"
          ],
          [
           "X11"
          ],
          [
           "POS 3.0"
          ],
          [
           "Scrypt"
          ],
          [
           "Scrypt"
          ],
          [
           "Scrypt"
          ],
          [
           "X13"
          ],
          [
           "X11"
          ],
          [
           "X11"
          ],
          [
           "Scrypt"
          ],
          [
           "SHA-256"
          ],
          [
           "X11"
          ],
          [
           "Scrypt"
          ],
          [
           "Scrypt"
          ],
          [
           "Scrypt"
          ],
          [
           "Scrypt"
          ],
          [
           "SHA-256D"
          ],
          [
           "PoS"
          ],
          [
           "Scrypt"
          ],
          [
           "X11"
          ],
          [
           "PoS"
          ],
          [
           "X13"
          ],
          [
           "X14"
          ],
          [
           "PoS"
          ],
          [
           "SHA-256D"
          ],
          [
           "DPoS"
          ],
          [
           "X11"
          ],
          [
           "X13"
          ],
          [
           "X11"
          ],
          [
           "PoS"
          ],
          [
           "Scrypt"
          ],
          [
           "Scrypt"
          ],
          [
           "PoS"
          ],
          [
           "X11"
          ],
          [
           "SHA-256"
          ],
          [
           "Scrypt"
          ],
          [
           "X11"
          ],
          [
           "Scrypt"
          ],
          [
           "Scrypt"
          ],
          [
           "X11"
          ],
          [
           "Scrypt"
          ],
          [
           "Scrypt"
          ],
          [
           "Scrypt"
          ],
          [
           "Scrypt"
          ],
          [
           "Quark"
          ],
          [
           "QuBit"
          ],
          [
           "Scrypt"
          ],
          [
           "SHA-256"
          ],
          [
           "X11"
          ],
          [
           "Scrypt"
          ],
          [
           "Scrypt"
          ],
          [
           "Scrypt"
          ],
          [
           "Scrypt"
          ],
          [
           "X13"
          ],
          [
           "Scrypt"
          ],
          [
           "Scrypt"
          ],
          [
           "X11"
          ],
          [
           "Blake2S"
          ],
          [
           "X11"
          ],
          [
           "PoS"
          ],
          [
           "X11"
          ],
          [
           "PoS"
          ],
          [
           "X11"
          ],
          [
           "Scrypt"
          ],
          [
           "Scrypt"
          ],
          [
           "Scrypt"
          ],
          [
           "SHA-256"
          ],
          [
           "X11"
          ],
          [
           "Scrypt"
          ],
          [
           "PoS"
          ],
          [
           "Scrypt"
          ],
          [
           "X15"
          ],
          [
           "SHA-256"
          ],
          [
           "POS 3.0"
          ],
          [
           "536"
          ],
          [
           "NIST5"
          ],
          [
           "NIST5"
          ],
          [
           "Skein"
          ],
          [
           "X13"
          ],
          [
           "Scrypt"
          ],
          [
           "X13"
          ],
          [
           "SkunkHash v2 Raptor"
          ],
          [
           "Skein"
          ],
          [
           "X11"
          ],
          [
           "Scrypt"
          ],
          [
           "PoS"
          ],
          [
           "Scrypt"
          ],
          [
           "Scrypt"
          ],
          [
           "SHA-512"
          ],
          [
           "Ouroboros"
          ],
          [
           "X11"
          ],
          [
           "NeoScrypt"
          ],
          [
           "Scrypt"
          ],
          [
           "Lyra2REv2"
          ],
          [
           "Scrypt"
          ],
          [
           "SHA-256"
          ],
          [
           "NIST5"
          ],
          [
           "PHI1612"
          ],
          [
           "Scrypt"
          ],
          [
           "Quark"
          ],
          [
           "POS 2.0"
          ],
          [
           "Scrypt"
          ],
          [
           "SHA-256"
          ],
          [
           "X11"
          ],
          [
           "DPoS"
          ],
          [
           "NIST5"
          ],
          [
           "X13"
          ],
          [
           "Scrypt"
          ],
          [
           "NIST5"
          ],
          [
           "Quark"
          ],
          [
           "Scrypt"
          ],
          [
           "Scrypt"
          ],
          [
           "X11"
          ],
          [
           "Quark"
          ],
          [
           "Scrypt"
          ],
          [
           "Scrypt"
          ],
          [
           "X11"
          ],
          [
           "POS 3.0"
          ],
          [
           "Ethash"
          ],
          [
           "Scrypt"
          ],
          [
           "Scrypt"
          ],
          [
           "X13"
          ],
          [
           "C11"
          ],
          [
           "X11"
          ],
          [
           "XEVAN"
          ],
          [
           "Scrypt"
          ],
          [
           "VBFT"
          ],
          [
           "NIST5"
          ],
          [
           "Scrypt"
          ],
          [
           "Scrypt"
          ],
          [
           "Scrypt"
          ],
          [
           "Green Protocol"
          ],
          [
           "PoS"
          ],
          [
           "Scrypt"
          ],
          [
           "Semux BFT consensus"
          ],
          [
           "Quark"
          ],
          [
           "PoS"
          ],
          [
           "X16R"
          ],
          [
           "Scrypt"
          ],
          [
           "XEVAN"
          ],
          [
           "Scrypt"
          ],
          [
           "Scrypt"
          ],
          [
           "Scrypt"
          ],
          [
           "SHA-256D"
          ],
          [
           "Scrypt"
          ],
          [
           "X15"
          ],
          [
           "Scrypt"
          ],
          [
           "Quark"
          ],
          [
           "SHA-256"
          ],
          [
           "DPoS"
          ],
          [
           "X16R"
          ],
          [
           "Quark"
          ],
          [
           "Quark"
          ],
          [
           "Scrypt"
          ],
          [
           "Lyra2REv2"
          ],
          [
           "Quark"
          ],
          [
           "Scrypt"
          ],
          [
           "X11"
          ],
          [
           "X11"
          ],
          [
           "Scrypt"
          ],
          [
           "PoS"
          ],
          [
           "Keccak"
          ],
          [
           "X11"
          ],
          [
           "Scrypt"
          ],
          [
           "SHA-512"
          ],
          [
           "XEVAN"
          ],
          [
           "XEVAN"
          ],
          [
           "X11"
          ],
          [
           "Quark"
          ],
          [
           "Equihash"
          ],
          [
           "Scrypt"
          ],
          [
           "Quark"
          ],
          [
           "Quark"
          ],
          [
           "Scrypt"
          ],
          [
           "X11"
          ],
          [
           "Scrypt"
          ],
          [
           "XEVAN"
          ],
          [
           "SHA-256D"
          ],
          [
           "X11"
          ],
          [
           "X11"
          ],
          [
           "DPoS"
          ],
          [
           "Scrypt"
          ],
          [
           "X11"
          ],
          [
           "Scrypt"
          ],
          [
           "Scrypt"
          ],
          [
           "SHA-256"
          ],
          [
           "Scrypt"
          ],
          [
           "X11"
          ],
          [
           "Scrypt"
          ],
          [
           "SHA-256"
          ],
          [
           "X11"
          ],
          [
           "Scrypt"
          ],
          [
           "Scrypt"
          ],
          [
           "X11"
          ],
          [
           "Scrypt"
          ],
          [
           "PoS"
          ],
          [
           "X11"
          ],
          [
           "SHA-256"
          ],
          [
           "DPoS"
          ],
          [
           "Scrypt"
          ],
          [
           "Scrypt"
          ],
          [
           "NeoScrypt"
          ],
          [
           "X13"
          ],
          [
           "DPoS"
          ],
          [
           "DPoS"
          ],
          [
           "SHA-256"
          ],
          [
           "PoS"
          ],
          [
           "PoS"
          ],
          [
           "SHA-256"
          ],
          [
           "Scrypt"
          ],
          [
           "Scrypt"
          ]
         ],
         "hovertemplate": "<b>%{hovertext}</b><br><br>Class=%{marker.color}<br>PC 1=%{x}<br>PC 2=%{y}<br>PC 3=%{z}<br>Algorithm=%{customdata[0]}<extra></extra>",
         "hovertext": [
          "42 Coin",
          "404Coin",
          "EliteCoin",
          "Dash",
          "Bitshares",
          "BitcoinDark",
          "PayCoin",
          "KoboCoin",
          "Aurora Coin",
          "BlueCoin",
          "EnergyCoin",
          "BitBar",
          "CryptoBullion",
          "CasinoCoin",
          "Diamond",
          "Exclusive Coin",
          "FlutterCoin",
          "HoboNickels",
          "HyperStake",
          "IOCoin",
          "MaxCoin",
          "MintCoin",
          "MazaCoin",
          "Nautilus Coin",
          "NavCoin",
          "OpalCoin",
          "Orbitcoin",
          "PotCoin",
          "PhoenixCoin",
          "Reddcoin",
          "SuperCoin",
          "SyncCoin",
          "TeslaCoin",
          "TittieCoin",
          "TorCoin",
          "UnitaryStatus Dollar",
          "UltraCoin",
          "VeriCoin",
          "X11 Coin",
          "Crypti",
          "StealthCoin",
          "ZCC Coin",
          "BurstCoin",
          "StorjCoin",
          "Neutron",
          "FairCoin",
          "RubyCoin",
          "Kore",
          "Dnotes",
          "8BIT Coin",
          "Sativa Coin",
          "Ucoin",
          "Vtorrent",
          "IslaCoin",
          "Nexus",
          "Droidz",
          "Squall Coin",
          "Diggits",
          "Paycon",
          "Emercoin",
          "EverGreenCoin",
          "Decred",
          "EDRCoin",
          "Hitcoin",
          "DubaiCoin",
          "PWR Coin",
          "BillaryCoin",
          "GPU Coin",
          "EuropeCoin",
          "ZeitCoin",
          "SwingCoin",
          "SafeExchangeCoin",
          "Nebuchadnezzar",
          "Ratecoin",
          "Revenu",
          "Clockcoin",
          "VIP Tokens",
          "BitSend",
          "Let it Ride",
          "PutinCoin",
          "iBankCoin",
          "Frankywillcoin",
          "MudraCoin",
          "Lutetium Coin",
          "GoldBlocks",
          "CarterCoin",
          "BitTokens",
          "MustangCoin",
          "ZoneCoin",
          "RootCoin",
          "BitCurrency",
          "Swiscoin",
          "BuzzCoin",
          "Opair",
          "PesoBit",
          "Halloween Coin",
          "CoffeeCoin",
          "RoyalCoin",
          "GanjaCoin V2",
          "TeamUP",
          "LanaCoin",
          "ARK",
          "InsaneCoin",
          "EmberCoin",
          "XenixCoin",
          "FreeCoin",
          "PLNCoin",
          "AquariusCoin",
          "Creatio",
          "Eternity",
          "Eurocoin",
          "BitcoinFast",
          "Stakenet",
          "BitConnect Coin",
          "MoneyCoin",
          "Enigma",
          "Russiacoin",
          "PandaCoin",
          "GameUnits",
          "GAKHcoin",
          "Allsafe",
          "LiteCreed",
          "Klingon Empire Darsek",
          "Internet of People",
          "KushCoin",
          "Printerium",
          "Impeach",
          "Zilbercoin",
          "FirstCoin",
          "FindCoin",
          "OpenChat",
          "RenosCoin",
          "VirtacoinPlus",
          "TajCoin",
          "Impact",
          "Atmos",
          "HappyCoin",
          "MacronCoin",
          "Condensate",
          "Independent Money System",
          "ArgusCoin",
          "LomoCoin",
          "ProCurrency",
          "GoldReserve",
          "GrowthCoin",
          "Phreak",
          "Degas Coin",
          "HTML5 Coin",
          "Ultimate Secure Cash",
          "QTUM",
          "Espers",
          "Denarius",
          "Virta Unique Coin",
          "Bitcoin Planet",
          "BritCoin",
          "Linda",
          "DeepOnion",
          "Signatum",
          "Cream",
          "Monoeci",
          "Draftcoin",
          "Stakecoin",
          "CoinonatX",
          "Ethereum Dark",
          "Obsidian",
          "Cardano",
          "Regalcoin",
          "TrezarCoin",
          "TerraNovaCoin",
          "Rupee",
          "WomenCoin",
          "Theresa May Coin",
          "NamoCoin",
          "LUXCoin",
          "Xios",
          "Bitcloud 2.0",
          "KekCoin",
          "BlackholeCoin",
          "Infinity Economics",
          "Magnet",
          "Lamden Tau",
          "Electra",
          "Bitcoin Diamond",
          "Cash & Back Coin",
          "Bulwark",
          "Kalkulus",
          "GermanCoin",
          "LiteCoin Ultra",
          "PhantomX",
          "Digiwage",
          "Trollcoin",
          "Litecoin Plus",
          "Monkey Project",
          "TokenPay",
          "1717 Masonic Commemorative Token",
          "My Big Coin",
          "Unified Society USDEX",
          "Tokyo Coin",
          "Stipend",
          "Pushi",
          "Ellerium",
          "Velox",
          "Ontology",
          "Bitspace",
          "Briacoin",
          "Ignition",
          "MedicCoin",
          "Bitcoin Green",
          "Deviant Coin",
          "Abjcoin",
          "Semux",
          "Carebit",
          "Zealium",
          "Proton",
          "iDealCash",
          "Bitcoin Incognito",
          "HollyWoodCoin",
          "Swisscoin",
          "Xt3ch",
          "TheVig",
          "EmaratCoin",
          "Dekado",
          "Lynx",
          "Poseidon Quark",
          "BitcoinWSpectrum",
          "Muse",
          "Trivechain",
          "Dystem",
          "Giant",
          "Peony Coin",
          "Absolute Coin",
          "Vitae",
          "TPCash",
          "ARENON",
          "EUNO",
          "MMOCoin",
          "Ketan",
          "XDNA",
          "PAXEX",
          "ThunderStake",
          "Kcash",
          "Bettex coin",
          "BitMoney",
          "Junson Ming Chan Coin",
          "HerbCoin",
          "PirateCash",
          "Oduwa",
          "Galilel",
          "Crypto Sports",
          "Credit",
          "Dash Platinum",
          "Nasdacoin",
          "Beetle Coin",
          "Titan Coin",
          "Award",
          "Insane Coin",
          "ALAX",
          "LiteDoge",
          "TruckCoin",
          "OrangeCoin",
          "BitstarCoin",
          "NeosCoin",
          "HyperCoin",
          "PinkCoin",
          "AudioCoin",
          "IncaKoin",
          "Piggy Coin",
          "Genstake",
          "XiaoMiCoin",
          "CapriCoin",
          " ClubCoin",
          "Radium",
          "Creditbit ",
          "OKCash",
          "Lisk",
          "HiCoin",
          "WhiteCoin",
          "FriendshipCoin",
          "Triangles Coin",
          "EOS",
          "Oxycoin",
          "TigerCash",
          "Particl",
          "Nxt",
          "ZEPHYR",
          "Gapcoin",
          "BitcoinPlus"
         ],
         "legendgroup": "1",
         "marker": {
          "color": [
           1,
           1,
           1,
           1,
           1,
           1,
           1,
           1,
           1,
           1,
           1,
           1,
           1,
           1,
           1,
           1,
           1,
           1,
           1,
           1,
           1,
           1,
           1,
           1,
           1,
           1,
           1,
           1,
           1,
           1,
           1,
           1,
           1,
           1,
           1,
           1,
           1,
           1,
           1,
           1,
           1,
           1,
           1,
           1,
           1,
           1,
           1,
           1,
           1,
           1,
           1,
           1,
           1,
           1,
           1,
           1,
           1,
           1,
           1,
           1,
           1,
           1,
           1,
           1,
           1,
           1,
           1,
           1,
           1,
           1,
           1,
           1,
           1,
           1,
           1,
           1,
           1,
           1,
           1,
           1,
           1,
           1,
           1,
           1,
           1,
           1,
           1,
           1,
           1,
           1,
           1,
           1,
           1,
           1,
           1,
           1,
           1,
           1,
           1,
           1,
           1,
           1,
           1,
           1,
           1,
           1,
           1,
           1,
           1,
           1,
           1,
           1,
           1,
           1,
           1,
           1,
           1,
           1,
           1,
           1,
           1,
           1,
           1,
           1,
           1,
           1,
           1,
           1,
           1,
           1,
           1,
           1,
           1,
           1,
           1,
           1,
           1,
           1,
           1,
           1,
           1,
           1,
           1,
           1,
           1,
           1,
           1,
           1,
           1,
           1,
           1,
           1,
           1,
           1,
           1,
           1,
           1,
           1,
           1,
           1,
           1,
           1,
           1,
           1,
           1,
           1,
           1,
           1,
           1,
           1,
           1,
           1,
           1,
           1,
           1,
           1,
           1,
           1,
           1,
           1,
           1,
           1,
           1,
           1,
           1,
           1,
           1,
           1,
           1,
           1,
           1,
           1,
           1,
           1,
           1,
           1,
           1,
           1,
           1,
           1,
           1,
           1,
           1,
           1,
           1,
           1,
           1,
           1,
           1,
           1,
           1,
           1,
           1,
           1,
           1,
           1,
           1,
           1,
           1,
           1,
           1,
           1,
           1,
           1,
           1,
           1,
           1,
           1,
           1,
           1,
           1,
           1,
           1,
           1,
           1,
           1,
           1,
           1,
           1,
           1,
           1,
           1,
           1,
           1,
           1,
           1,
           1,
           1,
           1,
           1,
           1,
           1,
           1,
           1,
           1,
           1,
           1,
           1,
           1,
           1,
           1,
           1,
           1,
           1,
           1,
           1,
           1,
           1,
           1,
           1,
           1,
           1,
           1,
           1,
           1,
           1,
           1,
           1,
           1,
           1,
           1,
           1,
           1,
           1,
           1,
           1,
           1
          ],
          "coloraxis": "coloraxis",
          "symbol": "circle"
         },
         "mode": "markers",
         "name": "1",
         "scene": "scene",
         "showlegend": true,
         "type": "scatter3d",
         "x": [
          -0.33306481719146885,
          -0.3164164048575411,
          2.2983345102985897,
          -0.3996482641987944,
          -0.24834589114088026,
          -0.3142513023379223,
          -0.2666891214791019,
          -0.2547731520560177,
          -0.3327247195701836,
          -0.32530666575357664,
          -0.3315622935493977,
          -0.33306075938505264,
          -0.33304505350593167,
          0.6522747534071045,
          -0.3782717649106938,
          -0.3588051435106979,
          -0.26613924366280073,
          -0.3311256221598767,
          -0.3319217950342813,
          -0.3995430237110409,
          -0.45945377292010503,
          -0.02557980989467581,
          -0.27759688432735813,
          -0.28525405859526204,
          -0.2818029113942031,
          -0.2824247456878166,
          -0.3492429620680617,
          -0.32737351326821873,
          -0.3314682245055528,
          0.024861022264714254,
          -0.3517964277880308,
          -0.39991421437363556,
          -0.23791997584142086,
          -0.30620709403987006,
          -0.39982597884084775,
          -0.30832326543416105,
          -0.33174372638873567,
          -0.2677414908492397,
          -0.39979044405334807,
          -0.23838671692709074,
          -0.28220574105453444,
          -0.32418045201602447,
          -0.03985150910465732,
          -0.33826979199455165,
          -0.31346382106095577,
          -0.37769364477571127,
          -0.28523421406075505,
          -0.28250017297228014,
          -0.27989504823898015,
          -0.3330468965258711,
          -0.2824523728930434,
          -0.3522411476596831,
          -0.3327815813247287,
          -0.3998957543856851,
          -0.5173042603772294,
          -0.4385269467129067,
          -0.3582137023256889,
          -0.28363743027884053,
          -0.281974584728616,
          -0.3068195164494275,
          -0.257210809634845,
          -0.082891598651986,
          -0.3142222338052254,
          -0.07774823916244426,
          -0.3142858074997817,
          -0.23978148825928552,
          -0.3326576939652382,
          -0.28350742154508124,
          -0.3970694121771692,
          0.8665026619891498,
          -0.3140862021327593,
          -0.07778307313498321,
          -0.35848875128407987,
          -0.3977405871822939,
          -0.3128318123090871,
          -0.3105036167804231,
          -0.36106768636933245,
          -0.3986327046295515,
          -0.3408796483866277,
          -0.30898245420235615,
          -0.3326957854287291,
          -0.3311361275739165,
          -0.23363455319330792,
          -0.33974404241714196,
          -0.39937033547318324,
          -0.3319008183272811,
          -0.31426684623936174,
          -0.3998849739919038,
          -0.3328846663299126,
          -0.333041133097312,
          -0.2834954213135407,
          -0.23720980308422238,
          0.03134848575762769,
          -0.3574468456920801,
          -0.3326555224049831,
          -0.3860664291758571,
          -0.3567756455126323,
          -0.23506287903839754,
          -0.40454319338472783,
          -0.35652660858858365,
          -0.2828984045147025,
          3.748047037145509,
          -0.3994779560932351,
          0.8490262368835505,
          -0.39983991707691185,
          -0.35791014415579736,
          -0.3325833974838542,
          -0.33273765542966244,
          -0.35848875128407987,
          -0.3994154814826731,
          -0.31412959474503505,
          -0.3325840931324152,
          -0.390849773352575,
          -0.33273135911458646,
          -0.3283265194916041,
          -0.3998689017067252,
          -0.3319433702230503,
          0.3573965565516217,
          -0.3329304075224925,
          -0.3330008666964823,
          -0.3495222254853226,
          -0.35098786429877765,
          -0.32923346880660365,
          -0.3142432741443139,
          -0.3997789387128943,
          -0.33277893180904833,
          -0.33290582232422866,
          -0.28514117523802784,
          -0.28023666613938786,
          -0.23483095927049266,
          -0.31377791372544006,
          -0.28488231420438914,
          -0.39904577717531015,
          -0.41275425378156805,
          -0.3977849796861925,
          -0.35673700931352736,
          -0.3989437239139818,
          -0.3511423731886111,
          -0.3948900260929306,
          -0.3328491378532325,
          -0.33284838136411793,
          -0.32598122111098926,
          0.26511547215330833,
          -0.39942148365520597,
          -0.26780770580581204,
          -0.3585230966413305,
          -0.3320609033707105,
          0.8758348933610419,
          -0.2653816684275256,
          -0.33965921282373646,
          0.5512183308674814,
          -0.36260183598169876,
          -0.36110575623165936,
          -0.40874191876526556,
          -0.28213780032057534,
          0.13124308044903416,
          -0.282208450305364,
          -0.3464230273032433,
          -0.40824710254345903,
          -0.39969348487941886,
          -0.285215062759216,
          -0.3583896784503828,
          -0.332484747966647,
          -0.3329838130035655,
          -0.3063498187830903,
          0.659021596682445,
          -0.3996344738733111,
          -0.34424806168179345,
          -0.332939537757495,
          -0.317905684513326,
          0.4355341555429054,
          -0.3125911080442584,
          -0.3473864030476138,
          -0.3892656178637867,
          -0.3328899442389903,
          -0.39546503257154086,
          -0.3307467041398609,
          -0.33276037703910194,
          -0.09334190775552251,
          -0.39842869456138846,
          3.7528974293402015,
          0.19633815244990163,
          -0.2788826800842884,
          -0.3302235809943277,
          -0.31486694283452926,
          -0.34940823392504083,
          0.08077632200017443,
          -0.33190039822134954,
          -0.3990088106164244,
          -0.3485741915845207,
          -0.3194790347496452,
          -0.3330059297283551,
          -0.352213101234796,
          -0.34116133399769105,
          -0.27680783217332217,
          -0.2694234677584819,
          -0.3285555049776167,
          -0.2266372904634956,
          -0.37080937973362327,
          -0.3997108306225863,
          -0.30636959491803395,
          -0.28437631684802206,
          -0.321264804725039,
          -0.3622013248171391,
          -0.33303326078442647,
          -0.3330149971413655,
          -0.2787638271329789,
          -0.33413123092702823,
          -0.3579845697933203,
          -0.33273185811086115,
          3.919219666779457,
          -0.3941338642286627,
          -0.3581730676536019,
          -0.31255914809027063,
          -0.27967031035394035,
          -0.26482107887362916,
          -0.28490951852212454,
          -0.13633839438545906,
          -0.28516155323588455,
          -0.3481210625181849,
          -0.33220659341905634,
          -0.20905670983843586,
          2.2565458176162703,
          -0.34512326977166813,
          -0.26550860281125777,
          1.0355119676192706,
          -0.35939506808568666,
          -0.3495217045083305,
          -0.3971467713326308,
          -0.16608533027282565,
          -0.3653329157446363,
          -0.34824257545912013,
          -0.3259213485655011,
          -0.35179100706872235,
          -0.399184663854817,
          -0.2824102392664904,
          -0.35727433721755736,
          -0.334055088884874,
          -0.35165279031420593,
          -0.1927285425145163,
          -0.2588476378219778,
          -0.25886392142382003,
          0.5532272940059815,
          -0.14229248766247057,
          -0.39644217537926174,
          -0.28585135259588523,
          -0.3327357654753945,
          -0.396897768801486,
          -0.34963855604921407,
          0.5726953938046793,
          -0.3522673741494461,
          -0.3322194476281092,
          -0.30083169967748263,
          -0.30290312661341434,
          -0.3967534171060852,
          -0.3994116205586415,
          3.7651281710658075,
          0.10168201361233875,
          -0.39695254860817786,
          -0.3316061330426472,
          -0.3324295933847379,
          -0.26672179189137424,
          -0.3329472267118726,
          -0.39104786851029755,
          -0.24677698246643565,
          -0.09404452400982405,
          -0.3868023556731487,
          -0.3322260908932619,
          -0.3252973546623732,
          -0.3959835773931225,
          -0.3306672570641788,
          -0.3587641367759799,
          -0.3968367926705408,
          -0.3127678558835577,
          3.748438365689132,
          -0.09263155643707117,
          -0.32786473056357607,
          -0.3488694472267188,
          -0.28260722787307363,
          3.7583015154297303,
          3.7595448946116923,
          -0.24763714184210753,
          -0.3587000396593092,
          -0.4039729221590514,
          2.482329184859365,
          -0.3311131456599416,
          -0.28555747641708373
         ],
         "y": [
          1.0675695653787323,
          1.0678262693776404,
          1.6999203073423295,
          1.2695598637166294,
          1.0458523312853953,
          0.8443780707199332,
          0.6005387483933885,
          1.9393611762671332,
          1.067570826913195,
          1.0678565081299198,
          1.0676251376949415,
          1.0675693780325421,
          1.0675696214732227,
          0.16071382537026369,
          0.9352701798313005,
          1.5729806379781435,
          0.3306605655141065,
          1.067560298865857,
          1.0264747734760045,
          1.269563756137697,
          1.769233974267581,
          0.8333373281471625,
          0.8441158686803255,
          0.8237221052061866,
          1.816521558638027,
          1.8164985594961829,
          0.5397083380217277,
          1.067496600381281,
          1.0675624754699775,
          1.0808077982220565,
          1.0257396909910235,
          1.2695648747003956,
          0.053009393100333334,
          1.5812070849124729,
          1.2695613897231868,
          1.067404795029812,
          1.067550935941079,
          0.2713592399651384,
          1.2695657411194472,
          0.05305962151564941,
          1.8165066595940345,
          1.0672232493816352,
          -0.03617682477318538,
          1.4329652772054542,
          0.844376150484276,
          0.9352945182810606,
          0.8237337592653866,
          1.816487670791017,
          0.8235937770437773,
          1.0675702282202013,
          1.8164907885488095,
          1.0257097443400938,
          1.0675665429021073,
          1.2695655581357894,
          1.5668180343328462,
          1.9722134903408381,
          0.9911668324961604,
          0.8237253265704538,
          1.816481463491425,
          0.8439928777295521,
          1.9394894877872502,
          0.9591059027146779,
          0.8443791458476864,
          1.2635615588862508,
          0.8443845560109867,
          1.5390907857879166,
          1.0675562769130136,
          0.8236484350920431,
          1.2694109265969624,
          0.7995154875958111,
          0.8443720286791386,
          0.15925908137837552,
          1.5729788417931607,
          1.269594650612194,
          0.8442951000474229,
          0.8441772013253322,
          1.5345441564702837,
          1.2695184603644456,
          1.4655572391299092,
          1.0671104491562804,
          1.0675532932670253,
          1.0675734085699922,
          1.5725632621235826,
          1.02574204235968,
          1.2695512456191098,
          1.0675518748725403,
          0.8443781707265792,
          1.2695639321205112,
          1.0675620552907925,
          1.0675704413861724,
          0.8237980701942639,
          0.395599000565061,
          1.9257034674145699,
          1.5729809323836803,
          1.0675847035700057,
          1.2690646798070122,
          1.5730287044762559,
          1.572643729317263,
          1.962756294531055,
          1.5728617630244484,
          1.9225131038747028,
          1.686562060380644,
          1.2695607634235686,
          1.8577726907856156,
          1.2695650226728148,
          1.5729799947510232,
          1.0675613600385885,
          1.0675533194610343,
          1.5729788417931607,
          1.2695428267218425,
          0.8443839220184891,
          1.067565073326549,
          0.7654497684643222,
          1.0675630011162407,
          1.0673056772403222,
          1.2695631767437972,
          1.067513855755633,
          0.8255573436322549,
          1.0675657628114208,
          1.0675696928092848,
          1.4704073680534318,
          0.6115877146244373,
          1.0673738151014927,
          0.8443790425632776,
          1.2695635655414472,
          1.0675666408970037,
          1.067560642897477,
          0.8237000801892899,
          0.3001587514669246,
          1.572644191450732,
          1.06760799730586,
          0.8237235397861034,
          1.2695295040786303,
          1.9153841901326807,
          1.2695693867627855,
          1.5729826937600104,
          1.269533278617051,
          1.5729940877979351,
          1.2694132434051741,
          1.0675632261826224,
          1.0675582679876252,
          1.0671566461976865,
          0.5695980274339161,
          1.2695561029827138,
          0.8230284697998032,
          1.5729708223684469,
          1.0675358302798532,
          1.9206718695490812,
          0.6004605028198735,
          1.4655574964131695,
          1.9567508464940626,
          1.534541407493443,
          1.5345225010341343,
          1.9206994984965735,
          1.8164889250621608,
          1.0509967988286528,
          1.8164938047600907,
          1.5351034004168125,
          1.9207177997523714,
          1.2695666226894322,
          0.8237227201351176,
          1.5729544297466111,
          1.0675584539326382,
          1.0675697267912188,
          1.0460753917365755,
          1.4536590505139182,
          1.2695569992008788,
          0.5396256585170763,
          1.0675635803592949,
          0.6362030920118825,
          1.0791241193628587,
          0.8443868314067322,
          1.534301018681177,
          1.8252517571744329,
          1.0675618600822285,
          1.7141881372774184,
          1.4787582729933797,
          1.0675708446225969,
          0.6008843832435549,
          1.2695226313095707,
          1.6864883645008035,
          1.5349737063246358,
          1.8164878345143443,
          1.067532919572866,
          1.2906901045878527,
          1.4704082095771132,
          1.0491302370325606,
          1.067511395639508,
          1.2695646169650554,
          1.4703715661534043,
          1.0674646271244015,
          1.0675690437653649,
          1.0257101067513512,
          1.4655525574747987,
          -0.10146872695638756,
          0.41064467995801524,
          1.0675797668924556,
          1.5724171149322188,
          0.9701985258651695,
          1.2695555248984722,
          1.6071666850857567,
          0.8236818002287405,
          1.493396455917653,
          1.534529224271594,
          1.0675687078127138,
          1.0675680334854876,
          0.8236356163487832,
          1.5483021970809936,
          1.5729515953586122,
          1.0675616328346795,
          1.7290326805632406,
          1.7142373718240658,
          1.5729500228860291,
          0.6005268316959278,
          1.0660875421043732,
          1.3287893420888246,
          0.8237282207093116,
          1.067961571050294,
          0.8237067505307206,
          1.9250991854580777,
          1.067544614962595,
          1.6956226531837026,
          0.38056535531009417,
          1.4701414980181524,
          0.6005231791763442,
          1.564439066054099,
          0.8443740864953749,
          1.4704033378451629,
          1.714257442639405,
          0.8167480668685219,
          0.8800345822365518,
          1.4703973295530566,
          1.0671588606415998,
          1.0257027712747608,
          1.2695581128632152,
          0.8236627293589728,
          1.5728955246284722,
          0.9139700142742135,
          1.025677512276608,
          1.060611606729491,
          0.3725641945656285,
          1.3633256102361886,
          1.473713430807347,
          1.0334883965308392,
          1.7142505339833012,
          -0.11877378866590826,
          1.0675675625326877,
          1.7142572810742167,
          1.4704041655631346,
          1.0505865002377197,
          1.0257089768018985,
          1.0675441395372602,
          1.6070745478346666,
          1.9234645415141112,
          1.2693983171171839,
          1.2695632169073743,
          1.6866032738690706,
          1.0600271469890856,
          1.2696744154436728,
          1.0674885336787623,
          1.0675564416210404,
          0.6005318032874087,
          1.0675739146045218,
          1.2695553493136718,
          1.0636744193662357,
          0.8524092457072558,
          1.2693749172803053,
          1.0675904628163972,
          1.0675868873692467,
          1.2695698719067863,
          1.0675502554275191,
          1.5729760804361685,
          0.7956971103438002,
          0.8443769196529589,
          1.686552967167835,
          0.8241022627576653,
          1.0675594217773638,
          0.5396840889960024,
          1.8164917292267997,
          1.6870256962689214,
          1.687071683848676,
          0.6005769278181288,
          1.572978698053542,
          1.8947902733293112,
          0.722741881636554,
          1.067473021650634,
          0.823721128182118
         ],
         "z": [
          -0.5822512728586117,
          -0.5826865738545117,
          -0.6846281565858386,
          -0.47974702028108246,
          -0.1380269175099533,
          -0.37218089863101467,
          -0.08598036584784574,
          -0.6714046289481345,
          -0.5822594165061822,
          -0.5824855820595334,
          -0.582296651599938,
          -0.5822513319681902,
          -0.5822517428637877,
          -0.36969989738833114,
          -0.48702494687429676,
          -0.12882085899928733,
          -0.3721625994061317,
          -0.5822946122134062,
          -0.19415706905865482,
          -0.47975019872046054,
          -0.6009183401221784,
          -0.3038996402054472,
          -0.37298372698137666,
          -0.2960549888402537,
          -0.6465694273289627,
          -0.6465506468895376,
          -0.3083265728129567,
          -0.5823698632112673,
          -0.582287056773337,
          -0.5930612339992145,
          -0.193556821789633,
          -0.4797417797383379,
          0.10151678569400592,
          -0.3313135131522269,
          -0.47974317576014147,
          -0.5827954746500036,
          -0.5822784823607736,
          -0.3733238716186218,
          -0.4797448200051992,
          0.10151819239534632,
          -0.6465572611970657,
          -0.5823926989759869,
          -0.2717417878571442,
          -0.23743524613168496,
          -0.3721988446424536,
          -0.4870429628799905,
          -0.29605764136595913,
          -0.6465468460993957,
          -0.29615544482125017,
          -0.582251814098121,
          -0.6465485435352797,
          -0.1935408525704647,
          -0.5822572891299551,
          -0.47974233738785604,
          -0.3876506208070387,
          -0.8330937550488547,
          -0.11301855210281657,
          -0.2960931772535188,
          -0.6465578976746678,
          -0.3722812461362538,
          -0.6713720842901421,
          -0.5261311126079516,
          -0.3721817765494942,
          -0.4861026275825688,
          -0.3721813158284403,
          -0.5622497279282471,
          -0.5822582390103249,
          -0.29608174256459313,
          -0.4797789693611553,
          -0.31827926197976614,
          -0.3721836007950157,
          -0.35245428233043585,
          -0.12882787664302464,
          -0.47979790980771864,
          -0.372198298286707,
          -0.3722302560211159,
          -0.5585752604680951,
          -0.4797628449791371,
          -0.16287886178160588,
          -0.5827248073912317,
          -0.5822567924920992,
          -0.5822968328648445,
          -0.36036061727527097,
          -0.19383745297282406,
          -0.4797518610894975,
          -0.5822750068868362,
          -0.3721805560757296,
          -0.4797422822839568,
          -0.58225404889314,
          -0.5822519881633372,
          -0.29611015582551375,
          -0.29386439193682895,
          -0.7100552724815905,
          -0.12885249152280198,
          -0.5822636342534989,
          -0.4799696612787349,
          -0.1288770773931629,
          -0.36034254150573386,
          -0.7125935157005491,
          -0.12885147869322428,
          -0.7021499354074793,
          -0.14119945617667531,
          -0.47975114869870483,
          -0.6806145035855626,
          -0.47974353479412696,
          -0.12884154465063538,
          -0.5822609219511059,
          -0.582255824039883,
          -0.12882787664302464,
          -0.4797492286379448,
          -0.37218482819786547,
          -0.5822616039486752,
          -0.06525506510433172,
          -0.5822577907519696,
          -0.5823118108684822,
          -0.47974251390068917,
          -0.5822668693302057,
          -0.3113401359638528,
          -0.5822536826053771,
          -0.5822527835137842,
          -0.26280720891714004,
          -0.3244407318596221,
          -0.5823035377017427,
          -0.3721812679925659,
          -0.4797446784261854,
          -0.5822573691497759,
          -0.5822532915097896,
          -0.29605347197998894,
          -0.23915045588692546,
          -0.3603480199746256,
          -0.5827068730931734,
          -0.2960639007352703,
          -0.4797553184634297,
          -0.5594158626795166,
          -0.47979212769758,
          -0.1288693246904393,
          -0.47975840064321973,
          -0.12900152887357055,
          -0.479830070470091,
          -0.582255094995331,
          -0.582254180345633,
          -0.5823383127267019,
          -0.09252609626608808,
          -0.4797515852948351,
          -0.2963301579083306,
          -0.12882557038929843,
          -0.5822682686003878,
          -0.6941746068909395,
          -0.08599604932198845,
          -0.16290728235830967,
          -0.8989494312590453,
          -0.5585390783050123,
          -0.5585703037954884,
          -0.6242900781885737,
          -0.646555506222407,
          -0.589929319280859,
          -0.6465547812568434,
          -0.17366575345683347,
          -0.6243050224690286,
          -0.4797472398258187,
          -0.29605601101849727,
          -0.12882558991358106,
          -0.5822626689120517,
          -0.5822531863605402,
          -0.1367204048439844,
          -0.08664718538202452,
          -0.47974680228891553,
          -0.3084271469374103,
          -0.5822530600062117,
          -0.11858363699532078,
          -0.6022918362253369,
          -0.3722211413482982,
          -0.5588476029306894,
          -0.6167274507631814,
          -0.5822538894914266,
          -0.5490343791480319,
          -0.09052105655788455,
          -0.5822585908851796,
          -0.09007525921688074,
          -0.47976837194248545,
          -0.1412983599266134,
          -0.5716143742471815,
          -0.6466309749241274,
          -0.582310434674104,
          -0.27234030808884785,
          -0.26281001717045294,
          -0.5884051384665191,
          -0.5822674057770134,
          -0.4797627797469963,
          -0.26282251698621023,
          -0.5825473793317069,
          -0.5822525437776539,
          -0.19354157272294387,
          -0.1628714330246831,
          0.11505594350352996,
          -0.4600286124890254,
          -0.5823580216438654,
          -0.36049580837744605,
          -0.4133299179811843,
          -0.4797447499801791,
          -0.45439110685562584,
          -0.2960678161198067,
          -0.06465166609898397,
          -0.5585460985492942,
          -0.582251845230514,
          -0.5822521430299326,
          -0.29618960959742247,
          -0.11224976227373104,
          -0.128834474799564,
          -0.582257521888187,
          -0.2749062251705336,
          -0.5490745826663722,
          -0.1288297970208172,
          -0.09220253358847684,
          -0.5832139182512562,
          -0.08766823752729587,
          -0.2960641484038833,
          -0.5868983954272007,
          -0.2960542523931657,
          -0.7011198980913952,
          -0.5822665333455894,
          -0.38518013936541207,
          -0.46034993282521697,
          -0.2628594854041231,
          -0.0860048827651829,
          -0.13129732433014885,
          -0.37842144165433966,
          -0.26280646327174684,
          -0.5490083134958464,
          -0.297514122555556,
          -0.4047858344478086,
          -0.2628350702823954,
          -0.5823401209780724,
          -0.19355000618987186,
          -0.4797574686840245,
          -0.29610993702134353,
          -0.12884044362677546,
          -0.36168881166844324,
          -0.19354847021956142,
          -0.584205524597486,
          -0.06683149877048697,
          -0.16818893090351142,
          -0.1256248580959787,
          -0.19988419243681854,
          -0.5490233947028932,
          0.05658511904331035,
          -0.5822585459488786,
          -0.5490140718306776,
          -0.262803902380353,
          -0.6001148837343766,
          -0.1935400985554411,
          -0.5822661451269001,
          -0.45450252607066166,
          -0.7018637621736227,
          -0.4797839446640682,
          -0.4797531521431946,
          -0.14160430054181034,
          -0.5909399748755162,
          -0.4798312271425502,
          -0.5822699482478992,
          -0.5822635727705431,
          -0.08597830052521259,
          -0.5822548242938008,
          -0.47994611007820376,
          -0.5835248957057517,
          -0.37881019432314944,
          -0.4800108833776469,
          -0.5822747003565278,
          -0.5824351046186017,
          -0.47983409720088943,
          -0.5823033797435173,
          -0.12882095540184693,
          -0.14050613550345906,
          -0.3722151687837335,
          -0.141206843928301,
          -0.3006044774123768,
          -0.5823702552198866,
          -0.30833069685364495,
          -0.6465451203936485,
          -0.14152502071174694,
          -0.14156257285007223,
          -0.08643045719097917,
          -0.12882293766875927,
          0.019512879593182035,
          -0.09674571319240384,
          -0.582278492462904,
          -0.29604775140356854
         ]
        },
        {
         "customdata": [
          [
           "SHA-256"
          ],
          [
           "Ethash"
          ],
          [
           "Scrypt"
          ],
          [
           "CryptoNight-V7"
          ],
          [
           "Ethash"
          ],
          [
           "Equihash"
          ],
          [
           "Multiple"
          ],
          [
           "Scrypt"
          ],
          [
           "X11"
          ],
          [
           "Scrypt"
          ],
          [
           "Multiple"
          ],
          [
           "Scrypt"
          ],
          [
           "SHA-256"
          ],
          [
           "Scrypt"
          ],
          [
           "Scrypt"
          ],
          [
           "Quark"
          ],
          [
           "Groestl"
          ],
          [
           "Scrypt"
          ],
          [
           "Scrypt"
          ],
          [
           "Scrypt"
          ],
          [
           "X11"
          ],
          [
           "Multiple"
          ],
          [
           "SHA-256"
          ],
          [
           "Scrypt"
          ],
          [
           "Scrypt"
          ],
          [
           "Scrypt"
          ],
          [
           "Scrypt"
          ],
          [
           "Scrypt"
          ],
          [
           "NeoScrypt"
          ],
          [
           "Scrypt"
          ],
          [
           "Scrypt"
          ],
          [
           "Scrypt"
          ],
          [
           "Scrypt"
          ],
          [
           "SHA-256"
          ],
          [
           "Scrypt"
          ],
          [
           "Scrypt"
          ],
          [
           "Scrypt"
          ],
          [
           "Scrypt"
          ],
          [
           "HybridScryptHash256"
          ],
          [
           "Scrypt"
          ],
          [
           "Scrypt"
          ],
          [
           "SHA-256"
          ],
          [
           "Scrypt"
          ],
          [
           "Scrypt"
          ],
          [
           "Scrypt"
          ],
          [
           "Scrypt"
          ],
          [
           "SHA-256"
          ],
          [
           "SHA-256"
          ],
          [
           "SHA-256"
          ],
          [
           "SHA-256"
          ],
          [
           "SHA-256"
          ],
          [
           "X11"
          ],
          [
           "Scrypt"
          ],
          [
           "Lyra2REv2"
          ],
          [
           "Scrypt"
          ],
          [
           "SHA-256"
          ],
          [
           "CryptoNight"
          ],
          [
           "CryptoNight"
          ],
          [
           "Scrypt"
          ],
          [
           "Scrypt"
          ],
          [
           "Scrypt"
          ],
          [
           "Scrypt"
          ],
          [
           "Scrypt"
          ],
          [
           "Scrypt"
          ],
          [
           "Stanford Folding"
          ],
          [
           "Multiple"
          ],
          [
           "QuBit"
          ],
          [
           "Scrypt"
          ],
          [
           "Scrypt"
          ],
          [
           "M7 POW"
          ],
          [
           "Scrypt"
          ],
          [
           "SHA-256"
          ],
          [
           "Scrypt"
          ],
          [
           "X11"
          ],
          [
           "Lyra2RE"
          ],
          [
           "SHA-256"
          ],
          [
           "X11"
          ],
          [
           "Scrypt"
          ],
          [
           "Scrypt"
          ],
          [
           "Ethash"
          ],
          [
           "Blake2b"
          ],
          [
           "X11"
          ],
          [
           "SHA-256"
          ],
          [
           "Scrypt"
          ],
          [
           "1GB AES Pattern Search"
          ],
          [
           "Scrypt"
          ],
          [
           "SHA-256"
          ],
          [
           "X11"
          ],
          [
           "Dagger"
          ],
          [
           "Scrypt"
          ],
          [
           "X11GOST"
          ],
          [
           "Scrypt"
          ],
          [
           "X11"
          ],
          [
           "Scrypt"
          ],
          [
           "X11"
          ],
          [
           "Equihash"
          ],
          [
           "CryptoNight"
          ],
          [
           "SHA-256"
          ],
          [
           "Multiple"
          ],
          [
           "Scrypt"
          ],
          [
           "SHA-256"
          ],
          [
           "Scrypt"
          ],
          [
           "Lyra2Z"
          ],
          [
           "Ethash"
          ],
          [
           "Equihash"
          ],
          [
           "Scrypt"
          ],
          [
           "X11"
          ],
          [
           "X11"
          ],
          [
           "CryptoNight"
          ],
          [
           "Scrypt"
          ],
          [
           "CryptoNight"
          ],
          [
           "Lyra2RE"
          ],
          [
           "X11"
          ],
          [
           "CryptoNight-V7"
          ],
          [
           "Scrypt"
          ],
          [
           "X11"
          ],
          [
           "Equihash"
          ],
          [
           "Scrypt"
          ],
          [
           "Lyra2RE"
          ],
          [
           "Dagger-Hashimoto"
          ],
          [
           "Scrypt"
          ],
          [
           "NIST5"
          ],
          [
           "Scrypt"
          ],
          [
           "SHA-256"
          ],
          [
           "Scrypt"
          ],
          [
           "CryptoNight-V7"
          ],
          [
           "Argon2d"
          ],
          [
           "Blake2b"
          ],
          [
           "Cloverhash"
          ],
          [
           "CryptoNight"
          ],
          [
           "X11"
          ],
          [
           "Scrypt"
          ],
          [
           "Scrypt"
          ],
          [
           "X11"
          ],
          [
           "X11"
          ],
          [
           "CryptoNight"
          ],
          [
           "Time Travel"
          ],
          [
           "Scrypt"
          ],
          [
           "Keccak"
          ],
          [
           "X11"
          ],
          [
           "SHA-256"
          ],
          [
           "Scrypt"
          ],
          [
           "Scrypt"
          ],
          [
           "Scrypt"
          ],
          [
           "Scrypt"
          ],
          [
           "Scrypt"
          ],
          [
           "Scrypt"
          ],
          [
           "CryptoNight"
          ],
          [
           "Equihash"
          ],
          [
           "X11"
          ],
          [
           "NeoScrypt"
          ],
          [
           "Equihash"
          ],
          [
           "Dagger"
          ],
          [
           "Scrypt"
          ],
          [
           "X11"
          ],
          [
           "NeoScrypt"
          ],
          [
           "Ethash"
          ],
          [
           "NeoScrypt"
          ],
          [
           "Multiple"
          ],
          [
           "CryptoNight"
          ],
          [
           "CryptoNight"
          ],
          [
           "Ethash"
          ],
          [
           "X11"
          ],
          [
           "CryptoNight-V7"
          ],
          [
           "Scrypt"
          ],
          [
           "BLAKE256"
          ],
          [
           "X11"
          ],
          [
           "NeoScrypt"
          ],
          [
           "NeoScrypt"
          ],
          [
           "Scrypt"
          ],
          [
           "X11"
          ],
          [
           "SHA-256"
          ],
          [
           "C11"
          ],
          [
           "CryptoNight"
          ],
          [
           "SkunkHash"
          ],
          [
           "CryptoNight"
          ],
          [
           "Scrypt"
          ],
          [
           "Dagger"
          ],
          [
           "Lyra2REv2"
          ],
          [
           "Scrypt"
          ],
          [
           "Scrypt"
          ],
          [
           "X11"
          ],
          [
           "Ethash"
          ],
          [
           "CryptoNight"
          ],
          [
           "Scrypt"
          ],
          [
           "IMesh"
          ],
          [
           "Equihash"
          ],
          [
           "Lyra2Z"
          ],
          [
           "X11"
          ],
          [
           "CryptoNight"
          ],
          [
           "NIST5"
          ],
          [
           "Lyra2RE"
          ],
          [
           "Tribus"
          ],
          [
           "Lyra2Z"
          ],
          [
           "CryptoNight"
          ],
          [
           "CryptoNight Heavy"
          ],
          [
           "CryptoNight"
          ],
          [
           "Jump Consistent Hash"
          ],
          [
           "CryptoNight"
          ],
          [
           "X16R"
          ],
          [
           "HMQ1725"
          ],
          [
           "X11"
          ],
          [
           "Scrypt"
          ],
          [
           "CryptoNight-V7"
          ],
          [
           "Cryptonight-GPU"
          ],
          [
           "XEVAN"
          ],
          [
           "CryptoNight Heavy"
          ],
          [
           "SHA-256"
          ],
          [
           "X11"
          ],
          [
           "X16R"
          ],
          [
           "Equihash"
          ],
          [
           "Lyra2Z"
          ],
          [
           "SHA-256"
          ],
          [
           "CryptoNight"
          ],
          [
           "Blake"
          ],
          [
           "Blake"
          ],
          [
           "Exosis"
          ],
          [
           "Scrypt"
          ],
          [
           "Equihash"
          ],
          [
           "Equihash"
          ],
          [
           "QuBit"
          ],
          [
           "SHA-256"
          ],
          [
           "X13"
          ],
          [
           "SHA-256"
          ],
          [
           "Scrypt"
          ],
          [
           "NeoScrypt"
          ],
          [
           "Blake"
          ],
          [
           "Scrypt"
          ],
          [
           "SHA-256"
          ],
          [
           "Scrypt"
          ],
          [
           "Groestl"
          ],
          [
           "Scrypt"
          ],
          [
           "Scrypt"
          ],
          [
           "Multiple"
          ],
          [
           "Equihash+Scrypt"
          ],
          [
           "Ethash"
          ],
          [
           "CryptoNight"
          ],
          [
           "Equihash"
          ]
         ],
         "hovertemplate": "<b>%{hovertext}</b><br><br>Class=%{marker.color}<br>PC 1=%{x}<br>PC 2=%{y}<br>PC 3=%{z}<br>Algorithm=%{customdata[0]}<extra></extra>",
         "hovertext": [
          "Bitcoin",
          "Ethereum",
          "Litecoin",
          "Monero",
          "Ethereum Classic",
          "ZCash",
          "DigiByte",
          "ProsperCoin",
          "Spreadcoin",
          "Argentum",
          "MyriadCoin",
          "MoonCoin",
          "ZetaCoin",
          "SexCoin",
          "Quatloo",
          "QuarkCoin",
          "Riecoin",
          "Digitalcoin ",
          "Catcoin",
          "CannaCoin",
          "CryptCoin",
          "Verge",
          "DevCoin",
          "EarthCoin",
          "E-Gulden",
          "Einsteinium",
          "Emerald",
          "Franko",
          "FeatherCoin",
          "GrandCoin",
          "GlobalCoin",
          "GoldCoin",
          "Infinite Coin",
          "IXcoin",
          "KrugerCoin",
          "LuckyCoin",
          "Litebar ",
          "MegaCoin",
          "MediterraneanCoin",
          "MinCoin",
          "NobleCoin",
          "Namecoin",
          "NyanCoin",
          "RonPaulCoin",
          "StableCoin",
          "SmartCoin",
          "SysCoin",
          "TigerCoin",
          "TerraCoin",
          "UnbreakableCoin",
          "Unobtanium",
          "UroCoin",
          "ViaCoin",
          "Vertcoin",
          "WorldCoin",
          "JouleCoin",
          "ByteCoin",
          "DigitalNote ",
          "MonaCoin",
          "Gulden",
          "PesetaCoin",
          "Wild Beast Coin",
          "Flo",
          "ArtByte",
          "Folding Coin",
          "Unitus",
          "CypherPunkCoin",
          "OmniCron",
          "GreenCoin",
          "Cryptonite",
          "MasterCoin",
          "SoonCoin",
          "1Credit",
          "MarsCoin ",
          "Crypto",
          "Anarchists Prime",
          "BowsCoin",
          "Song Coin",
          "BitZeny",
          "Expanse",
          "Siacoin",
          "MindCoin",
          "I0coin",
          "Revolution VR",
          "HOdlcoin",
          "Gamecredits",
          "CarpeDiemCoin",
          "Adzcoin",
          "SoilCoin",
          "YoCoin",
          "SibCoin",
          "Francs",
          "BolivarCoin",
          "Omni",
          "PizzaCoin",
          "Komodo",
          "Karbo",
          "ZayedCoin",
          "Circuits of Value",
          "DopeCoin",
          "DollarCoin",
          "Shilling",
          "ZCoin",
          "Elementrem",
          "ZClassic",
          "KiloCoin",
          "ArtexCoin",
          "Kurrent",
          "Cannabis Industry Coin",
          "OsmiumCoin",
          "Bikercoins",
          "HexxCoin",
          "PacCoin",
          "Citadel",
          "BeaverCoin",
          "VaultCoin",
          "Zero",
          "Canada eCoin",
          "Zoin",
          "DubaiCoin",
          "EB3coin",
          "Coinonat",
          "BenjiRolls",
          "ILCoin",
          "EquiTrader",
          "Quantum Resistant Ledger",
          "Dynamic",
          "Nano",
          "ChanCoin",
          "Dinastycoin",
          "DigitalPrice",
          "Unify",
          "SocialCoin",
          "ArcticCoin",
          "DAS",
          "LeviarCoin",
          "Bitcore",
          "gCn Coin",
          "SmartCash",
          "Onix",
          "Bitcoin Cash",
          "Sojourn Coin",
          "NewYorkCoin",
          "FrazCoin",
          "Kronecoin",
          "AdCoin",
          "Linx",
          "Sumokoin",
          "BitcoinZ",
          "Elements",
          "VIVO Coin",
          "Bitcoin Gold",
          "Pirl",
          "eBoost",
          "Pura",
          "Innova",
          "Ellaism",
          "GoByte",
          "SHIELD",
          "UltraNote",
          "BitCoal",
          "DaxxCoin",
          "AC3",
          "Lethean",
          "PopularCoin",
          "Photon",
          "Sucre",
          "SparksPay",
          "GunCoin",
          "IrishCoin",
          "Pioneer Coin",
          "UnitedBitcoin",
          "Interzone",
          "TurtleCoin",
          "MUNcoin",
          "Niobio Cash",
          "ShareChain",
          "Travelflex",
          "KREDS",
          "BitFlip",
          "LottoCoin",
          "Crypto Improvement Fund",
          "Callisto Network",
          "BitTube",
          "Poseidon",
          "Aidos Kuneen",
          "Bitrolium",
          "Alpenschillling",
          "FuturoCoin",
          "Monero Classic",
          "Jumpcoin",
          "Infinex",
          "KEYCO",
          "GINcoin",
          "PlatinCoin",
          "Loki",
          "Newton Coin",
          "MassGrid",
          "PluraCoin",
          "Motion",
          "PlusOneCoin",
          "Axe",
          "HexCoin",
          "Webchain",
          "Ryo",
          "Urals Coin",
          "Qwertycoin",
          "Project Pai",
          "Azart",
          "Xchange",
          "CrypticCoin",
          "Actinium",
          "Bitcoin SV",
          "FREDEnergy",
          "Universal Molecule",
          "Lithium",
          "Exosis",
          "Block-Logic",
          "Beam",
          "Bithereum",
          "SLICE",
          "BLAST",
          "Bitcoin Rhodium",
          "GlobalToken",
          "SolarCoin",
          "UFO Coin",
          "BlakeCoin",
          "Crypto Escudo",
          "Crown Coin",
          "SmileyCoin",
          "Groestlcoin",
          "Bata",
          "Pakcoin",
          "JoinCoin",
          "Vollar",
          "Reality Clash",
          "Beldex",
          "Horizen"
         ],
         "legendgroup": "0",
         "marker": {
          "color": [
           0,
           0,
           0,
           0,
           0,
           0,
           0,
           0,
           0,
           0,
           0,
           0,
           0,
           0,
           0,
           0,
           0,
           0,
           0,
           0,
           0,
           0,
           0,
           0,
           0,
           0,
           0,
           0,
           0,
           0,
           0,
           0,
           0,
           0,
           0,
           0,
           0,
           0,
           0,
           0,
           0,
           0,
           0,
           0,
           0,
           0,
           0,
           0,
           0,
           0,
           0,
           0,
           0,
           0,
           0,
           0,
           0,
           0,
           0,
           0,
           0,
           0,
           0,
           0,
           0,
           0,
           0,
           0,
           0,
           0,
           0,
           0,
           0,
           0,
           0,
           0,
           0,
           0,
           0,
           0,
           0,
           0,
           0,
           0,
           0,
           0,
           0,
           0,
           0,
           0,
           0,
           0,
           0,
           0,
           0,
           0,
           0,
           0,
           0,
           0,
           0,
           0,
           0,
           0,
           0,
           0,
           0,
           0,
           0,
           0,
           0,
           0,
           0,
           0,
           0,
           0,
           0,
           0,
           0,
           0,
           0,
           0,
           0,
           0,
           0,
           0,
           0,
           0,
           0,
           0,
           0,
           0,
           0,
           0,
           0,
           0,
           0,
           0,
           0,
           0,
           0,
           0,
           0,
           0,
           0,
           0,
           0,
           0,
           0,
           0,
           0,
           0,
           0,
           0,
           0,
           0,
           0,
           0,
           0,
           0,
           0,
           0,
           0,
           0,
           0,
           0,
           0,
           0,
           0,
           0,
           0,
           0,
           0,
           0,
           0,
           0,
           0,
           0,
           0,
           0,
           0,
           0,
           0,
           0,
           0,
           0,
           0,
           0,
           0,
           0,
           0,
           0,
           0,
           0,
           0,
           0,
           0,
           0,
           0,
           0,
           0,
           0,
           0,
           0,
           0,
           0,
           0,
           0,
           0,
           0,
           0,
           0,
           0,
           0,
           0,
           0,
           0,
           0,
           0,
           0,
           0,
           0,
           0,
           0,
           0,
           0,
           0,
           0,
           0,
           0,
           0,
           0,
           0,
           0,
           0,
           0,
           0,
           0
          ],
          "coloraxis": "coloraxis",
          "symbol": "diamond"
         },
         "mode": "markers",
         "name": "0",
         "scene": "scene",
         "showlegend": true,
         "type": "scatter3d",
         "x": [
          -0.14460151824971557,
          -0.15356925770497734,
          -0.16224691899817145,
          -0.13634665003958785,
          -0.15201369006826876,
          -0.1645652319583347,
          0.17023792790293427,
          -0.16339204543132316,
          -0.23018283672036188,
          -0.16300911535475915,
          -0.08288506164824436,
          2.5541458994774753,
          -0.14168920337145668,
          -0.1602674341864612,
          -0.16281351687390358,
          -0.22288460246701935,
          -0.20768992418061302,
          -0.16286188672623475,
          -0.1633743216792077,
          -0.16346067059028804,
          -0.2302721131380174,
          0.19400544960836374,
          0.23287607278786607,
          0.08502904768823179,
          -0.16320716845240735,
          -0.15881702448295815,
          -0.1631465763926323,
          -0.16351762697464672,
          -0.17492948416317436,
          -0.14276209074333346,
          -0.16231385068074025,
          -0.16259115446333622,
          1.583730573826557,
          -0.14456290996425641,
          -0.15988350003674684,
          -0.16323358760273018,
          -0.16358806243282295,
          -0.1628480322792768,
          -0.14075299637283936,
          -0.16346945958987374,
          -0.02856043911059103,
          -0.14464047573658206,
          -0.1571393827345232,
          -0.1634489919922099,
          -0.16154607426238382,
          -0.16293624835756246,
          -0.13180620481399083,
          -0.1441047402843561,
          -0.1443917434798065,
          -0.14437501160588734,
          -0.14496480346490015,
          -0.23044577771582803,
          -0.16316565933804952,
          -0.19519423952472675,
          -0.16027225637177445,
          -0.14417198177039442,
          3.846594423440994,
          0.448780084089746,
          -0.16203449757467153,
          -0.1466536117239647,
          -0.1607544951138413,
          -0.1635902796645863,
          -0.16061956639479646,
          -0.14685719437338024,
          -0.11115177931618797,
          -0.11685764273409839,
          -0.18238344891888117,
          -0.16346343584855877,
          -0.036546629828906566,
          -0.10467806276933854,
          -0.1635991526281724,
          -0.1446682372536076,
          0.48751925756087616,
          -0.22983355453382245,
          -0.1522746515741056,
          -0.1444084852309652,
          -0.23011820279587447,
          -0.16172552531660608,
          -0.16091851880433736,
          -0.1546362226887662,
          0.3684090458134554,
          -0.2301535431589898,
          -0.14456403166899978,
          -0.1595608505430817,
          -0.16189655552382634,
          -0.16216393337379262,
          0.27352307796765546,
          -0.2293152383823419,
          -0.15774276288219025,
          -0.162411824597387,
          -0.13892700532076896,
          -0.16338932489891367,
          -0.23011687263656763,
          -0.16359921106749237,
          -0.230266757400047,
          -0.3259795836032722,
          0.2938460701895138,
          -0.14482388577330077,
          -0.09695023515787796,
          -0.16076899046457324,
          -0.1447825457578253,
          -0.163263016780596,
          -0.14857619970087593,
          -0.15437859503332324,
          -0.16458683658933973,
          -0.09043949577547808,
          -0.21686121660542101,
          -0.22809762175323595,
          0.2938403578742426,
          -0.16358097457125348,
          0.29397096981095955,
          -0.15281438260684774,
          0.48384493561511044,
          -0.13511340090034932,
          -0.16354928459862603,
          -0.22301203649716478,
          -0.16459917537850624,
          -0.16168432190585308,
          -0.15253300403494655,
          -0.14086859034107124,
          -0.13451855659078787,
          -0.19280472199153614,
          -0.16311214583757971,
          -0.11118637313140921,
          -0.16293457674994571,
          -0.13497064002663042,
          -0.15138386649042324,
          -0.03166646688958619,
          -0.15943047614674136,
          0.32992730234704565,
          -0.22932374281644002,
          -0.1632532733894254,
          -0.16301719303265128,
          -0.22971790677159484,
          -0.23029472976281018,
          0.2942348798297273,
          -0.15226036931886805,
          3.242694215469621,
          -0.10449991698461854,
          -0.2211799213179199,
          -0.14460068294709835,
          -0.0892915083262375,
          1.5824162622818319,
          -0.1633510699496376,
          -0.16280349107854242,
          -0.16250475382961851,
          -0.16249169226237967,
          0.2944181317464034,
          0.04745333516822755,
          -0.18472075364393004,
          -0.17961329218060912,
          -0.16444534401910244,
          -0.15650348557781618,
          -0.16168253208933775,
          -0.2258441133690551,
          -0.17945892317136145,
          -0.1527465732023676,
          -0.17955897519492536,
          -0.10709984602477347,
          1.1306863271584857,
          0.2938231989696962,
          -0.07774931451347677,
          -0.22558728389077395,
          -0.12409543733184626,
          -0.07982307286420293,
          1.0906384364642852,
          -0.23026874981762283,
          -0.17961080879651925,
          -0.17265614563983506,
          -0.16260281964868012,
          -0.23019422327125824,
          -0.1445800861411714,
          -0.2013216404943746,
          8.019978119057198,
          -0.1256763871905724,
          0.29769306202846485,
          0.02925794231978929,
          -0.1560065786823008,
          -0.1807679389607467,
          -0.16317604118981288,
          0.1435909222078381,
          -0.22434195222646214,
          -0.10585711707864796,
          0.301734632388218,
          -0.16341277820775424,
          -0.14668641793230142,
          -0.1634373691938611,
          -0.14636300319142426,
          -0.22936449189794705,
          0.29400557031216346,
          -0.19286395179813912,
          -0.15265982787768684,
          -0.17560569316128485,
          -0.14866044879726148,
          0.29792731619325225,
          0.5839029149868106,
          2.100120161921285,
          -0.1445507952662166,
          0.3075956003470895,
          -0.19072093015329322,
          -0.16084568352081394,
          -0.23025092895589594,
          -0.16343735399177325,
          -0.12398082948800361,
          -0.14212520851558486,
          -0.135679330775871,
          3.103677371292098,
          -0.10446652687302468,
          -0.23022233999384065,
          -0.1901495459663759,
          -0.05930683986214732,
          -0.14805907945227084,
          -0.1446007204910404,
          0.37366156715920074,
          -0.13395606205794447,
          -0.13434728214867667,
          -0.1594046777419517,
          -0.16233099572640874,
          -0.16250831348616981,
          -0.16427833031783493,
          -0.18159559978619735,
          -0.14387758935175637,
          -0.11312692710828687,
          -0.1427469309595614,
          0.5313692997728974,
          -0.10484812431445938,
          -0.08489169996602149,
          -0.147007694301998,
          -0.1443911142911302,
          0.5514666257403269,
          -0.2072513279624496,
          -0.1635140242427964,
          -0.16147219063065293,
          -0.11759212786847245,
          -0.1282043308117226,
          -0.1544117221225034,
          0.31555779414564666,
          -0.16456628830140715
         ],
         "y": [
          -1.3320968021961068,
          -2.03405487897264,
          -1.1089194712730848,
          -2.268282347440725,
          -2.034139076500107,
          -2.0513765534243276,
          -1.8831455129968155,
          -1.1089193053704358,
          -0.906921152893803,
          -1.1089341635843555,
          -1.879684167034066,
          -1.267560901787643,
          -1.332089511472466,
          -1.108958293649026,
          -1.1089512260482883,
          -0.46221073868247914,
          -1.2412246315438105,
          -1.1089180316212714,
          -1.1089186498403485,
          -1.1089165387232016,
          -0.9069231050426212,
          -1.8792664606322669,
          -1.3322944256678244,
          -1.1088283616632482,
          -1.108912467516838,
          -1.1089382544152908,
          -1.1089176505023548,
          -1.1089173601498026,
          -1.6368189448841715,
          -1.1091009010890935,
          -1.1089124980260874,
          -1.1089242700260635,
          -1.105433219256215,
          -1.3320953742313857,
          -1.108954501169832,
          -1.1089127697417744,
          -1.1089132932110053,
          -1.108913357688533,
          -2.2596849503185363,
          -1.1089147445664866,
          -1.1140419478002719,
          -1.3320982430763784,
          -1.1089013170634023,
          -1.1089214115939825,
          -1.1090055853869945,
          -1.1089228296436058,
          -1.3322087046142355,
          -1.3320959841948088,
          -1.3321032166435351,
          -1.332128244487356,
          -1.3320962342089515,
          -0.9069173797634194,
          -1.1089122820878607,
          -1.2964441431995377,
          -1.108968879698298,
          -1.3320971132830448,
          -2.2858496080150577,
          -2.2937707347441503,
          -1.1089258688210177,
          -1.1094198986554553,
          -1.1089198759046535,
          -1.108914237756087,
          -1.1089105754422153,
          -1.1089684876177055,
          -2.2528747625200642,
          -1.8795908500503848,
          -1.564873290286038,
          -1.1089100480027543,
          -1.1109627605214496,
          -2.248116926272263,
          -1.1089132103539043,
          -1.3320992698628953,
          -1.1469225313716038,
          -0.9069170082219006,
          -2.258068821113417,
          -1.332111772828496,
          -0.906919437258541,
          -1.108985388022574,
          -1.108982374642359,
          -2.034105752047512,
          -2.1981248361848484,
          -0.9069173697917439,
          -1.3320954157187186,
          -1.1089051634566025,
          -2.17561458634849,
          -1.108916401969631,
          -1.3312137413494338,
          -0.9069322583539067,
          -2.209728313390969,
          -1.1089825002422817,
          -2.2399030977400134,
          -1.1089185298360666,
          -0.9069220877127182,
          -1.1089132104703532,
          -0.9069276313454369,
          -1.428262414226405,
          -2.292758739484486,
          -1.3320974244553496,
          -1.879664450778064,
          -1.1089430985497692,
          -1.3320965044274715,
          -1.108920607336846,
          -2.2338210149178526,
          -2.034102499550327,
          -2.0513773524924694,
          -1.1129560402118768,
          -0.9067523980778455,
          -0.9069844110775827,
          -2.292766374801343,
          -1.1089139518337545,
          -2.292764243644138,
          -2.258051130805665,
          -0.9479899330461576,
          -2.2683615934078056,
          -1.108913215550191,
          -0.9073173485167463,
          -2.0513751092030983,
          -1.1089094616819513,
          -2.2580481477894945,
          -2.255078529193957,
          -1.110536869736909,
          -0.6419545079631236,
          -1.1089187530182278,
          -1.3325340197429492,
          -1.108936806004883,
          -2.268302320230956,
          -2.1952641617240487,
          -2.213151676310492,
          -2.2405560965524822,
          -2.292767316843485,
          -0.9069433715042295,
          -1.1089130097426318,
          -1.1089418863864324,
          -0.9069309535247106,
          -0.9069245489618954,
          -2.2927740551499176,
          -2.1954419087042734,
          -1.1179103128300574,
          -1.26341742108809,
          -0.9073170772526941,
          -1.332096771301633,
          -1.1132510372129416,
          -1.044334726043404,
          -1.108917114939825,
          -1.1089400566289505,
          -1.1089398061489284,
          -1.108939323054251,
          -2.2927908243596824,
          -2.057693838676266,
          -0.9064410387239472,
          -1.6367836319758289,
          -2.0513721192531222,
          -2.209767723560184,
          -1.1089093954838591,
          -0.9069834022616339,
          -1.6367900709202674,
          -2.0342134267901195,
          -1.636784862591345,
          -1.879675390997774,
          -2.319168237659333,
          -2.292761272680765,
          -2.0379997336650417,
          -0.9071088857455507,
          -2.268503787427367,
          -1.109188817303072,
          -1.240968148014501,
          -0.9069241954901002,
          -1.6367794906483646,
          -1.6368455489711158,
          -1.1089191363453132,
          -0.9069235987749367,
          -1.3320954466315573,
          -1.2062854851290794,
          -2.681906386471391,
          -2.236796694168362,
          -2.292836476365754,
          -1.1085289148742117,
          -2.209711342841299,
          -1.2965962839985017,
          -1.1089241395891398,
          -1.1099741779352514,
          -0.9070290803088045,
          -2.0366771329078617,
          -2.2931351371161446,
          -1.1089200721921932,
          -2.2629651727228475,
          -2.0513679090605224,
          -2.2339271884279763,
          -0.9069448786483594,
          -2.29275850948637,
          -0.6419383059097039,
          -2.258056402031644,
          -2.1658919399761074,
          -2.233816774401965,
          -2.2930059895915056,
          -2.2250110261183096,
          -2.3501291633577543,
          -2.2680762192032016,
          -2.292918363556352,
          -1.3320967339855316,
          -2.1859464260151427,
          -0.9069243462637406,
          -1.1089217271075003,
          -2.2690060831153014,
          -2.194078138217027,
          -0.5693716165112049,
          -2.256214671233874,
          -1.3320155145994728,
          -0.9069259885247752,
          -1.332128192901073,
          -2.0525986346436906,
          -2.2338441382705527,
          -1.3320967726902315,
          -2.295253232959667,
          -2.2296597297088963,
          -2.229620279763218,
          -2.2310840723851277,
          -1.1089468777947047,
          -2.051463670235661,
          -2.0513726142785433,
          -1.5649116422101472,
          -1.3320990482393207,
          -0.3599914234339195,
          -1.3321274206833242,
          -1.1494176636058668,
          -1.636699798799647,
          -2.2324984800130014,
          -1.1089740540029007,
          -1.332103193372384,
          -1.1162110364674651,
          -1.2412225828090069,
          -1.108913018268956,
          -1.1089569586556631,
          -1.8796199054483416,
          -2.2081984485618023,
          -2.0341025655607723,
          -2.292893989512485,
          -2.051376592494197
         ],
         "z": [
          0.1942468492570416,
          0.3952471134008039,
          -0.015848017769099,
          0.360831924246765,
          0.39522678093917657,
          0.3368248023296106,
          0.3757552584705076,
          -0.015821427516326127,
          0.086686168589407,
          -0.015827536092354218,
          0.380988961678601,
          -0.049169994254347156,
          0.19417777411785267,
          -0.015886736692633914,
          -0.015828875216154514,
          0.017310949349383323,
          0.07938488174491873,
          -0.015833991925281232,
          -0.015821962803389565,
          -0.015820352328839368,
          0.08668861109381426,
          0.37447338390591683,
          0.18550855678143285,
          -0.021613721847515588,
          -0.01582701111140817,
          -0.015924223005154156,
          -0.015827445230401284,
          -0.015818873785340394,
          0.2580026094573707,
          -0.016266881033946485,
          -0.015847772872748658,
          -0.01583911286129671,
          -0.057093293449609527,
          0.1942456832220178,
          -0.015896375300861097,
          -0.01582634010535226,
          -0.015818000992619093,
          -0.015835192797447308,
          0.4400683061939741,
          -0.01582048534171372,
          -0.017992783741414393,
          0.19424802583853729,
          -0.015970169090257617,
          -0.01581970763460164,
          -0.01584811961612515,
          -0.015831361074826206,
          0.19397042869132397,
          0.1942351465596876,
          0.19424317853608636,
          0.19424749527730334,
          0.1942551879752739,
          0.08669157191624466,
          -0.01582801096307777,
          0.16163127221769488,
          -0.015884634207010192,
          0.1942369220534753,
          0.360850969728976,
          0.4413313359955432,
          -0.0158517531958471,
          -0.016116434802833854,
          -0.015882636969807653,
          -0.015817771854606675,
          -0.01588752240547401,
          -0.01619657597268025,
          0.37797441484252786,
          0.38176119739328845,
          0.2420087108936125,
          -0.015821508423800486,
          -0.01838607052071923,
          0.5071706623170806,
          -0.015817758750883575,
          0.1942488642829496,
          -0.023808216411535545,
          0.08667726933727249,
          0.4637083671030075,
          0.19424517646942727,
          0.08668434343302728,
          -0.01584774530303708,
          -0.015867072844319152,
          0.3952814828990136,
          0.3932208691526526,
          0.08668477628816872,
          0.1942457170993839,
          -0.01591315256982631,
          0.38171246127039843,
          -0.01585052407425381,
          0.18436042181909376,
          0.08666808704756473,
          0.33893034378380504,
          -0.015832333447608413,
          0.3380454418314232,
          -0.01582163657760022,
          0.08668481084649866,
          -0.015817757370414777,
          0.08668933761793945,
          0.19188155395973489,
          0.44474290595273214,
          0.19425213576587588,
          0.38131223622415944,
          -0.01587793368260487,
          0.19425100172659307,
          -0.015824182328495483,
          0.5127200830986985,
          0.3952748821411578,
          0.33682545482573,
          -0.016758415509177744,
          0.08634474368322148,
          0.08664958609612404,
          0.4447444743371582,
          -0.01581804193464158,
          0.44474103722395053,
          0.46371758843730265,
          0.0778084563050481,
          0.3608181539290587,
          -0.015818917086077033,
          0.0865939570825857,
          0.3368253198913585,
          -0.015862978799559845,
          0.46371048619517685,
          0.6158476974319116,
          -0.016188533657935846,
          0.007889200919184417,
          -0.015828038364064042,
          0.19355223252942877,
          -0.015828772110303393,
          0.36080369058074313,
          0.5105482271544308,
          0.4053470018540267,
          0.3747465626765264,
          0.4439057164699908,
          0.08667037424180982,
          -0.015825837333193055,
          -0.01582589627000672,
          0.08667720278971404,
          0.08668940836081127,
          0.4447367467006418,
          0.40831791844494114,
          -0.09331428883240828,
          0.20351785883005846,
          0.08655131379181928,
          0.1942468240295022,
          -0.016729638342664895,
          -0.06855043360296195,
          -0.015822791941279783,
          -0.015831208358063568,
          -0.01583820037835512,
          -0.01583859485960988,
          0.44473563946743655,
          0.33308365010147706,
          0.08553901337097547,
          0.25810485726304144,
          0.33682118151261164,
          0.3389089434276421,
          -0.015863032855022708,
          0.08659700774908734,
          0.25810247919917,
          0.3952577980039965,
          0.25810382590272013,
          0.3815502473290634,
          0.43025387002439425,
          0.4447439139435324,
          0.3942261901394172,
          0.08661463039350863,
          0.3605887478940685,
          -0.01771353244497911,
          0.02139592532978453,
          0.08668873792982476,
          0.2581040208809009,
          0.25795476186525534,
          -0.01583980690465101,
          0.0866868931722429,
          0.19424609613960261,
          0.15310331519622022,
          0.3382961094731628,
          0.5160608784664071,
          0.444668088642949,
          -0.02037347905353589,
          0.3388867908707732,
          0.16132450070075607,
          -0.015825540171039064,
          -0.022759709555739794,
          0.0865706744554998,
          0.39463095475548443,
          0.44463028579576447,
          -0.01582080135167764,
          0.456611778990647,
          0.3367969569157997,
          0.5126885942500106,
          0.08667160493246938,
          0.4447391547129865,
          0.007887531571834222,
          0.4637149865023033,
          0.30538945277095575,
          0.5127212443895688,
          0.44469451454970543,
          0.2811051891114177,
          0.4135381072557492,
          0.3340466807883456,
          0.4444532747256872,
          0.18802822573310748,
          0.37134047606244636,
          0.08668835198584268,
          -0.01581991886760085,
          0.36068052481027507,
          0.3436091617893849,
          0.11202437817928863,
          0.22839335767113292,
          0.1932985232415517,
          0.0866879961377168,
          0.18802085730255638,
          0.33460757176014755,
          0.512712408928159,
          0.19424682516339214,
          0.4433563997670919,
          0.4514252671561745,
          0.4514269447354508,
          0.20877229869996827,
          -0.01584091023215185,
          0.33679336354402384,
          0.3368173919185706,
          0.24199760619026794,
          0.1942304419442375,
          -0.08011187567278939,
          0.19420949141236066,
          -0.02435849185366842,
          0.25635098400523887,
          0.4508183780934644,
          -0.01619203062221976,
          0.19424315953353233,
          -0.03106919267618754,
          0.07937430023214465,
          -0.01581977389753701,
          -0.015858979996575654,
          0.3817837353877511,
          0.5791369444679957,
          0.3952756646778404,
          0.4442635900082867,
          0.3368248342329438
         ]
        },
        {
         "customdata": [
          [
           "VeChainThor Authority"
          ],
          [
           "Proof-of-BibleHash"
          ],
          [
           "SHA-256 + Hive"
          ],
          [
           "Proof-of-Authority"
          ],
          [
           "ECC 256K1"
          ],
          [
           "Leased POS"
          ]
         ],
         "hovertemplate": "<b>%{hovertext}</b><br><br>Class=%{marker.color}<br>PC 1=%{x}<br>PC 2=%{y}<br>PC 3=%{z}<br>Algorithm=%{customdata[0]}<extra></extra>",
         "hovertext": [
          "Vechain",
          "BiblePay",
          "LitecoinCash",
          "Poa Network",
          "Acute Angle Cloud",
          "Waves"
         ],
         "legendgroup": "2",
         "marker": {
          "color": [
           2,
           2,
           2,
           2,
           2,
           2
          ],
          "coloraxis": "coloraxis",
          "symbol": "square"
         },
         "mode": "markers",
         "name": "2",
         "scene": "scene",
         "showlegend": true,
         "type": "scatter3d",
         "x": [
          4.446613376414734,
          -0.21430901161861113,
          -0.37685999543438925,
          -0.40807567420990554,
          -0.3680131333462962,
          -0.3912152879673322
         ],
         "y": [
          2.684335353441378,
          2.1039150933269917,
          4.281882222080108,
          2.6566318124912875,
          2.9910722200063247,
          3.361373989216274
         ],
         "z": [
          7.286977941583509,
          11.668817046559884,
          15.899146843074062,
          14.13409516952334,
          12.869412809977625,
          13.612944896274904
         ]
        },
        {
         "customdata": [
          [
           "TRC10"
          ]
         ],
         "hovertemplate": "<b>%{hovertext}</b><br><br>Class=%{marker.color}<br>PC 1=%{x}<br>PC 2=%{y}<br>PC 3=%{z}<br>Algorithm=%{customdata[0]}<extra></extra>",
         "hovertext": [
          "BitTorrent"
         ],
         "legendgroup": "3",
         "marker": {
          "color": [
           3
          ],
          "coloraxis": "coloraxis",
          "symbol": "x"
         },
         "mode": "markers",
         "name": "3",
         "scene": "scene",
         "showlegend": true,
         "type": "scatter3d",
         "x": [
          34.04504345252872
         ],
         "y": [
          1.7912942579122801
         ],
         "z": [
          -1.0516407270011305
         ]
        }
       ],
       "layout": {
        "coloraxis": {
         "colorbar": {
          "title": {
           "text": "Class"
          }
         },
         "colorscale": [
          [
           0,
           "#0d0887"
          ],
          [
           0.1111111111111111,
           "#46039f"
          ],
          [
           0.2222222222222222,
           "#7201a8"
          ],
          [
           0.3333333333333333,
           "#9c179e"
          ],
          [
           0.4444444444444444,
           "#bd3786"
          ],
          [
           0.5555555555555556,
           "#d8576b"
          ],
          [
           0.6666666666666666,
           "#ed7953"
          ],
          [
           0.7777777777777778,
           "#fb9f3a"
          ],
          [
           0.8888888888888888,
           "#fdca26"
          ],
          [
           1,
           "#f0f921"
          ]
         ]
        },
        "legend": {
         "title": {
          "text": "Class"
         },
         "tracegroupgap": 0,
         "x": 0,
         "y": 1
        },
        "margin": {
         "t": 60
        },
        "scene": {
         "domain": {
          "x": [
           0,
           1
          ],
          "y": [
           0,
           1
          ]
         },
         "xaxis": {
          "title": {
           "text": "PC 1"
          }
         },
         "yaxis": {
          "title": {
           "text": "PC 2"
          }
         },
         "zaxis": {
          "title": {
           "text": "PC 3"
          }
         }
        },
        "template": {
         "data": {
          "bar": [
           {
            "error_x": {
             "color": "#2a3f5f"
            },
            "error_y": {
             "color": "#2a3f5f"
            },
            "marker": {
             "line": {
              "color": "#E5ECF6",
              "width": 0.5
             },
             "pattern": {
              "fillmode": "overlay",
              "size": 10,
              "solidity": 0.2
             }
            },
            "type": "bar"
           }
          ],
          "barpolar": [
           {
            "marker": {
             "line": {
              "color": "#E5ECF6",
              "width": 0.5
             },
             "pattern": {
              "fillmode": "overlay",
              "size": 10,
              "solidity": 0.2
             }
            },
            "type": "barpolar"
           }
          ],
          "carpet": [
           {
            "aaxis": {
             "endlinecolor": "#2a3f5f",
             "gridcolor": "white",
             "linecolor": "white",
             "minorgridcolor": "white",
             "startlinecolor": "#2a3f5f"
            },
            "baxis": {
             "endlinecolor": "#2a3f5f",
             "gridcolor": "white",
             "linecolor": "white",
             "minorgridcolor": "white",
             "startlinecolor": "#2a3f5f"
            },
            "type": "carpet"
           }
          ],
          "choropleth": [
           {
            "colorbar": {
             "outlinewidth": 0,
             "ticks": ""
            },
            "type": "choropleth"
           }
          ],
          "contour": [
           {
            "colorbar": {
             "outlinewidth": 0,
             "ticks": ""
            },
            "colorscale": [
             [
              0,
              "#0d0887"
             ],
             [
              0.1111111111111111,
              "#46039f"
             ],
             [
              0.2222222222222222,
              "#7201a8"
             ],
             [
              0.3333333333333333,
              "#9c179e"
             ],
             [
              0.4444444444444444,
              "#bd3786"
             ],
             [
              0.5555555555555556,
              "#d8576b"
             ],
             [
              0.6666666666666666,
              "#ed7953"
             ],
             [
              0.7777777777777778,
              "#fb9f3a"
             ],
             [
              0.8888888888888888,
              "#fdca26"
             ],
             [
              1,
              "#f0f921"
             ]
            ],
            "type": "contour"
           }
          ],
          "contourcarpet": [
           {
            "colorbar": {
             "outlinewidth": 0,
             "ticks": ""
            },
            "type": "contourcarpet"
           }
          ],
          "heatmap": [
           {
            "colorbar": {
             "outlinewidth": 0,
             "ticks": ""
            },
            "colorscale": [
             [
              0,
              "#0d0887"
             ],
             [
              0.1111111111111111,
              "#46039f"
             ],
             [
              0.2222222222222222,
              "#7201a8"
             ],
             [
              0.3333333333333333,
              "#9c179e"
             ],
             [
              0.4444444444444444,
              "#bd3786"
             ],
             [
              0.5555555555555556,
              "#d8576b"
             ],
             [
              0.6666666666666666,
              "#ed7953"
             ],
             [
              0.7777777777777778,
              "#fb9f3a"
             ],
             [
              0.8888888888888888,
              "#fdca26"
             ],
             [
              1,
              "#f0f921"
             ]
            ],
            "type": "heatmap"
           }
          ],
          "heatmapgl": [
           {
            "colorbar": {
             "outlinewidth": 0,
             "ticks": ""
            },
            "colorscale": [
             [
              0,
              "#0d0887"
             ],
             [
              0.1111111111111111,
              "#46039f"
             ],
             [
              0.2222222222222222,
              "#7201a8"
             ],
             [
              0.3333333333333333,
              "#9c179e"
             ],
             [
              0.4444444444444444,
              "#bd3786"
             ],
             [
              0.5555555555555556,
              "#d8576b"
             ],
             [
              0.6666666666666666,
              "#ed7953"
             ],
             [
              0.7777777777777778,
              "#fb9f3a"
             ],
             [
              0.8888888888888888,
              "#fdca26"
             ],
             [
              1,
              "#f0f921"
             ]
            ],
            "type": "heatmapgl"
           }
          ],
          "histogram": [
           {
            "marker": {
             "pattern": {
              "fillmode": "overlay",
              "size": 10,
              "solidity": 0.2
             }
            },
            "type": "histogram"
           }
          ],
          "histogram2d": [
           {
            "colorbar": {
             "outlinewidth": 0,
             "ticks": ""
            },
            "colorscale": [
             [
              0,
              "#0d0887"
             ],
             [
              0.1111111111111111,
              "#46039f"
             ],
             [
              0.2222222222222222,
              "#7201a8"
             ],
             [
              0.3333333333333333,
              "#9c179e"
             ],
             [
              0.4444444444444444,
              "#bd3786"
             ],
             [
              0.5555555555555556,
              "#d8576b"
             ],
             [
              0.6666666666666666,
              "#ed7953"
             ],
             [
              0.7777777777777778,
              "#fb9f3a"
             ],
             [
              0.8888888888888888,
              "#fdca26"
             ],
             [
              1,
              "#f0f921"
             ]
            ],
            "type": "histogram2d"
           }
          ],
          "histogram2dcontour": [
           {
            "colorbar": {
             "outlinewidth": 0,
             "ticks": ""
            },
            "colorscale": [
             [
              0,
              "#0d0887"
             ],
             [
              0.1111111111111111,
              "#46039f"
             ],
             [
              0.2222222222222222,
              "#7201a8"
             ],
             [
              0.3333333333333333,
              "#9c179e"
             ],
             [
              0.4444444444444444,
              "#bd3786"
             ],
             [
              0.5555555555555556,
              "#d8576b"
             ],
             [
              0.6666666666666666,
              "#ed7953"
             ],
             [
              0.7777777777777778,
              "#fb9f3a"
             ],
             [
              0.8888888888888888,
              "#fdca26"
             ],
             [
              1,
              "#f0f921"
             ]
            ],
            "type": "histogram2dcontour"
           }
          ],
          "mesh3d": [
           {
            "colorbar": {
             "outlinewidth": 0,
             "ticks": ""
            },
            "type": "mesh3d"
           }
          ],
          "parcoords": [
           {
            "line": {
             "colorbar": {
              "outlinewidth": 0,
              "ticks": ""
             }
            },
            "type": "parcoords"
           }
          ],
          "pie": [
           {
            "automargin": true,
            "type": "pie"
           }
          ],
          "scatter": [
           {
            "fillpattern": {
             "fillmode": "overlay",
             "size": 10,
             "solidity": 0.2
            },
            "type": "scatter"
           }
          ],
          "scatter3d": [
           {
            "line": {
             "colorbar": {
              "outlinewidth": 0,
              "ticks": ""
             }
            },
            "marker": {
             "colorbar": {
              "outlinewidth": 0,
              "ticks": ""
             }
            },
            "type": "scatter3d"
           }
          ],
          "scattercarpet": [
           {
            "marker": {
             "colorbar": {
              "outlinewidth": 0,
              "ticks": ""
             }
            },
            "type": "scattercarpet"
           }
          ],
          "scattergeo": [
           {
            "marker": {
             "colorbar": {
              "outlinewidth": 0,
              "ticks": ""
             }
            },
            "type": "scattergeo"
           }
          ],
          "scattergl": [
           {
            "marker": {
             "colorbar": {
              "outlinewidth": 0,
              "ticks": ""
             }
            },
            "type": "scattergl"
           }
          ],
          "scattermapbox": [
           {
            "marker": {
             "colorbar": {
              "outlinewidth": 0,
              "ticks": ""
             }
            },
            "type": "scattermapbox"
           }
          ],
          "scatterpolar": [
           {
            "marker": {
             "colorbar": {
              "outlinewidth": 0,
              "ticks": ""
             }
            },
            "type": "scatterpolar"
           }
          ],
          "scatterpolargl": [
           {
            "marker": {
             "colorbar": {
              "outlinewidth": 0,
              "ticks": ""
             }
            },
            "type": "scatterpolargl"
           }
          ],
          "scatterternary": [
           {
            "marker": {
             "colorbar": {
              "outlinewidth": 0,
              "ticks": ""
             }
            },
            "type": "scatterternary"
           }
          ],
          "surface": [
           {
            "colorbar": {
             "outlinewidth": 0,
             "ticks": ""
            },
            "colorscale": [
             [
              0,
              "#0d0887"
             ],
             [
              0.1111111111111111,
              "#46039f"
             ],
             [
              0.2222222222222222,
              "#7201a8"
             ],
             [
              0.3333333333333333,
              "#9c179e"
             ],
             [
              0.4444444444444444,
              "#bd3786"
             ],
             [
              0.5555555555555556,
              "#d8576b"
             ],
             [
              0.6666666666666666,
              "#ed7953"
             ],
             [
              0.7777777777777778,
              "#fb9f3a"
             ],
             [
              0.8888888888888888,
              "#fdca26"
             ],
             [
              1,
              "#f0f921"
             ]
            ],
            "type": "surface"
           }
          ],
          "table": [
           {
            "cells": {
             "fill": {
              "color": "#EBF0F8"
             },
             "line": {
              "color": "white"
             }
            },
            "header": {
             "fill": {
              "color": "#C8D4E3"
             },
             "line": {
              "color": "white"
             }
            },
            "type": "table"
           }
          ]
         },
         "layout": {
          "annotationdefaults": {
           "arrowcolor": "#2a3f5f",
           "arrowhead": 0,
           "arrowwidth": 1
          },
          "autotypenumbers": "strict",
          "coloraxis": {
           "colorbar": {
            "outlinewidth": 0,
            "ticks": ""
           }
          },
          "colorscale": {
           "diverging": [
            [
             0,
             "#8e0152"
            ],
            [
             0.1,
             "#c51b7d"
            ],
            [
             0.2,
             "#de77ae"
            ],
            [
             0.3,
             "#f1b6da"
            ],
            [
             0.4,
             "#fde0ef"
            ],
            [
             0.5,
             "#f7f7f7"
            ],
            [
             0.6,
             "#e6f5d0"
            ],
            [
             0.7,
             "#b8e186"
            ],
            [
             0.8,
             "#7fbc41"
            ],
            [
             0.9,
             "#4d9221"
            ],
            [
             1,
             "#276419"
            ]
           ],
           "sequential": [
            [
             0,
             "#0d0887"
            ],
            [
             0.1111111111111111,
             "#46039f"
            ],
            [
             0.2222222222222222,
             "#7201a8"
            ],
            [
             0.3333333333333333,
             "#9c179e"
            ],
            [
             0.4444444444444444,
             "#bd3786"
            ],
            [
             0.5555555555555556,
             "#d8576b"
            ],
            [
             0.6666666666666666,
             "#ed7953"
            ],
            [
             0.7777777777777778,
             "#fb9f3a"
            ],
            [
             0.8888888888888888,
             "#fdca26"
            ],
            [
             1,
             "#f0f921"
            ]
           ],
           "sequentialminus": [
            [
             0,
             "#0d0887"
            ],
            [
             0.1111111111111111,
             "#46039f"
            ],
            [
             0.2222222222222222,
             "#7201a8"
            ],
            [
             0.3333333333333333,
             "#9c179e"
            ],
            [
             0.4444444444444444,
             "#bd3786"
            ],
            [
             0.5555555555555556,
             "#d8576b"
            ],
            [
             0.6666666666666666,
             "#ed7953"
            ],
            [
             0.7777777777777778,
             "#fb9f3a"
            ],
            [
             0.8888888888888888,
             "#fdca26"
            ],
            [
             1,
             "#f0f921"
            ]
           ]
          },
          "colorway": [
           "#636efa",
           "#EF553B",
           "#00cc96",
           "#ab63fa",
           "#FFA15A",
           "#19d3f3",
           "#FF6692",
           "#B6E880",
           "#FF97FF",
           "#FECB52"
          ],
          "font": {
           "color": "#2a3f5f"
          },
          "geo": {
           "bgcolor": "white",
           "lakecolor": "white",
           "landcolor": "#E5ECF6",
           "showlakes": true,
           "showland": true,
           "subunitcolor": "white"
          },
          "hoverlabel": {
           "align": "left"
          },
          "hovermode": "closest",
          "mapbox": {
           "style": "light"
          },
          "paper_bgcolor": "white",
          "plot_bgcolor": "#E5ECF6",
          "polar": {
           "angularaxis": {
            "gridcolor": "white",
            "linecolor": "white",
            "ticks": ""
           },
           "bgcolor": "#E5ECF6",
           "radialaxis": {
            "gridcolor": "white",
            "linecolor": "white",
            "ticks": ""
           }
          },
          "scene": {
           "xaxis": {
            "backgroundcolor": "#E5ECF6",
            "gridcolor": "white",
            "gridwidth": 2,
            "linecolor": "white",
            "showbackground": true,
            "ticks": "",
            "zerolinecolor": "white"
           },
           "yaxis": {
            "backgroundcolor": "#E5ECF6",
            "gridcolor": "white",
            "gridwidth": 2,
            "linecolor": "white",
            "showbackground": true,
            "ticks": "",
            "zerolinecolor": "white"
           },
           "zaxis": {
            "backgroundcolor": "#E5ECF6",
            "gridcolor": "white",
            "gridwidth": 2,
            "linecolor": "white",
            "showbackground": true,
            "ticks": "",
            "zerolinecolor": "white"
           }
          },
          "shapedefaults": {
           "line": {
            "color": "#2a3f5f"
           }
          },
          "ternary": {
           "aaxis": {
            "gridcolor": "white",
            "linecolor": "white",
            "ticks": ""
           },
           "baxis": {
            "gridcolor": "white",
            "linecolor": "white",
            "ticks": ""
           },
           "bgcolor": "#E5ECF6",
           "caxis": {
            "gridcolor": "white",
            "linecolor": "white",
            "ticks": ""
           }
          },
          "title": {
           "x": 0.05
          },
          "xaxis": {
           "automargin": true,
           "gridcolor": "white",
           "linecolor": "white",
           "ticks": "",
           "title": {
            "standoff": 15
           },
           "zerolinecolor": "white",
           "zerolinewidth": 2
          },
          "yaxis": {
           "automargin": true,
           "gridcolor": "white",
           "linecolor": "white",
           "ticks": "",
           "title": {
            "standoff": 15
           },
           "zerolinecolor": "white",
           "zerolinewidth": 2
          }
         }
        },
        "width": 800
       }
      }
     },
     "metadata": {},
     "output_type": "display_data"
    }
   ],
   "source": [
    "# Creating a 3D-Scatter with the PCA data and the clusters\n",
    "fig = px.scatter_3d(\n",
    "    clustered_df,\n",
    "    x=\"PC 1\",\n",
    "    y=\"PC 2\",\n",
    "    z=\"PC 3\",\n",
    "    color=\"Class\",\n",
    "    symbol=\"Class\",\n",
    "    hover_name=\"CoinName\", \n",
    "    hover_data=[\"Algorithm\"],    \n",
    "    width=800,\n",
    ")\n",
    "fig.update_layout(legend=dict(x=0, y=1))\n",
    "fig.show()\n"
   ]
  },
  {
   "cell_type": "code",
   "execution_count": 48,
   "metadata": {},
   "outputs": [
    {
     "data": {},
     "metadata": {},
     "output_type": "display_data"
    },
    {
     "data": {
      "application/vnd.holoviews_exec.v0+json": "",
      "text/html": [
       "<div id='1120'>\n",
       "\n",
       "\n",
       "\n",
       "\n",
       "\n",
       "  <div class=\"bk-root\" id=\"5e94494c-e4e2-4cca-af8c-79f72fccd976\" data-root-id=\"1120\"></div>\n",
       "</div>\n",
       "<script type=\"application/javascript\">(function(root) {\n",
       "  function embed_document(root) {\n",
       "    var docs_json = {\"20cad3e1-6c51-482a-9f6e-a6eec55d54e0\":{\"defs\":[{\"extends\":null,\"module\":null,\"name\":\"ReactiveHTML1\",\"overrides\":[],\"properties\":[]},{\"extends\":null,\"module\":null,\"name\":\"FlexBox1\",\"overrides\":[],\"properties\":[{\"default\":\"flex-start\",\"kind\":null,\"name\":\"align_content\"},{\"default\":\"flex-start\",\"kind\":null,\"name\":\"align_items\"},{\"default\":\"row\",\"kind\":null,\"name\":\"flex_direction\"},{\"default\":\"wrap\",\"kind\":null,\"name\":\"flex_wrap\"},{\"default\":\"flex-start\",\"kind\":null,\"name\":\"justify_content\"}]},{\"extends\":null,\"module\":null,\"name\":\"GridStack1\",\"overrides\":[],\"properties\":[{\"default\":\"warn\",\"kind\":null,\"name\":\"mode\"},{\"default\":null,\"kind\":null,\"name\":\"ncols\"},{\"default\":null,\"kind\":null,\"name\":\"nrows\"},{\"default\":true,\"kind\":null,\"name\":\"allow_resize\"},{\"default\":true,\"kind\":null,\"name\":\"allow_drag\"},{\"default\":[],\"kind\":null,\"name\":\"state\"}]},{\"extends\":null,\"module\":null,\"name\":\"click1\",\"overrides\":[],\"properties\":[{\"default\":\"\",\"kind\":null,\"name\":\"terminal_output\"},{\"default\":\"\",\"kind\":null,\"name\":\"debug_name\"},{\"default\":0,\"kind\":null,\"name\":\"clears\"}]},{\"extends\":null,\"module\":null,\"name\":\"TemplateActions1\",\"overrides\":[],\"properties\":[{\"default\":0,\"kind\":null,\"name\":\"open_modal\"},{\"default\":0,\"kind\":null,\"name\":\"close_modal\"}]},{\"extends\":null,\"module\":null,\"name\":\"MaterialTemplateActions1\",\"overrides\":[],\"properties\":[{\"default\":0,\"kind\":null,\"name\":\"open_modal\"},{\"default\":0,\"kind\":null,\"name\":\"close_modal\"}]}],\"roots\":{\"references\":[{\"attributes\":{\"editor\":{\"id\":\"1130\"},\"field\":\"Algorithm\",\"formatter\":{\"id\":\"1129\"},\"title\":\"Algorithm\"},\"id\":\"1131\",\"type\":\"TableColumn\"},{\"attributes\":{},\"id\":\"1124\",\"type\":\"StringFormatter\"},{\"attributes\":{\"editor\":{\"id\":\"1135\"},\"field\":\"ProofType\",\"formatter\":{\"id\":\"1134\"},\"title\":\"ProofType\"},\"id\":\"1136\",\"type\":\"TableColumn\"},{\"attributes\":{\"columns\":[{\"id\":\"1126\"},{\"id\":\"1131\"},{\"id\":\"1136\"},{\"id\":\"1141\"},{\"id\":\"1146\"},{\"id\":\"1151\"}],\"height\":300,\"reorderable\":false,\"source\":{\"id\":\"1122\"},\"view\":{\"id\":\"1156\"},\"width\":700},\"id\":\"1154\",\"type\":\"DataTable\"},{\"attributes\":{},\"id\":\"1134\",\"type\":\"StringFormatter\"},{\"attributes\":{},\"id\":\"1140\",\"type\":\"StringEditor\"},{\"attributes\":{},\"id\":\"1149\",\"type\":\"NumberFormatter\"},{\"attributes\":{},\"id\":\"1125\",\"type\":\"StringEditor\"},{\"attributes\":{},\"id\":\"1157\",\"type\":\"UnionRenderers\"},{\"attributes\":{\"margin\":[5,5,5,5],\"name\":\"HSpacer01800\",\"sizing_mode\":\"stretch_width\"},\"id\":\"1121\",\"type\":\"Spacer\"},{\"attributes\":{\"source\":{\"id\":\"1122\"}},\"id\":\"1156\",\"type\":\"CDSView\"},{\"attributes\":{\"editor\":{\"id\":\"1125\"},\"field\":\"CoinName\",\"formatter\":{\"id\":\"1124\"},\"title\":\"CoinName\"},\"id\":\"1126\",\"type\":\"TableColumn\"},{\"attributes\":{\"children\":[{\"id\":\"1121\"},{\"id\":\"1154\"},{\"id\":\"1161\"}],\"margin\":[0,0,0,0],\"name\":\"Row01796\",\"tags\":[\"embedded\"]},\"id\":\"1120\",\"type\":\"Row\"},{\"attributes\":{},\"id\":\"1139\",\"type\":\"StringFormatter\"},{\"attributes\":{},\"id\":\"1129\",\"type\":\"StringFormatter\"},{\"attributes\":{\"data\":{\"Algorithm\":[\"Scrypt\",\"Scrypt\",\"X13\",\"SHA-256\",\"Ethash\",\"Scrypt\",\"X11\",\"CryptoNight-V7\",\"Ethash\",\"Equihash\",\"SHA-512\",\"Multiple\",\"SHA-256\",\"SHA-256\",\"Scrypt\",\"X15\",\"X11\",\"Scrypt\",\"Scrypt\",\"Scrypt\",\"Multiple\",\"Scrypt\",\"SHA-256\",\"Scrypt\",\"Scrypt\",\"Scrypt\",\"Quark\",\"Groestl\",\"Scrypt\",\"Scrypt\",\"Scrypt\",\"Scrypt\",\"Scrypt\",\"X11\",\"Scrypt\",\"Groestl\",\"Multiple\",\"SHA-256\",\"Scrypt\",\"Scrypt\",\"Scrypt\",\"Scrypt\",\"PoS\",\"Scrypt\",\"Scrypt\",\"NeoScrypt\",\"Scrypt\",\"Scrypt\",\"Scrypt\",\"Scrypt\",\"X11\",\"Scrypt\",\"X11\",\"SHA-256\",\"Scrypt\",\"Scrypt\",\"Scrypt\",\"SHA3\",\"Scrypt\",\"HybridScryptHash256\",\"Scrypt\",\"Scrypt\",\"SHA-256\",\"Scrypt\",\"X13\",\"Scrypt\",\"SHA-256\",\"Scrypt\",\"X13\",\"NeoScrypt\",\"Scrypt\",\"Scrypt\",\"Scrypt\",\"Scrypt\",\"Scrypt\",\"Scrypt\",\"X11\",\"X11\",\"SHA-256\",\"Multiple\",\"SHA-256\",\"PHI1612\",\"X11\",\"SHA-256\",\"SHA-256\",\"SHA-256\",\"X11\",\"Scrypt\",\"Scrypt\",\"Scrypt\",\"Scrypt\",\"Lyra2REv2\",\"Scrypt\",\"X11\",\"Multiple\",\"SHA-256\",\"X13\",\"Scrypt\",\"CryptoNight\",\"CryptoNight\",\"Shabal256\",\"Counterparty\",\"Scrypt\",\"SHA-256\",\"Groestl\",\"Scrypt\",\"Scrypt\",\"Scrypt\",\"X13\",\"Scrypt\",\"Scrypt\",\"Scrypt\",\"Scrypt\",\"X13\",\"Scrypt\",\"Stanford Folding\",\"X11\",\"Multiple\",\"QuBit\",\"Scrypt\",\"Scrypt\",\"Scrypt\",\"M7 POW\",\"Scrypt\",\"SHA-256\",\"Scrypt\",\"X11\",\"SHA3\",\"X11\",\"Lyra2RE\",\"SHA-256\",\"QUAIT\",\"X11\",\"X11\",\"Scrypt\",\"Scrypt\",\"Scrypt\",\"Ethash\",\"X13\",\"Blake2b\",\"SHA-256\",\"X15\",\"X11\",\"SHA-256\",\"BLAKE256\",\"Scrypt\",\"1GB AES Pattern Search\",\"SHA-256\",\"X11\",\"Scrypt\",\"SHA-256\",\"SHA-256\",\"NIST5\",\"Scrypt\",\"Scrypt\",\"X11\",\"Dagger\",\"Scrypt\",\"X11GOST\",\"X11\",\"Scrypt\",\"SHA-256\",\"Scrypt\",\"PoS\",\"Scrypt\",\"X11\",\"X11\",\"SHA-256\",\"SHA-256\",\"NIST5\",\"X11\",\"Scrypt\",\"POS 3.0\",\"Scrypt\",\"Scrypt\",\"Scrypt\",\"X13\",\"X11\",\"X11\",\"Equihash\",\"X11\",\"Scrypt\",\"CryptoNight\",\"SHA-256\",\"SHA-256\",\"X11\",\"Scrypt\",\"Multiple\",\"Scrypt\",\"Scrypt\",\"Scrypt\",\"SHA-256\",\"Scrypt\",\"Scrypt\",\"SHA-256D\",\"PoS\",\"Scrypt\",\"X11\",\"Lyra2Z\",\"PoS\",\"X13\",\"X14\",\"PoS\",\"SHA-256D\",\"Ethash\",\"Equihash\",\"DPoS\",\"X11\",\"Scrypt\",\"X11\",\"X13\",\"X11\",\"PoS\",\"Scrypt\",\"Scrypt\",\"X11\",\"PoS\",\"X11\",\"SHA-256\",\"Scrypt\",\"X11\",\"Scrypt\",\"Scrypt\",\"X11\",\"CryptoNight\",\"Scrypt\",\"Scrypt\",\"Scrypt\",\"Scrypt\",\"Quark\",\"QuBit\",\"Scrypt\",\"CryptoNight\",\"Lyra2RE\",\"Scrypt\",\"SHA-256\",\"X11\",\"Scrypt\",\"X11\",\"Scrypt\",\"CryptoNight-V7\",\"Scrypt\",\"Scrypt\",\"Scrypt\",\"X13\",\"X11\",\"Equihash\",\"Scrypt\",\"Scrypt\",\"Lyra2RE\",\"Scrypt\",\"Dagger-Hashimoto\",\"X11\",\"Blake2S\",\"X11\",\"Scrypt\",\"PoS\",\"X11\",\"NIST5\",\"PoS\",\"X11\",\"Scrypt\",\"Scrypt\",\"Scrypt\",\"SHA-256\",\"X11\",\"Scrypt\",\"Scrypt\",\"SHA-256\",\"PoS\",\"Scrypt\",\"X15\",\"SHA-256\",\"Scrypt\",\"POS 3.0\",\"CryptoNight-V7\",\"536\",\"Argon2d\",\"Blake2b\",\"Cloverhash\",\"CryptoNight\",\"NIST5\",\"X11\",\"NIST5\",\"Skein\",\"Scrypt\",\"X13\",\"Scrypt\",\"X11\",\"X11\",\"Scrypt\",\"CryptoNight\",\"X13\",\"Time Travel\",\"Scrypt\",\"Keccak\",\"SkunkHash v2 Raptor\",\"X11\",\"Skein\",\"SHA-256\",\"X11\",\"Scrypt\",\"VeChainThor Authority\",\"Scrypt\",\"PoS\",\"Scrypt\",\"Scrypt\",\"Scrypt\",\"Scrypt\",\"Scrypt\",\"Scrypt\",\"Scrypt\",\"CryptoNight\",\"SHA-512\",\"Ouroboros\",\"X11\",\"Equihash\",\"NeoScrypt\",\"X11\",\"Scrypt\",\"NeoScrypt\",\"Lyra2REv2\",\"Equihash\",\"Scrypt\",\"SHA-256\",\"NIST5\",\"PHI1612\",\"Dagger\",\"Scrypt\",\"Quark\",\"Scrypt\",\"POS 2.0\",\"Scrypt\",\"SHA-256\",\"X11\",\"NeoScrypt\",\"Ethash\",\"NeoScrypt\",\"X11\",\"DPoS\",\"NIST5\",\"X13\",\"Multiple\",\"Scrypt\",\"CryptoNight\",\"CryptoNight\",\"Ethash\",\"NIST5\",\"Quark\",\"X11\",\"CryptoNight-V7\",\"Scrypt\",\"Scrypt\",\"Scrypt\",\"X11\",\"BLAKE256\",\"X11\",\"NeoScrypt\",\"Quark\",\"NeoScrypt\",\"Scrypt\",\"Scrypt\",\"Scrypt\",\"X11\",\"X11\",\"SHA-256\",\"C11\",\"POS 3.0\",\"Ethash\",\"Scrypt\",\"CryptoNight\",\"SkunkHash\",\"Scrypt\",\"CryptoNight\",\"Scrypt\",\"Dagger\",\"Lyra2REv2\",\"X13\",\"Proof-of-BibleHash\",\"SHA-256 + Hive\",\"Scrypt\",\"Scrypt\",\"X11\",\"C11\",\"Proof-of-Authority\",\"X11\",\"XEVAN\",\"Scrypt\",\"VBFT\",\"Ethash\",\"CryptoNight\",\"Scrypt\",\"IMesh\",\"NIST5\",\"Scrypt\",\"Scrypt\",\"Equihash\",\"Scrypt\",\"Lyra2Z\",\"Green Protocol\",\"PoS\",\"Scrypt\",\"Semux BFT consensus\",\"X11\",\"Quark\",\"PoS\",\"CryptoNight\",\"X16R\",\"Scrypt\",\"NIST5\",\"Lyra2RE\",\"XEVAN\",\"Tribus\",\"Scrypt\",\"Lyra2Z\",\"CryptoNight\",\"CryptoNight Heavy\",\"CryptoNight\",\"Scrypt\",\"Scrypt\",\"Jump Consistent Hash\",\"SHA-256D\",\"CryptoNight\",\"Scrypt\",\"X15\",\"Scrypt\",\"Quark\",\"SHA-256\",\"DPoS\",\"X16R\",\"HMQ1725\",\"X11\",\"X16R\",\"Quark\",\"Quark\",\"Scrypt\",\"Lyra2REv2\",\"Quark\",\"Scrypt\",\"Scrypt\",\"CryptoNight-V7\",\"Cryptonight-GPU\",\"XEVAN\",\"CryptoNight Heavy\",\"X11\",\"X11\",\"Scrypt\",\"PoS\",\"SHA-256\",\"Keccak\",\"X11\",\"X11\",\"Scrypt\",\"SHA-512\",\"X16R\",\"ECC 256K1\",\"Equihash\",\"XEVAN\",\"Lyra2Z\",\"SHA-256\",\"XEVAN\",\"X11\",\"CryptoNight\",\"Quark\",\"Blake\",\"Blake\",\"Equihash\",\"Exosis\",\"Scrypt\",\"Scrypt\",\"Equihash\",\"Quark\",\"Equihash\",\"Quark\",\"Scrypt\",\"QuBit\",\"X11\",\"Scrypt\",\"XEVAN\",\"SHA-256D\",\"X11\",\"SHA-256\",\"X13\",\"SHA-256\",\"X11\",\"DPoS\",\"Scrypt\",\"Scrypt\",\"X11\",\"NeoScrypt\",\"Scrypt\",\"Blake\",\"Scrypt\",\"SHA-256\",\"Scrypt\",\"X11\",\"Scrypt\",\"Scrypt\",\"SHA-256\",\"X11\",\"SHA-256\",\"Scrypt\",\"Scrypt\",\"Scrypt\",\"Groestl\",\"X11\",\"Scrypt\",\"PoS\",\"Scrypt\",\"Scrypt\",\"X11\",\"SHA-256\",\"DPoS\",\"Scrypt\",\"Scrypt\",\"NeoScrypt\",\"Multiple\",\"X13\",\"Equihash+Scrypt\",\"DPoS\",\"Ethash\",\"DPoS\",\"SHA-256\",\"Leased POS\",\"PoS\",\"TRC10\",\"PoS\",\"SHA-256\",\"Scrypt\",\"CryptoNight\",\"Equihash\",\"Scrypt\"],\"Class\":{\"__ndarray__\":\"AQAAAAEAAAABAAAAAAAAAAAAAAAAAAAAAQAAAAAAAAAAAAAAAAAAAAEAAAAAAAAAAQAAAAEAAAAAAAAAAQAAAAAAAAAAAAAAAQAAAAEAAAAAAAAAAAAAAAAAAAAAAAAAAAAAAAEAAAAAAAAAAAAAAAAAAAABAAAAAAAAAAEAAAAAAAAAAAAAAAEAAAABAAAAAAAAAAAAAAAAAAAAAAAAAAAAAAAAAAAAAQAAAAEAAAAAAAAAAAAAAAAAAAAAAAAAAAAAAAEAAAABAAAAAAAAAAEAAAAAAAAAAAAAAAAAAAAAAAAAAQAAAAAAAAAAAAAAAQAAAAAAAAABAAAAAQAAAAEAAAAAAAAAAAAAAAAAAAABAAAAAQAAAAEAAAABAAAAAQAAAAAAAAAAAAAAAAAAAAEAAAABAAAAAAAAAAEAAAAAAAAAAQAAAAEAAAAAAAAAAAAAAAAAAAAAAAAAAQAAAAEAAAAAAAAAAQAAAAAAAAAAAAAAAQAAAAEAAAAAAAAAAQAAAAEAAAAAAAAAAAAAAAEAAAABAAAAAAAAAAEAAAABAAAAAAAAAAEAAAAAAAAAAQAAAAAAAAABAAAAAAAAAAEAAAABAAAAAAAAAAAAAAABAAAAAAAAAAAAAAAAAAAAAQAAAAAAAAAAAAAAAAAAAAAAAAAAAAAAAQAAAAEAAAAAAAAAAAAAAAAAAAABAAAAAAAAAAEAAAAAAAAAAAAAAAEAAAAAAAAAAQAAAAAAAAABAAAAAQAAAAAAAAAAAAAAAQAAAAAAAAAAAAAAAQAAAAEAAAAAAAAAAQAAAAAAAAABAAAAAQAAAAEAAAAAAAAAAAAAAAAAAAAAAAAAAQAAAAEAAAABAAAAAQAAAAEAAAAAAAAAAAAAAAEAAAABAAAAAQAAAAEAAAABAAAAAAAAAAEAAAABAAAAAQAAAAEAAAABAAAAAAAAAAEAAAAAAAAAAQAAAAEAAAAAAAAAAQAAAAAAAAABAAAAAQAAAAAAAAABAAAAAAAAAAEAAAAAAAAAAQAAAAAAAAABAAAAAQAAAAEAAAABAAAAAAAAAAEAAAABAAAAAQAAAAEAAAABAAAAAAAAAAAAAAABAAAAAQAAAAAAAAAAAAAAAQAAAAEAAAABAAAAAQAAAAEAAAAAAAAAAQAAAAEAAAABAAAAAQAAAAEAAAABAAAAAQAAAAEAAAAAAAAAAQAAAAEAAAABAAAAAQAAAAEAAAABAAAAAAAAAAAAAAAAAAAAAQAAAAEAAAABAAAAAQAAAAAAAAABAAAAAAAAAAEAAAABAAAAAAAAAAEAAAAAAAAAAAAAAAEAAAAAAAAAAAAAAAEAAAAAAAAAAQAAAAEAAAABAAAAAAAAAAEAAAABAAAAAAAAAAEAAAABAAAAAQAAAAEAAAABAAAAAQAAAAEAAAAAAAAAAQAAAAAAAAABAAAAAQAAAAEAAAABAAAAAAAAAAEAAAAAAAAAAQAAAAAAAAAAAAAAAAAAAAAAAAABAAAAAAAAAAEAAAABAAAAAAAAAAEAAAAAAAAAAAAAAAAAAAABAAAAAAAAAAEAAAAAAAAAAAAAAAAAAAABAAAAAAAAAAEAAAAAAAAAAQAAAAEAAAACAAAAAAAAAAEAAAAAAAAAAAAAAAAAAAAAAAAAAAAAAAEAAAABAAAAAAAAAAEAAAABAAAAAQAAAAAAAAABAAAAAAAAAAEAAAAAAAAAAQAAAAAAAAABAAAAAQAAAAEAAAABAAAAAAAAAAEAAAABAAAAAAAAAAEAAAABAAAAAQAAAAAAAAAAAAAAAAAAAAAAAAABAAAAAQAAAAEAAAABAAAAAAAAAAEAAAAAAAAAAAAAAAAAAAABAAAAAQAAAAAAAAAAAAAAAQAAAAEAAAAAAAAAAQAAAAAAAAAAAAAAAAAAAAEAAAAAAAAAAAAAAAEAAAABAAAAAQAAAAAAAAAAAAAAAAAAAAEAAAABAAAAAQAAAAAAAAAAAAAAAQAAAAAAAAAAAAAAAAAAAAAAAAABAAAAAgAAAAIAAAAAAAAAAAAAAAAAAAABAAAAAgAAAAEAAAABAAAAAQAAAAEAAAAAAAAAAAAAAAAAAAAAAAAAAQAAAAEAAAABAAAAAAAAAAEAAAAAAAAAAQAAAAEAAAABAAAAAQAAAAAAAAABAAAAAQAAAAAAAAABAAAAAQAAAAAAAAAAAAAAAQAAAAAAAAABAAAAAAAAAAAAAAAAAAAAAAAAAAEAAAABAAAAAAAAAAEAAAAAAAAAAQAAAAEAAAABAAAAAQAAAAEAAAABAAAAAAAAAAAAAAAAAAAAAQAAAAEAAAABAAAAAQAAAAEAAAABAAAAAAAAAAEAAAAAAAAAAAAAAAAAAAAAAAAAAQAAAAEAAAABAAAAAQAAAAAAAAABAAAAAQAAAAAAAAABAAAAAQAAAAAAAAACAAAAAAAAAAEAAAAAAAAAAAAAAAEAAAABAAAAAAAAAAEAAAAAAAAAAAAAAAEAAAAAAAAAAAAAAAEAAAAAAAAAAQAAAAAAAAABAAAAAQAAAAAAAAABAAAAAQAAAAEAAAABAAAAAQAAAAAAAAAAAAAAAAAAAAEAAAABAAAAAQAAAAAAAAABAAAAAAAAAAEAAAAAAAAAAQAAAAEAAAABAAAAAQAAAAAAAAABAAAAAQAAAAEAAAAAAAAAAQAAAAAAAAABAAAAAAAAAAEAAAABAAAAAQAAAAAAAAAAAAAAAQAAAAEAAAABAAAAAQAAAAEAAAABAAAAAAAAAAEAAAAAAAAAAQAAAAAAAAABAAAAAQAAAAIAAAABAAAAAwAAAAEAAAABAAAAAQAAAAAAAAAAAAAAAQAAAA==\",\"dtype\":\"int32\",\"order\":\"little\",\"shape\":[532]},\"CoinName\":[\"42 Coin\",\"404Coin\",\"EliteCoin\",\"Bitcoin\",\"Ethereum\",\"Litecoin\",\"Dash\",\"Monero\",\"Ethereum Classic\",\"ZCash\",\"Bitshares\",\"DigiByte\",\"BitcoinDark\",\"PayCoin\",\"ProsperCoin\",\"KoboCoin\",\"Spreadcoin\",\"Argentum\",\"Aurora Coin\",\"BlueCoin\",\"MyriadCoin\",\"MoonCoin\",\"ZetaCoin\",\"SexCoin\",\"Quatloo\",\"EnergyCoin\",\"QuarkCoin\",\"Riecoin\",\"Digitalcoin \",\"BitBar\",\"Catcoin\",\"CryptoBullion\",\"CannaCoin\",\"CryptCoin\",\"CasinoCoin\",\"Diamond\",\"Verge\",\"DevCoin\",\"EarthCoin\",\"E-Gulden\",\"Einsteinium\",\"Emerald\",\"Exclusive Coin\",\"FlutterCoin\",\"Franko\",\"FeatherCoin\",\"GrandCoin\",\"GlobalCoin\",\"GoldCoin\",\"HoboNickels\",\"HyperStake\",\"Infinite Coin\",\"IOCoin\",\"IXcoin\",\"KrugerCoin\",\"LuckyCoin\",\"Litebar \",\"MaxCoin\",\"MegaCoin\",\"MediterraneanCoin\",\"MintCoin\",\"MinCoin\",\"MazaCoin\",\"Nautilus Coin\",\"NavCoin\",\"NobleCoin\",\"Namecoin\",\"NyanCoin\",\"OpalCoin\",\"Orbitcoin\",\"PotCoin\",\"PhoenixCoin\",\"Reddcoin\",\"RonPaulCoin\",\"StableCoin\",\"SmartCoin\",\"SuperCoin\",\"SyncCoin\",\"SysCoin\",\"TeslaCoin\",\"TigerCoin\",\"TittieCoin\",\"TorCoin\",\"TerraCoin\",\"UnbreakableCoin\",\"Unobtanium\",\"UroCoin\",\"UnitaryStatus Dollar\",\"UltraCoin\",\"ViaCoin\",\"VeriCoin\",\"Vertcoin\",\"WorldCoin\",\"X11 Coin\",\"Crypti\",\"JouleCoin\",\"StealthCoin\",\"ZCC Coin\",\"ByteCoin\",\"DigitalNote \",\"BurstCoin\",\"StorjCoin\",\"MonaCoin\",\"Neutron\",\"FairCoin\",\"Gulden\",\"RubyCoin\",\"PesetaCoin\",\"Kore\",\"Wild Beast Coin\",\"Dnotes\",\"Flo\",\"8BIT Coin\",\"Sativa Coin\",\"ArtByte\",\"Folding Coin\",\"Ucoin\",\"Unitus\",\"CypherPunkCoin\",\"OmniCron\",\"Vtorrent\",\"GreenCoin\",\"Cryptonite\",\"MasterCoin\",\"SoonCoin\",\"1Credit\",\"IslaCoin\",\"Nexus\",\"MarsCoin \",\"Crypto\",\"Anarchists Prime\",\"Droidz\",\"BowsCoin\",\"Squall Coin\",\"Song Coin\",\"BitZeny\",\"Diggits\",\"Expanse\",\"Paycon\",\"Siacoin\",\"Emercoin\",\"EverGreenCoin\",\"MindCoin\",\"I0coin\",\"Decred\",\"Revolution VR\",\"HOdlcoin\",\"EDRCoin\",\"Hitcoin\",\"Gamecredits\",\"DubaiCoin\",\"CarpeDiemCoin\",\"PWR Coin\",\"BillaryCoin\",\"GPU Coin\",\"Adzcoin\",\"SoilCoin\",\"YoCoin\",\"SibCoin\",\"EuropeCoin\",\"ZeitCoin\",\"SwingCoin\",\"SafeExchangeCoin\",\"Nebuchadnezzar\",\"Francs\",\"BolivarCoin\",\"Ratecoin\",\"Revenu\",\"Clockcoin\",\"VIP Tokens\",\"BitSend\",\"Omni\",\"Let it Ride\",\"PutinCoin\",\"iBankCoin\",\"Frankywillcoin\",\"MudraCoin\",\"PizzaCoin\",\"Lutetium Coin\",\"Komodo\",\"GoldBlocks\",\"CarterCoin\",\"Karbo\",\"BitTokens\",\"ZayedCoin\",\"MustangCoin\",\"ZoneCoin\",\"Circuits of Value\",\"RootCoin\",\"DopeCoin\",\"BitCurrency\",\"DollarCoin\",\"Swiscoin\",\"Shilling\",\"BuzzCoin\",\"Opair\",\"PesoBit\",\"Halloween Coin\",\"ZCoin\",\"CoffeeCoin\",\"RoyalCoin\",\"GanjaCoin V2\",\"TeamUP\",\"LanaCoin\",\"Elementrem\",\"ZClassic\",\"ARK\",\"InsaneCoin\",\"KiloCoin\",\"ArtexCoin\",\"EmberCoin\",\"XenixCoin\",\"FreeCoin\",\"PLNCoin\",\"AquariusCoin\",\"Kurrent\",\"Creatio\",\"Eternity\",\"Eurocoin\",\"BitcoinFast\",\"Stakenet\",\"BitConnect Coin\",\"MoneyCoin\",\"Enigma\",\"Cannabis Industry Coin\",\"Russiacoin\",\"PandaCoin\",\"GameUnits\",\"GAKHcoin\",\"Allsafe\",\"LiteCreed\",\"OsmiumCoin\",\"Bikercoins\",\"HexxCoin\",\"Klingon Empire Darsek\",\"Internet of People\",\"KushCoin\",\"Printerium\",\"PacCoin\",\"Impeach\",\"Citadel\",\"Zilbercoin\",\"FirstCoin\",\"BeaverCoin\",\"FindCoin\",\"VaultCoin\",\"Zero\",\"OpenChat\",\"Canada eCoin\",\"Zoin\",\"RenosCoin\",\"DubaiCoin\",\"VirtacoinPlus\",\"TajCoin\",\"Impact\",\"EB3coin\",\"Atmos\",\"HappyCoin\",\"Coinonat\",\"MacronCoin\",\"Condensate\",\"Independent Money System\",\"ArgusCoin\",\"LomoCoin\",\"ProCurrency\",\"GoldReserve\",\"BenjiRolls\",\"GrowthCoin\",\"ILCoin\",\"Phreak\",\"Degas Coin\",\"HTML5 Coin\",\"Ultimate Secure Cash\",\"EquiTrader\",\"QTUM\",\"Quantum Resistant Ledger\",\"Espers\",\"Dynamic\",\"Nano\",\"ChanCoin\",\"Dinastycoin\",\"Denarius\",\"DigitalPrice\",\"Virta Unique Coin\",\"Bitcoin Planet\",\"Unify\",\"BritCoin\",\"SocialCoin\",\"ArcticCoin\",\"DAS\",\"Linda\",\"LeviarCoin\",\"DeepOnion\",\"Bitcore\",\"gCn Coin\",\"SmartCash\",\"Signatum\",\"Onix\",\"Cream\",\"Bitcoin Cash\",\"Monoeci\",\"Draftcoin\",\"Vechain\",\"Sojourn Coin\",\"Stakecoin\",\"NewYorkCoin\",\"FrazCoin\",\"Kronecoin\",\"AdCoin\",\"Linx\",\"CoinonatX\",\"Ethereum Dark\",\"Sumokoin\",\"Obsidian\",\"Cardano\",\"Regalcoin\",\"BitcoinZ\",\"TrezarCoin\",\"Elements\",\"TerraNovaCoin\",\"VIVO Coin\",\"Rupee\",\"Bitcoin Gold\",\"WomenCoin\",\"Theresa May Coin\",\"NamoCoin\",\"LUXCoin\",\"Pirl\",\"Xios\",\"Bitcloud 2.0\",\"eBoost\",\"KekCoin\",\"BlackholeCoin\",\"Infinity Economics\",\"Pura\",\"Innova\",\"Ellaism\",\"GoByte\",\"Magnet\",\"Lamden Tau\",\"Electra\",\"Bitcoin Diamond\",\"SHIELD\",\"Cash & Back Coin\",\"UltraNote\",\"BitCoal\",\"DaxxCoin\",\"Bulwark\",\"Kalkulus\",\"AC3\",\"Lethean\",\"GermanCoin\",\"LiteCoin Ultra\",\"PopularCoin\",\"PhantomX\",\"Photon\",\"Sucre\",\"SparksPay\",\"Digiwage\",\"GunCoin\",\"IrishCoin\",\"Trollcoin\",\"Litecoin Plus\",\"Monkey Project\",\"Pioneer Coin\",\"UnitedBitcoin\",\"Interzone\",\"TokenPay\",\"1717 Masonic Commemorative Token\",\"My Big Coin\",\"TurtleCoin\",\"MUNcoin\",\"Unified Society USDEX\",\"Niobio Cash\",\"ShareChain\",\"Travelflex\",\"KREDS\",\"Tokyo Coin\",\"BiblePay\",\"LitecoinCash\",\"BitFlip\",\"LottoCoin\",\"Crypto Improvement Fund\",\"Stipend\",\"Poa Network\",\"Pushi\",\"Ellerium\",\"Velox\",\"Ontology\",\"Callisto Network\",\"BitTube\",\"Poseidon\",\"Aidos Kuneen\",\"Bitspace\",\"Briacoin\",\"Ignition\",\"Bitrolium\",\"MedicCoin\",\"Alpenschillling\",\"Bitcoin Green\",\"Deviant Coin\",\"Abjcoin\",\"Semux\",\"FuturoCoin\",\"Carebit\",\"Zealium\",\"Monero Classic\",\"Proton\",\"iDealCash\",\"Jumpcoin\",\"Infinex\",\"Bitcoin Incognito\",\"KEYCO\",\"HollyWoodCoin\",\"GINcoin\",\"PlatinCoin\",\"Loki\",\"Newton Coin\",\"Swisscoin\",\"Xt3ch\",\"MassGrid\",\"TheVig\",\"PluraCoin\",\"EmaratCoin\",\"Dekado\",\"Lynx\",\"Poseidon Quark\",\"BitcoinWSpectrum\",\"Muse\",\"Motion\",\"PlusOneCoin\",\"Axe\",\"Trivechain\",\"Dystem\",\"Giant\",\"Peony Coin\",\"Absolute Coin\",\"Vitae\",\"HexCoin\",\"TPCash\",\"Webchain\",\"Ryo\",\"Urals Coin\",\"Qwertycoin\",\"ARENON\",\"EUNO\",\"MMOCoin\",\"Ketan\",\"Project Pai\",\"XDNA\",\"PAXEX\",\"Azart\",\"ThunderStake\",\"Kcash\",\"Xchange\",\"Acute Angle Cloud\",\"CrypticCoin\",\"Bettex coin\",\"Actinium\",\"Bitcoin SV\",\"BitMoney\",\"Junson Ming Chan Coin\",\"FREDEnergy\",\"HerbCoin\",\"Universal Molecule\",\"Lithium\",\"PirateCash\",\"Exosis\",\"Block-Logic\",\"Oduwa\",\"Beam\",\"Galilel\",\"Bithereum\",\"Crypto Sports\",\"Credit\",\"SLICE\",\"Dash Platinum\",\"Nasdacoin\",\"Beetle Coin\",\"Titan Coin\",\"Award\",\"BLAST\",\"Bitcoin Rhodium\",\"GlobalToken\",\"Insane Coin\",\"ALAX\",\"LiteDoge\",\"SolarCoin\",\"TruckCoin\",\"UFO Coin\",\"OrangeCoin\",\"BlakeCoin\",\"BitstarCoin\",\"NeosCoin\",\"HyperCoin\",\"PinkCoin\",\"Crypto Escudo\",\"AudioCoin\",\"IncaKoin\",\"Piggy Coin\",\"Crown Coin\",\"Genstake\",\"SmileyCoin\",\"XiaoMiCoin\",\"Groestlcoin\",\"CapriCoin\",\" ClubCoin\",\"Radium\",\"Bata\",\"Pakcoin\",\"Creditbit \",\"OKCash\",\"Lisk\",\"HiCoin\",\"WhiteCoin\",\"FriendshipCoin\",\"JoinCoin\",\"Triangles Coin\",\"Vollar\",\"EOS\",\"Reality Clash\",\"Oxycoin\",\"TigerCash\",\"Waves\",\"Particl\",\"BitTorrent\",\"Nxt\",\"ZEPHYR\",\"Gapcoin\",\"Beldex\",\"Horizen\",\"BitcoinPlus\"],\"ProofType\":[\"PoW/PoS\",\"PoW/PoS\",\"PoW/PoS\",\"PoW\",\"PoW\",\"PoW\",\"PoW/PoS\",\"PoW\",\"PoW\",\"PoW\",\"PoS\",\"PoW\",\"PoW/PoS\",\"PoS\",\"PoW\",\"PoW/PoS\",\"PoW\",\"PoW\",\"PoW/PoS\",\"PoW/PoS\",\"PoW\",\"PoW\",\"PoW\",\"PoW\",\"PoW\",\"PoW/PoS\",\"PoW\",\"PoW\",\"PoW\",\"PoW/PoS\",\"PoW\",\"PoW/PoS\",\"PoW\",\"PoW\",\"PoC\",\"PoW/PoS\",\"PoW\",\"PoW\",\"PoW\",\"PoW\",\"PoW\",\"PoW\",\"PoS\",\"PoS/PoW/PoT\",\"PoW\",\"PoW\",\"PoW\",\"PoW\",\"PoW\",\"PoW/PoS\",\"PoS\",\"PoW\",\"PoW/PoS\",\"PoW\",\"PoW\",\"PoW\",\"PoW\",\"PoW/PoS\",\"PoW\",\"PoW\",\"PoS\",\"PoW\",\"PoW/PoS\",\"PoS\",\"PoW/PoS\",\"PoW\",\"PoW\",\"PoW\",\"PoW/PoS\",\"PoW/PoS\",\"PoW/PoS\",\"PoW/PoS\",\"PoW/PoS\",\"PoW\",\"PoW\",\"PoW\",\"PoS\",\"PoW/PoS\",\"PoW\",\"PoS\",\"PoW\",\"PoS\",\"PoW/PoS\",\"PoW\",\"PoW\",\"PoW\",\"PoW\",\"PoW/PoS\",\"PoW/PoS\",\"PoW\",\"PoST\",\"PoW\",\"PoW\",\"PoW/PoS\",\"PoS\",\"PoW\",\"PoW/PoS\",\"PoW/PoS\",\"PoW\",\"PoW\",\"PoC\",\"PoS\",\"PoW\",\"PoW/PoS\",\"PoW/PoS\",\"PoW\",\"PoS\",\"PoW\",\"PoW/PoS\",\"PoW\",\"PoS\",\"PoW\",\"PoW/PoS\",\"PoW/PoS\",\"PoW\",\"PoW\",\"PoS\",\"PoW\",\"PoW\",\"PoW\",\"PoW/PoS\",\"PoW\",\"PoW\",\"PoW\",\"PoW\",\"PoW\",\"PoW/PoS\",\"PoW/nPoS\",\"PoW\",\"PoW\",\"PoW\",\"PoW/PoS\",\"PoW\",\"PoS/PoW\",\"PoW\",\"PoW\",\"PoS\",\"PoW\",\"PoW/PoS\",\"PoW\",\"PoW/PoS\",\"PoW/PoS\",\"PoW\",\"PoW\",\"PoW/PoS\",\"PoW\",\"PoW\",\"PoW/PoS\",\"PoW/PoS\",\"PoW\",\"PoW/PoS\",\"PoW\",\"PoW/PoS\",\"PoW/PoS\",\"PoS\",\"PoW\",\"PoW\",\"PoW\",\"PoW\",\"PoW/PoS\",\"PoS\",\"PoW/PoS\",\"PoC\",\"PoS\",\"PoW\",\"PoW\",\"PoW/PoS\",\"PoW/PoS\",\"PoW/PoS\",\"PoW/PoS\",\"PoW/PoS\",\"PoW\",\"PoS\",\"PoW/PoS\",\"PoW/PoS\",\"PoW/PoS\",\"PoS\",\"PoW\",\"PoS\",\"dPoW/PoW\",\"PoW/PoS\",\"PoW/PoS\",\"PoW\",\"PoW/PoS\",\"PoW\",\"PoW/PoS\",\"PoW/PoS\",\"PoW\",\"PoW/PoS\",\"PoW\",\"PoS\",\"PoW\",\"PoW/PoW\",\"PoW\",\"PoW/PoS\",\"PoS\",\"PoW/PoS\",\"PoW/PoS\",\"PoW\",\"PoS\",\"PoS\",\"PoW/PoS\",\"PoS\",\"PoW/PoS\",\"PoW\",\"PoW\",\"DPoS\",\"PoW/PoS\",\"PoW\",\"PoW\",\"PoW/PoS\",\"PoW/PoS\",\"PoS\",\"PoW/PoS\",\"PoW/PoS\",\"PoW\",\"PoS\",\"PoW/PoS\",\"PoW/PoS\",\"PoW/PoS\",\"TPoS\",\"PoW/PoS\",\"PoW/PoS\",\"PoW/PoS\",\"PoW\",\"PoW/PoS\",\"PoS\",\"PoW/PoS\",\"PoW/PoS\",\"PoS\",\"PoW/PoS\",\"PoW\",\"PoW\",\"PoW\",\"PoW/PoS\",\"PoW/PoS\",\"PoW/PoS\",\"PoW/PoS\",\"PoW\",\"PoW/PoS\",\"PoW\",\"PoS\",\"PoW/PoS \",\"PoW\",\"PoS\",\"PoW\",\"PoW\",\"PoW/PoS\",\"PoW\",\"PoW\",\"PoS\",\"PoW\",\"PoW/PoS\",\"PoW/PoS\",\"PoW/PoS\",\"PoW\",\"PoS\",\"PoW/PoS\",\"PoW\",\"PoS\",\"PoW/PoS\",\"PoW/PoS\",\"PoW/PoS\",\"PoW/PoS\",\"PoS\",\"PoW/PoS\",\"PoW\",\"PoS\",\"PoW\",\"PoS\",\"PoW/PoS\",\"PoW/PoS\",\"PoS\",\"PoW\",\"PoS\",\"PoW\",\"PoW/PoS\",\"PoW\",\"PoW\",\"PoW\",\"PoW\",\"PoW/PoS\",\"PoW\",\"PoW/PoS\",\"PoW/PoS\",\"PoW\",\"PoW/PoS\",\"PoW\",\"PoW\",\"PoW\",\"PoW/PoS\",\"PoW\",\"PoW/PoS\",\"PoW\",\"PoW\",\"PoW\",\"PoS\",\"PoW\",\"PoW/PoS\",\"PoW\",\"PoW/PoS\",\"PoS\",\"Proof of Authority\",\"PoW\",\"PoS\",\"PoW\",\"PoW\",\"PoW\",\"PoW\",\"PoW\",\"PoW/PoS\",\"PoW/PoS\",\"PoW\",\"PoS\",\"PoS\",\"PoW/PoS\",\"PoW\",\"PoW/PoS\",\"PoW\",\"PoW/PoS\",\"PoW\",\"PoS\",\"PoW\",\"PoW/PoS\",\"PoW/PoS\",\"PoW/PoS\",\"PoW/PoS\",\"PoW\",\"PoW/PoS\",\"PoW/PoS\",\"PoW\",\"PoS\",\"PoW/PoS\",\"PoS\",\"PoW\",\"PoW\",\"PoW\",\"PoW\",\"PoW/PoS\",\"DPoS\",\"PoW/PoS\",\"PoW/PoS\",\"PoW\",\"PoW/PoS\",\"PoW\",\"PoW\",\"PoW\",\"PoS\",\"PoS\",\"PoW\",\"PoW\",\"PoW/PoS\",\"PoW/PoS\",\"PoW\",\"PoW/PoS\",\"PoW\",\"PoW\",\"PoW\",\"PoS\",\"PoW\",\"PoW\",\"PoW/PoS\",\"PoW/PoS\",\"PoS\",\"PoW\",\"PoW\",\"PoW\",\"PoS\",\"PoS\",\"PoW and PoS\",\"PoW\",\"PoW\",\"PoW/PoS\",\"PoW\",\"PoW\",\"PoW\",\"PoW\",\"PoS\",\"POBh\",\"PoW + Hive\",\"PoW\",\"PoW\",\"PoW\",\"PoW/PoS\",\"PoA\",\"PoW/PoS\",\"PoW/PoS\",\"PoS\",\"PoS\",\"PoW\",\"PoW\",\"PoW\",\"PoW\",\"PoW/PoS\",\"PoW/PoS\",\"PoW/PoS\",\"PoW\",\"PoS\",\"PoW\",\"PoS\",\"PoS\",\"PoW/PoS\",\"DPoS\",\"PoW\",\"PoW/PoS\",\"PoS\",\"PoW\",\"PoS\",\"PoW/PoS\",\"PoW\",\"PoW\",\"PoS/PoW\",\"PoW\",\"PoS\",\"PoW\",\"PoW\",\"PoW\",\"PoW\",\"PoW/PoS\",\"PoS\",\"PoW\",\"PoW/PoS\",\"PoW\",\"PoW/PoS\",\"PoS\",\"HPoW\",\"PoS\",\"PoS\",\"PoS\",\"PoW\",\"PoW\",\"PoW\",\"PoW/PoS\",\"PoS\",\"PoW/PoS\",\"PoS\",\"PoW/PoS\",\"PoS\",\"PoW\",\"PoW/PoS\",\"PoW\",\"PoW\",\"PoW\",\"PoW\",\"PoS\",\"PoW/PoS\",\"PoS\",\"PoS\",\"PoW\",\"PoW/PoS\",\"PoS\",\"PoW\",\"PoW/PoS\",\"Zero-Knowledge Proof\",\"PoW\",\"DPOS\",\"PoW\",\"PoS\",\"PoW\",\"PoW\",\"Pos\",\"PoS\",\"PoW\",\"PoW/PoS\",\"PoW\",\"PoW\",\"PoS\",\"PoW\",\"PoW\",\"PoW/PoS\",\"PoW\",\"PoW/PoS\",\"PoW\",\"PoS\",\"PoW/PoS\",\"PoW\",\"PoS\",\"PoW/PoS\",\"PoW/PoS\",\"PoW/PoS\",\"PoW/PoS\",\"PoW\",\"PoW\",\"PoW\",\"PoW/PoS\",\"DPoS\",\"PoW/PoS\",\"PoW\",\"PoW/PoS\",\"PoW\",\"PoW/PoS\",\"PoW\",\"PoW/PoS\",\"PoS\",\"PoW/PoS\",\"PoW/PoS\",\"PoW\",\"PoW/PoS\",\"PoW/PoS\",\"PoW/PoS\",\"PoW\",\"PoW/PoS\",\"PoW\",\"PoW/PoS\",\"PoW\",\"PoW/PoS\",\"PoW/PoS\",\"PoS\",\"PoW\",\"PoW\",\"Proof of Trust\",\"PoW/PoS\",\"DPoS\",\"PoS\",\"PoW/PoS\",\"PoW/PoS\",\"PoW\",\"PoW/PoS\",\"PoW\",\"DPoS\",\"PoW\",\"DPoS\",\"PoS\",\"LPoS\",\"PoS\",\"DPoS\",\"PoS/LPoS\",\"DPoS\",\"PoW/PoS\",\"PoW\",\"PoW\",\"PoS\"],\"TotalCoinSupply\":[\"42\",\"532000000\",\"314159265359\",\"21000000\",\"0\",\"84000000\",\"22000000\",\"0\",\"210000000\",\"21000000\",\"3600570502\",\"21000000000\",\"22000000\",\"12500000\",\"21000000\",\"350000000\",\"20000000\",\"64000000\",\"16768584\",\"0\",\"2000000000\",\"384000000000\",\"169795588\",\"250000000\",\"100000000\",\"0\",\"247000000\",\"84000000\",\"48166000\",\"500000\",\"21000000 \",\"1000000\",\"13140000\",\"18000000\",\"40000000000\",\"4380000\",\"16555000000\",\"21000000000\",\"13500000000\",\"21000000 \",\"299792458\",\"32000000\",\"0\",\"0\",\"11235813\",\"336000000\",\"1420609614\",\"70000000\",\"72245700\",\"120000000\",\"0\",\"90600000000\",\"22000000\",\"21000000\",\"265420800\",\"20000000\",\"1350000\",\"100000000\",\"42000000\",\"200000000\",\"0\",\"10000000\",\"2419200000\",\"16180000\",\"0\",\"15000000000\",\"21000000\",\"337000000\",\"0\",\"3770000\",\"420000000\",\"98000000\",\"0\",\"21000000\",\"250000000\",\"51200000\",\"0\",\"1000\",\"888000000\",\"100000000\",\"47011968\",\"2300000000\",\"10000000\",\"42000000\",\"80000000\",\"250000\",\"0\",\"1600000000\",\"100000000\",\"23000000\",\"0\",\"84000000\",\"265420800\",\"5500000\",\"0\",\"45000000\",\"0\",\"1000000000\",\"184467440735\",\"10000000000\",\"2158812800\",\"500000000\",\"105120000\",\"68000000\",\"0\",\"1680000000\",\"0\",\"166386000\",\"12000000\",\"2628000\",\"500000000\",\"160000000\",\"0\",\"10000000\",\"1000000000\",\"1000000000\",\"20000000\",\"0\",\"0\",\"3371337\",\"20000000\",\"10000000000\",\"1840000000\",\"619478\",\"21000000\",\"92000000000\",\"0\",\"78000000\",\"33000000\",\"65789100\",\"53760000\",\"5060000\",\"21000000\",\"0\",\"210240000\",\"250000000\",\"100000000\",\"16906397\",\"50000000\",\"0\",\"1000000000\",\"26298000\",\"16000000\",\"21000000\",\"21000000\",\"210000000\",\"81962100\",\"22000000\",\"26550000000\",\"84000000\",\"10500000\",\"21626280000 \",\"0\",\"42000000\",\"221052632\",\"84000000\",\"30000000\",\"168351300\",\"24000000\",\"384000000\",\" 99000000000\",\"40000000\",\"2147483647\",\"20000000\",\"20000000\",\"25000000\",\"75000000\",\"222725000\",\"525000000\",\"90000000\",\"139000000\",\"616448\",\"33500000\",\"2000000000\",\"44333333\",\"100000000\",\"200000000\",\"25000000\",\"657000000\",\"200000000\",\"50000000\",\"90000000\",\"10000000\",\"21000000\",\"9736000\",\"3000000\",\"21000000\",\"1200000000\",\"0\",\"200000000\",\"0\",\"10638298\",\"3100000000\",\"30000000\",\"20000000000\",\"74000000\",\"0\",\"1500000000\",\"21400000\",\"39999898\",\"2500124\",\"100000000\",\"301000000\",\"7506000000\",\"26205539\",\"21000000\",\"125000000\",\"30000000\",\"10000000000\",\"500000000\",\"850000000\",\"3853326.77707314\",\"50000000\",\"38540000 \",\"42000000\",\"228000000\",\"20000000\",\"60000000\",\"20000000\",\"33000000\",\"76500000\",\"28000000\",\"650659833\",\"5000000\",\"21000000\",\"144000000\",\"32514916898\",\"13000000\",\"3315789\",\"15000000\",\"78835200\",\"2714286\",\"25000000\",\"9999999\",\"500000000\",\"21000000\",\"9354000\",\"20000000\",\"100000000000\",\"21933333\",\"185000000\",\"55000000\",\"110000000\",\"3360000\",\"14524851.4827\",\"1000000000\",\"17000000\",\"1000000000\",\"100000000 \",\"21000000\",\"34426423\",\"2232901\",\"100000000\",\"36900000\",\"110000000\",\"4000000000\",\"110290030\",\"100000000\",\"48252000\",\"400000000\",\"500000000\",\"21212121\",\"28600000\",\"1000000000\",\"75000000000\",\"40000000\",\"35520400\",\"2000000000\",\"2500000000\",\"30000000\",\"105000000\",\"90000000000\",\"200084200\",\"72000000\",\"100000000\",\"105000000\",\"50000000000\",\"0\",\"340282367\",\"30000000\",\"2000000000\",\"10000000\",\"100000000\",\"120000000\",\"100000000\",\"19276800\",\"30000000\",\" 75000000\",\"60000000\",\"18900000\",\"50000000000\",\"54000000\",\"18898187.6216583\",\"21000000\",\"200000000000\",\"5000000000\",\"137500000\",\"1100000000\",\"100000000\",\"21000000\",\"9507271\",\"17405891.19707116\",\"86712634466\",\"10500000000\",\"61599965\",\"0\",\"20000000\",\"84000000\",\"100000000\",\"100000000\",\"48252000\",\"4200000\",\"88888888\",\"91388946\",\"45000000000\",\"27000000\",\"21000000000\",\"400000000\",\"1800000000\",\"15733333\",\"27000000\",\"24000000\",\"21000000\",\"25000000000\",\"100000000\",\"1200000000\",\"60000000\",\"156306732.71\",\"21000000\",\"200000000\",\"100000000\",\"21000000\",\"14788275.991\",\"9000000000\",\"350000000\",\"45000000\",\"280000000\",\"31800000\",\"144000000\",\"500000000\",\"30000000000\",\"210000000\",\"660000000\",\"210000000\",\"85000000000\",\"12500000\",\"10000000000\",\"27716121\",\"20000000\",\"550000000\",\"999481516\",\"50000000000\",\"150000000\",\"4999999999\",\"50000000\",\" 90000000000\",\"19800000\",\"21000000\",\"120000000\",\"500000000\",\"64000000\",\"900000000\",\"4000000\",\"21000000\",\"23000000\",\"20166000\",\"23000000\",\"25000000\",\"1618033\",\"30000000\",\"1000000000000\",\"16600000\",\"232000000\",\"336000000\",\"10000000000\",\"100000000\",\"1100000000\",\"800000000\",\"5200000000\",\"840000000\",\"40000000\",\"18406979840\",\"500000000\",\"19340594\",\"252460800\",\"25000000\",\"60000000\",\"124000000\",\"1000000000\",\"6500000000\",\"1000000000\",\"21000000\",\"25000000\",\"50000000\",\"3000000\",\"5000000\",\"70000000\",\"500000000\",\"300000000\",\"21000000\",\"88000000\",\"30000000\",\"100000000\",\"100000000\",\"200000000\",\"80000000\",\"18400000\",\"45000000\",\"5121951220\",\"21000000\",\"26280000\",\"21000000\",\"18000000\",\"26000000\",\"10500000\",\"600000518\",\"150000000\",\"184000000000\",\"10200000000\",\"44000000\",\"168000000\",\"100000000\",\"1000000000\",\"84000000\",\"90000000\",\"92000000000\",\"650000000 \",\"100262205\",\"18081806 \",\"22075700\",\"21000000\",\"21000000\",\"82546564\",\"21000000\",\"5151000\",\"16880000000\",\"52500000\",\"100000000\",\"22105263\",\"1000000000\",\"1750000000\",\"88188888\",\"210000000\",\"184470000000\",\"55000000\",\"50000000\",\"260000000\",\"210000000\",\"2100000000\",\"366000000\",\"100000000\",\"25000000\",\"18000000000\",\"1000000000\",\"100000000\",\"1000000000\",\"7600000000\",\"50000000\",\"84000000\",\"21000000\",\"70000000000\",\"0\",\"8080000000\",\"54000000\",\"105120001.44\",\"25228800\",\"105000000\",\"21000000\",\"120000000\",\"21000000\",\"262800000\",\"19035999\",\"30886000\",\"13370000\",\"74800000000\",\"100000000\",\"19700000\",\"84000000\",\"500000000\",\"5000000000\",\"420000000\",\"64000000\",\"2100000\",\"168000000\",\"30000000\",\"1000000000\",\"35000000000\",\"98100000000\",\"0\",\"4000000000\",\"200000000\",\"7000000000\",\"54256119\",\"21000000\",\"0\",\"500000000\",\"1000000000\",\"10500000000\",\"190000000\",\"1000000000\",\"42000000\",\"15000000\",\"50000000000\",\"400000000\",\"105000000\",\"208000000\",\"160000000\",\"9000000\",\"5000000\",\"182000000\",\"16504333\",\"105000000\",\"159918400\",\"10008835635\",\"300000000\",\"60168145\",\"2800000\",\"120000\",\"2100000000\",\"0\",\"24487944\",\"0\",\"1000000000\",\"100000000\",\"8634140\",\"990000000000\",\"1000000000\",\"2000000000\",\"250000000\",\"1400222610\",\"21000000\",\"1000000\"],\"TotalCoinsMined\":{\"__ndarray__\":\"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\",\"dtype\":\"float64\",\"order\":\"little\",\"shape\":[532]}},\"selected\":{\"id\":\"1123\"},\"selection_policy\":{\"id\":\"1157\"}},\"id\":\"1122\",\"type\":\"ColumnDataSource\"},{\"attributes\":{\"editor\":{\"id\":\"1140\"},\"field\":\"TotalCoinSupply\",\"formatter\":{\"id\":\"1139\"},\"title\":\"TotalCoinSupply\"},\"id\":\"1141\",\"type\":\"TableColumn\"},{\"attributes\":{},\"id\":\"1135\",\"type\":\"StringEditor\"},{\"attributes\":{\"margin\":[5,5,5,5],\"name\":\"HSpacer01801\",\"sizing_mode\":\"stretch_width\"},\"id\":\"1161\",\"type\":\"Spacer\"},{\"attributes\":{},\"id\":\"1150\",\"type\":\"IntEditor\"},{\"attributes\":{\"editor\":{\"id\":\"1145\"},\"field\":\"TotalCoinsMined\",\"formatter\":{\"id\":\"1144\"},\"title\":\"TotalCoinsMined\"},\"id\":\"1146\",\"type\":\"TableColumn\"},{\"attributes\":{},\"id\":\"1123\",\"type\":\"Selection\"},{\"attributes\":{},\"id\":\"1130\",\"type\":\"StringEditor\"},{\"attributes\":{\"editor\":{\"id\":\"1150\"},\"field\":\"Class\",\"formatter\":{\"id\":\"1149\"},\"title\":\"Class\"},\"id\":\"1151\",\"type\":\"TableColumn\"},{\"attributes\":{\"format\":\"0,0.0[00000]\"},\"id\":\"1144\",\"type\":\"NumberFormatter\"},{\"attributes\":{},\"id\":\"1145\",\"type\":\"NumberEditor\"}],\"root_ids\":[\"1120\"]},\"title\":\"Bokeh Application\",\"version\":\"2.4.1\"}};\n",
       "    var render_items = [{\"docid\":\"20cad3e1-6c51-482a-9f6e-a6eec55d54e0\",\"root_ids\":[\"1120\"],\"roots\":{\"1120\":\"5e94494c-e4e2-4cca-af8c-79f72fccd976\"}}];\n",
       "    root.Bokeh.embed.embed_items_notebook(docs_json, render_items);\n",
       "  }\n",
       "  if (root.Bokeh !== undefined && root.Bokeh.Panel !== undefined) {\n",
       "    embed_document(root);\n",
       "  } else {\n",
       "    var attempts = 0;\n",
       "    var timer = setInterval(function(root) {\n",
       "      if (root.Bokeh !== undefined && root.Bokeh.Panel !== undefined) {\n",
       "        clearInterval(timer);\n",
       "        embed_document(root);\n",
       "      } else if (document.readyState == \"complete\") {\n",
       "        attempts++;\n",
       "        if (attempts > 200) {\n",
       "          clearInterval(timer);\n",
       "          console.log(\"Bokeh: ERROR: Unable to run BokehJS code because BokehJS library is missing\");\n",
       "        }\n",
       "      }\n",
       "    }, 25, root)\n",
       "  }\n",
       "})(window);</script>"
      ],
      "text/plain": [
       ":Table   [CoinName,Algorithm,ProofType,TotalCoinSupply,TotalCoinsMined,Class]"
      ]
     },
     "execution_count": 48,
     "metadata": {
      "application/vnd.holoviews_exec.v0+json": {
       "id": "1120"
      }
     },
     "output_type": "execute_result"
    }
   ],
   "source": [
    "# Create a table with tradable cryptocurrencies.\n",
    "clustered_df.hvplot.table(columns=['CoinName', 'Algorithm','ProofType','TotalCoinSupply','TotalCoinsMined','Class'], sortable = True, selectable=True)"
   ]
  },
  {
   "cell_type": "code",
   "execution_count": 49,
   "metadata": {},
   "outputs": [
    {
     "name": "stdout",
     "output_type": "stream",
     "text": [
      "There are 532 tradable cryptocurrencies.\n"
     ]
    }
   ],
   "source": [
    "# Print the total number of tradable cryptocurrencies.\n",
    "print(f\"There are {len(clustered_df.index)} tradable cryptocurrencies.\")"
   ]
  },
  {
   "cell_type": "code",
   "execution_count": 50,
   "metadata": {},
   "outputs": [
    {
     "name": "stdout",
     "output_type": "stream",
     "text": [
      "[[4.20000000e-11 0.00000000e+00]\n",
      " [5.32000000e-04 1.06585544e-03]\n",
      " [3.14159265e-01 2.95755135e-02]\n",
      " ...\n",
      " [1.40022261e-03 9.90135079e-04]\n",
      " [2.10000000e-05 7.37028150e-06]\n",
      " [1.00000000e-06 1.29582282e-07]]\n"
     ]
    }
   ],
   "source": [
    "# Scaling data to create the scatter plot with tradable cryptocurrencies.\n",
    "data = pd.DataFrame(data=clustered_df,\n",
    "                    columns=[\"TotalCoinSupply\",\"TotalCoinsMined\"],\n",
    "                    index=clustered_df.index)\n",
    "\n",
    "scaler = MinMaxScaler()\n",
    "scaled = scaler.fit_transform(data)\n",
    "print(scaled)"
   ]
  },
  {
   "cell_type": "code",
   "execution_count": 53,
   "metadata": {},
   "outputs": [
    {
     "data": {
      "text/html": [
       "<div>\n",
       "<style scoped>\n",
       "    .dataframe tbody tr th:only-of-type {\n",
       "        vertical-align: middle;\n",
       "    }\n",
       "\n",
       "    .dataframe tbody tr th {\n",
       "        vertical-align: top;\n",
       "    }\n",
       "\n",
       "    .dataframe thead th {\n",
       "        text-align: right;\n",
       "    }\n",
       "</style>\n",
       "<table border=\"1\" class=\"dataframe\">\n",
       "  <thead>\n",
       "    <tr style=\"text-align: right;\">\n",
       "      <th></th>\n",
       "      <th>TotalCoinSupply</th>\n",
       "      <th>TotalCoinsMined</th>\n",
       "      <th>CoinName</th>\n",
       "      <th>Class</th>\n",
       "    </tr>\n",
       "  </thead>\n",
       "  <tbody>\n",
       "    <tr>\n",
       "      <th>0</th>\n",
       "      <td>4.200000e-11</td>\n",
       "      <td>0.000000</td>\n",
       "      <td>42 Coin</td>\n",
       "      <td>1</td>\n",
       "    </tr>\n",
       "    <tr>\n",
       "      <th>2</th>\n",
       "      <td>5.320000e-04</td>\n",
       "      <td>0.001066</td>\n",
       "      <td>404Coin</td>\n",
       "      <td>1</td>\n",
       "    </tr>\n",
       "    <tr>\n",
       "      <th>5</th>\n",
       "      <td>3.141593e-01</td>\n",
       "      <td>0.029576</td>\n",
       "      <td>EliteCoin</td>\n",
       "      <td>1</td>\n",
       "    </tr>\n",
       "    <tr>\n",
       "      <th>7</th>\n",
       "      <td>2.100000e-05</td>\n",
       "      <td>0.000018</td>\n",
       "      <td>Bitcoin</td>\n",
       "      <td>0</td>\n",
       "    </tr>\n",
       "    <tr>\n",
       "      <th>8</th>\n",
       "      <td>0.000000e+00</td>\n",
       "      <td>0.000109</td>\n",
       "      <td>Ethereum</td>\n",
       "      <td>0</td>\n",
       "    </tr>\n",
       "    <tr>\n",
       "      <th>9</th>\n",
       "      <td>8.400000e-05</td>\n",
       "      <td>0.000064</td>\n",
       "      <td>Litecoin</td>\n",
       "      <td>0</td>\n",
       "    </tr>\n",
       "    <tr>\n",
       "      <th>10</th>\n",
       "      <td>2.200000e-05</td>\n",
       "      <td>0.000009</td>\n",
       "      <td>Dash</td>\n",
       "      <td>1</td>\n",
       "    </tr>\n",
       "    <tr>\n",
       "      <th>11</th>\n",
       "      <td>0.000000e+00</td>\n",
       "      <td>0.000017</td>\n",
       "      <td>Monero</td>\n",
       "      <td>0</td>\n",
       "    </tr>\n",
       "    <tr>\n",
       "      <th>12</th>\n",
       "      <td>2.100000e-04</td>\n",
       "      <td>0.000115</td>\n",
       "      <td>Ethereum Classic</td>\n",
       "      <td>0</td>\n",
       "    </tr>\n",
       "    <tr>\n",
       "      <th>13</th>\n",
       "      <td>2.100000e-05</td>\n",
       "      <td>0.000007</td>\n",
       "      <td>ZCash</td>\n",
       "      <td>0</td>\n",
       "    </tr>\n",
       "  </tbody>\n",
       "</table>\n",
       "</div>"
      ],
      "text/plain": [
       "    TotalCoinSupply  TotalCoinsMined          CoinName  Class\n",
       "0      4.200000e-11         0.000000           42 Coin      1\n",
       "2      5.320000e-04         0.001066           404Coin      1\n",
       "5      3.141593e-01         0.029576         EliteCoin      1\n",
       "7      2.100000e-05         0.000018           Bitcoin      0\n",
       "8      0.000000e+00         0.000109          Ethereum      0\n",
       "9      8.400000e-05         0.000064          Litecoin      0\n",
       "10     2.200000e-05         0.000009              Dash      1\n",
       "11     0.000000e+00         0.000017            Monero      0\n",
       "12     2.100000e-04         0.000115  Ethereum Classic      0\n",
       "13     2.100000e-05         0.000007             ZCash      0"
      ]
     },
     "execution_count": 53,
     "metadata": {},
     "output_type": "execute_result"
    }
   ],
   "source": [
    "# Create a new DataFrame that has the scaled data with the clustered_df DataFrame index.\n",
    "plot_df = pd.DataFrame(data=scaled,columns= [\"TotalCoinSupply\",\"TotalCoinsMined\"], index= clustered_df.index)\n",
    "\n",
    "# Add the \"CoinName\" column from the clustered_df DataFrame to the new DataFrame.\n",
    "plot_df = pd.concat([plot_df, crypto_name], axis=1)\n",
    "\n",
    "# Add the \"Class\" column from the clustered_df DataFrame to the new DataFrame. \n",
    "plot_df = pd.concat([plot_df, clustered_df[\"Class\"]],axis=1)\n",
    "\n",
    "plot_df.head(10)"
   ]
  },
  {
   "cell_type": "code",
   "execution_count": 54,
   "metadata": {},
   "outputs": [
    {
     "data": {},
     "metadata": {},
     "output_type": "display_data"
    },
    {
     "data": {
      "application/vnd.holoviews_exec.v0+json": "",
      "text/html": [
       "<div id='1173'>\n",
       "\n",
       "\n",
       "\n",
       "\n",
       "\n",
       "  <div class=\"bk-root\" id=\"fde69abb-a5de-44b7-b44b-ab84dbf5c051\" data-root-id=\"1173\"></div>\n",
       "</div>\n",
       "<script type=\"application/javascript\">(function(root) {\n",
       "  function embed_document(root) {\n",
       "    var docs_json = {\"48ecb195-9773-41a0-969f-37d70dce33d2\":{\"defs\":[{\"extends\":null,\"module\":null,\"name\":\"ReactiveHTML1\",\"overrides\":[],\"properties\":[]},{\"extends\":null,\"module\":null,\"name\":\"FlexBox1\",\"overrides\":[],\"properties\":[{\"default\":\"flex-start\",\"kind\":null,\"name\":\"align_content\"},{\"default\":\"flex-start\",\"kind\":null,\"name\":\"align_items\"},{\"default\":\"row\",\"kind\":null,\"name\":\"flex_direction\"},{\"default\":\"wrap\",\"kind\":null,\"name\":\"flex_wrap\"},{\"default\":\"flex-start\",\"kind\":null,\"name\":\"justify_content\"}]},{\"extends\":null,\"module\":null,\"name\":\"GridStack1\",\"overrides\":[],\"properties\":[{\"default\":\"warn\",\"kind\":null,\"name\":\"mode\"},{\"default\":null,\"kind\":null,\"name\":\"ncols\"},{\"default\":null,\"kind\":null,\"name\":\"nrows\"},{\"default\":true,\"kind\":null,\"name\":\"allow_resize\"},{\"default\":true,\"kind\":null,\"name\":\"allow_drag\"},{\"default\":[],\"kind\":null,\"name\":\"state\"}]},{\"extends\":null,\"module\":null,\"name\":\"click1\",\"overrides\":[],\"properties\":[{\"default\":\"\",\"kind\":null,\"name\":\"terminal_output\"},{\"default\":\"\",\"kind\":null,\"name\":\"debug_name\"},{\"default\":0,\"kind\":null,\"name\":\"clears\"}]},{\"extends\":null,\"module\":null,\"name\":\"TemplateActions1\",\"overrides\":[],\"properties\":[{\"default\":0,\"kind\":null,\"name\":\"open_modal\"},{\"default\":0,\"kind\":null,\"name\":\"close_modal\"}]},{\"extends\":null,\"module\":null,\"name\":\"MaterialTemplateActions1\",\"overrides\":[],\"properties\":[{\"default\":0,\"kind\":null,\"name\":\"open_modal\"},{\"default\":0,\"kind\":null,\"name\":\"close_modal\"}]}],\"roots\":{\"references\":[{\"attributes\":{},\"id\":\"1195\",\"type\":\"BasicTicker\"},{\"attributes\":{\"axis\":{\"id\":\"1194\"},\"coordinates\":null,\"dimension\":1,\"grid_line_color\":null,\"group\":null,\"ticker\":null},\"id\":\"1197\",\"type\":\"Grid\"},{\"attributes\":{\"below\":[{\"id\":\"1190\"}],\"center\":[{\"id\":\"1193\"},{\"id\":\"1197\"}],\"height\":300,\"left\":[{\"id\":\"1194\"}],\"margin\":[5,5,5,5],\"min_border_bottom\":10,\"min_border_left\":10,\"min_border_right\":10,\"min_border_top\":10,\"renderers\":[{\"id\":\"1223\"},{\"id\":\"1244\"},{\"id\":\"1266\"},{\"id\":\"1290\"}],\"right\":[{\"id\":\"1235\"}],\"sizing_mode\":\"fixed\",\"title\":{\"id\":\"1182\"},\"toolbar\":{\"id\":\"1204\"},\"width\":700,\"x_range\":{\"id\":\"1175\"},\"x_scale\":{\"id\":\"1186\"},\"y_range\":{\"id\":\"1176\"},\"y_scale\":{\"id\":\"1188\"}},\"id\":\"1181\",\"subtype\":\"Figure\",\"type\":\"Plot\"},{\"attributes\":{\"coordinates\":null,\"data_source\":{\"id\":\"1260\"},\"glyph\":{\"id\":\"1263\"},\"group\":null,\"hover_glyph\":null,\"muted_glyph\":{\"id\":\"1265\"},\"nonselection_glyph\":{\"id\":\"1264\"},\"selection_glyph\":{\"id\":\"1283\"},\"view\":{\"id\":\"1267\"}},\"id\":\"1266\",\"type\":\"GlyphRenderer\"},{\"attributes\":{\"data\":{\"Class\":[3],\"CoinName\":[\"BitTorrent\"],\"TotalCoinSupply\":{\"__ndarray__\":\"rkfhehSu7z8=\",\"dtype\":\"float64\",\"order\":\"little\",\"shape\":[1]},\"TotalCoinsMined\":{\"__ndarray__\":\"AAAAAAAA8D8=\",\"dtype\":\"float64\",\"order\":\"little\",\"shape\":[1]}},\"selected\":{\"id\":\"1285\"},\"selection_policy\":{\"id\":\"1305\"}},\"id\":\"1284\",\"type\":\"ColumnDataSource\"},{\"attributes\":{\"callback\":null,\"renderers\":[{\"id\":\"1223\"},{\"id\":\"1244\"},{\"id\":\"1266\"},{\"id\":\"1290\"}],\"tags\":[\"hv_created\"],\"tooltips\":[[\"Class\",\"@{Class}\"],[\"TotalCoinsMined\",\"@{TotalCoinsMined}\"],[\"TotalCoinSupply\",\"@{TotalCoinSupply}\"],[\"CoinName\",\"@{CoinName}\"]]},\"id\":\"1177\",\"type\":\"HoverTool\"},{\"attributes\":{\"margin\":[5,5,5,5],\"name\":\"HSpacer01992\",\"sizing_mode\":\"stretch_width\"},\"id\":\"1454\",\"type\":\"Spacer\"},{\"attributes\":{\"end\":1.1,\"reset_end\":1.1,\"reset_start\":-0.1,\"start\":-0.1,\"tags\":[[[\"TotalCoinSupply\",\"TotalCoinSupply\",null]]]},\"id\":\"1176\",\"type\":\"Range1d\"},{\"attributes\":{\"tools\":[{\"id\":\"1177\"},{\"id\":\"1198\"},{\"id\":\"1199\"},{\"id\":\"1200\"},{\"id\":\"1201\"},{\"id\":\"1202\"}]},\"id\":\"1204\",\"type\":\"Toolbar\"},{\"attributes\":{\"fill_alpha\":{\"value\":0.1},\"fill_color\":{\"value\":\"#30a2da\"},\"hatch_alpha\":{\"value\":0.1},\"hatch_color\":{\"value\":\"#30a2da\"},\"line_alpha\":{\"value\":0.1},\"line_color\":{\"value\":\"#30a2da\"},\"size\":{\"value\":5.477225575051661},\"x\":{\"field\":\"TotalCoinsMined\"},\"y\":{\"field\":\"TotalCoinSupply\"}},\"id\":\"1221\",\"type\":\"Scatter\"},{\"attributes\":{},\"id\":\"1213\",\"type\":\"AllLabels\"},{\"attributes\":{},\"id\":\"1198\",\"type\":\"SaveTool\"},{\"attributes\":{},\"id\":\"1199\",\"type\":\"PanTool\"},{\"attributes\":{},\"id\":\"1202\",\"type\":\"ResetTool\"},{\"attributes\":{},\"id\":\"1200\",\"type\":\"WheelZoomTool\"},{\"attributes\":{\"fill_alpha\":{\"value\":0.2},\"fill_color\":{\"value\":\"#30a2da\"},\"hatch_alpha\":{\"value\":0.2},\"hatch_color\":{\"value\":\"#30a2da\"},\"line_alpha\":{\"value\":0.2},\"line_color\":{\"value\":\"#30a2da\"},\"size\":{\"value\":5.477225575051661},\"x\":{\"field\":\"TotalCoinsMined\"},\"y\":{\"field\":\"TotalCoinSupply\"}},\"id\":\"1222\",\"type\":\"Scatter\"},{\"attributes\":{\"data\":{\"Class\":[2,2,2,2,2,2],\"CoinName\":[\"Vechain\",\"BiblePay\",\"LitecoinCash\",\"Poa Network\",\"Acute Angle Cloud\",\"Waves\"],\"TotalCoinSupply\":{\"__ndarray__\":\"+nQumcwytj+U9gZfmEx1P7x5qkNuhks/hFoo4ZaLMD/8qfHSTWJQPyxDHOviNho/\",\"dtype\":\"float64\",\"order\":\"little\",\"shape\":[6]},\"TotalCoinsMined\":{\"__ndarray__\":\"zaDgBxGurD+PWA2R2lNdP5CkxfJKIUU/nBkleI8SKz96Q0MFuIxQP/tFfmC/eho/\",\"dtype\":\"float64\",\"order\":\"little\",\"shape\":[6]}},\"selected\":{\"id\":\"1261\"},\"selection_policy\":{\"id\":\"1279\"}},\"id\":\"1260\",\"type\":\"ColumnDataSource\"},{\"attributes\":{\"overlay\":{\"id\":\"1203\"}},\"id\":\"1201\",\"type\":\"BoxZoomTool\"},{\"attributes\":{\"data\":{\"Class\":[0,0,0,0,0,0,0,0,0,0,0,0,0,0,0,0,0,0,0,0,0,0,0,0,0,0,0,0,0,0,0,0,0,0,0,0,0,0,0,0,0,0,0,0,0,0,0,0,0,0,0,0,0,0,0,0,0,0,0,0,0,0,0,0,0,0,0,0,0,0,0,0,0,0,0,0,0,0,0,0,0,0,0,0,0,0,0,0,0,0,0,0,0,0,0,0,0,0,0,0,0,0,0,0,0,0,0,0,0,0,0,0,0,0,0,0,0,0,0,0,0,0,0,0,0,0,0,0,0,0,0,0,0,0,0,0,0,0,0,0,0,0,0,0,0,0,0,0,0,0,0,0,0,0,0,0,0,0,0,0,0,0,0,0,0,0,0,0,0,0,0,0,0,0,0,0,0,0,0,0,0,0,0,0,0,0,0,0,0,0,0,0,0,0,0,0,0,0,0,0,0,0,0,0,0,0,0,0,0,0,0,0,0,0,0,0,0,0,0,0,0,0,0,0,0,0,0,0,0,0,0,0,0,0,0,0,0,0],\"CoinName\":[\"Bitcoin\",\"Ethereum\",\"Litecoin\",\"Monero\",\"Ethereum Classic\",\"ZCash\",\"DigiByte\",\"ProsperCoin\",\"Spreadcoin\",\"Argentum\",\"MyriadCoin\",\"MoonCoin\",\"ZetaCoin\",\"SexCoin\",\"Quatloo\",\"QuarkCoin\",\"Riecoin\",\"Digitalcoin \",\"Catcoin\",\"CannaCoin\",\"CryptCoin\",\"Verge\",\"DevCoin\",\"EarthCoin\",\"E-Gulden\",\"Einsteinium\",\"Emerald\",\"Franko\",\"FeatherCoin\",\"GrandCoin\",\"GlobalCoin\",\"GoldCoin\",\"Infinite Coin\",\"IXcoin\",\"KrugerCoin\",\"LuckyCoin\",\"Litebar \",\"MegaCoin\",\"MediterraneanCoin\",\"MinCoin\",\"NobleCoin\",\"Namecoin\",\"NyanCoin\",\"RonPaulCoin\",\"StableCoin\",\"SmartCoin\",\"SysCoin\",\"TigerCoin\",\"TerraCoin\",\"UnbreakableCoin\",\"Unobtanium\",\"UroCoin\",\"ViaCoin\",\"Vertcoin\",\"WorldCoin\",\"JouleCoin\",\"ByteCoin\",\"DigitalNote \",\"MonaCoin\",\"Gulden\",\"PesetaCoin\",\"Wild Beast Coin\",\"Flo\",\"ArtByte\",\"Folding Coin\",\"Unitus\",\"CypherPunkCoin\",\"OmniCron\",\"GreenCoin\",\"Cryptonite\",\"MasterCoin\",\"SoonCoin\",\"1Credit\",\"MarsCoin \",\"Crypto\",\"Anarchists Prime\",\"BowsCoin\",\"Song Coin\",\"BitZeny\",\"Expanse\",\"Siacoin\",\"MindCoin\",\"I0coin\",\"Revolution VR\",\"HOdlcoin\",\"Gamecredits\",\"CarpeDiemCoin\",\"Adzcoin\",\"SoilCoin\",\"YoCoin\",\"SibCoin\",\"Francs\",\"BolivarCoin\",\"Omni\",\"PizzaCoin\",\"Komodo\",\"Karbo\",\"ZayedCoin\",\"Circuits of Value\",\"DopeCoin\",\"DollarCoin\",\"Shilling\",\"ZCoin\",\"Elementrem\",\"ZClassic\",\"KiloCoin\",\"ArtexCoin\",\"Kurrent\",\"Cannabis Industry Coin\",\"OsmiumCoin\",\"Bikercoins\",\"HexxCoin\",\"PacCoin\",\"Citadel\",\"BeaverCoin\",\"VaultCoin\",\"Zero\",\"Canada eCoin\",\"Zoin\",\"DubaiCoin\",\"EB3coin\",\"Coinonat\",\"BenjiRolls\",\"ILCoin\",\"EquiTrader\",\"Quantum Resistant Ledger\",\"Dynamic\",\"Nano\",\"ChanCoin\",\"Dinastycoin\",\"DigitalPrice\",\"Unify\",\"SocialCoin\",\"ArcticCoin\",\"DAS\",\"LeviarCoin\",\"Bitcore\",\"gCn Coin\",\"SmartCash\",\"Onix\",\"Bitcoin Cash\",\"Sojourn Coin\",\"NewYorkCoin\",\"FrazCoin\",\"Kronecoin\",\"AdCoin\",\"Linx\",\"Sumokoin\",\"BitcoinZ\",\"Elements\",\"VIVO Coin\",\"Bitcoin Gold\",\"Pirl\",\"eBoost\",\"Pura\",\"Innova\",\"Ellaism\",\"GoByte\",\"SHIELD\",\"UltraNote\",\"BitCoal\",\"DaxxCoin\",\"AC3\",\"Lethean\",\"PopularCoin\",\"Photon\",\"Sucre\",\"SparksPay\",\"GunCoin\",\"IrishCoin\",\"Pioneer Coin\",\"UnitedBitcoin\",\"Interzone\",\"TurtleCoin\",\"MUNcoin\",\"Niobio Cash\",\"ShareChain\",\"Travelflex\",\"KREDS\",\"BitFlip\",\"LottoCoin\",\"Crypto Improvement Fund\",\"Callisto Network\",\"BitTube\",\"Poseidon\",\"Aidos Kuneen\",\"Bitrolium\",\"Alpenschillling\",\"FuturoCoin\",\"Monero Classic\",\"Jumpcoin\",\"Infinex\",\"KEYCO\",\"GINcoin\",\"PlatinCoin\",\"Loki\",\"Newton Coin\",\"MassGrid\",\"PluraCoin\",\"Motion\",\"PlusOneCoin\",\"Axe\",\"HexCoin\",\"Webchain\",\"Ryo\",\"Urals Coin\",\"Qwertycoin\",\"Project Pai\",\"Azart\",\"Xchange\",\"CrypticCoin\",\"Actinium\",\"Bitcoin SV\",\"FREDEnergy\",\"Universal Molecule\",\"Lithium\",\"Exosis\",\"Block-Logic\",\"Beam\",\"Bithereum\",\"SLICE\",\"BLAST\",\"Bitcoin Rhodium\",\"GlobalToken\",\"SolarCoin\",\"UFO Coin\",\"BlakeCoin\",\"Crypto Escudo\",\"Crown Coin\",\"SmileyCoin\",\"Groestlcoin\",\"Bata\",\"Pakcoin\",\"JoinCoin\",\"Vollar\",\"Reality Clash\",\"Beldex\",\"Horizen\"],\"TotalCoinSupply\":{\"__ndarray__\":\"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\",\"dtype\":\"float64\",\"order\":\"little\",\"shape\":[238]},\"TotalCoinsMined\":{\"__ndarray__\":\"r6i7QfH88j5vitZPpIMcP2safiZFsRA/CBAnMBQ48j7wDEJVXgQePwFvcySeR98+S6ekP56Yhz8O0fKLQ3DYPunoanR6nuc+P/QHNS7b6T4I4yegqPBbP4pk9hRmi8k9cMqzLN2IJj8v7oqMShIhP+hFNhs4LN8+ICzRsK4uMT8QbyRNiz0KP59NHRkHtgE/NhWLS7iW3j4HjNNQyO3TPhf3vZ6vK9U+zGWKHw96kD/YQKTwOGuTP/QR9hSJ8Ik/v+Nbg90l9j7UJEJsY/osP53eB+SKpvQ+7OKrfnJdsz7h8m27k6ArPzOFKreVQ00/sp9rdsljET8a/IWo3Q8GPxfWq/5Sbbc/2g1Vrl1W9j4aGveuIA0kP+mrkQNSePQ+w6aYs+e2sj5zk5i3czQEP8Q38CuLaQU/dwwlCTKX2D6/GiTQLZRjP2kcsAWHN+8+WPbFZkYoNj/9tCw6GLayPlG7VH/vpfk+lXaTGbsb+z4TJNibZaVCP11sMg9/Dgc/sbwJ7+tK+D5svacTrE3DPrI5aeKgO4s+Bn6fn5x1tD5Ljct4WoX4PjXfW1HfGQs/ZX20aNqrHz8+VYv99MEEP1hQT91+zMc/EkNUVVGTfD8sNwB0vg4SP7x3FpSAeTs/V09i5Pw0Ij+8Wu9Dc6iIPv0vK9IFKSQ/u43+0IM7Sj+Fn7ZW789HP0XtoIndPRE/RXvZM7732j6tXPx07HrlPkRv+e0tE3M/aJCDWHxzRz/wOSf9uP6kPlQsp9p0Zuo+JVthYlbodz5RI4lAbxABP9C9WRyqHO0+cq2VX2I97z5yy9npd83wPjtGyf0IPwE/zcFpI7cFFD+pIsEbkTvmPi7peHQhHqE/CZb2rYPO8D68ZXludD32PgDbI7+vzSs/t2n0Hb5A6D768QgXA34SP8VZIm+ifJY/qfDDrNPjBz/IH81lZSjYPmbzzSAYkqU+io1ClvJI8j6EVzYip9bbPvB/UyyW7Ow+VIp4kW7kpD5Ztqr0xVm3PvBZKjNxsB4/i2oALxWS4D4AgcASBnTaPnpDQwW4jFA/1DtNvqTwHj/WFD5sjErjPri9zHTrjec+2DMeo0EI4D5jADv2nsH7PoUw/kBpyNc+ov9i+UX9KT9aPV7RHEZLPzuCQ8HDPxA/tcMN/maTsD7UrHW860yuPgxwAoxT0uM+xv90wUrLvz6OM6x+FcZBP9Kf4ZajPOc+Ck3M5oZlyj6rD9eegxcAP/OI8EMuU90+6fmC8iFwGj/Wo9/Kq6TzPsujJZ6E68I+XGxBluj4ED+Bh4j2yXHlPjXeTm3aefU+yXvl+uzOVT9z1k/kEPfsPv9UEsTGRxI/YSp/QHv09D61h4qHSKQhPy+N/AEef/M+hKwqIzTyXT/m4rwM9psCP8kEKAPONPM+528Abuzk1T728NdKYJX7PtQZrzp5OcY+CdfFZ+z/7T70aOzy9tryPhgd90IFFcU/gc0bUEOLYj9LwcxRKDcgPyRl/jd+D/M+/Y1TnL1xoD4ENdImbn3CP/jx38F6juQ+1996s5J88j6p3Vc8E0oBP3gVJ9Mc2wE/uBZMWL/z4j4pupu9+I91P3sMH7KeXWY/uNaq91ym0T7bHSC7aDjyPl7TxYbH/wE/Esjo3RF6Gj88xJCxuDInP9pcGpKPAts+LsltZsEF6z491TfErLXYPniYzdXT4z8/5YO/i7rxkz8tUFOdpxDTPpkfTG2+PUE/YzWXr25EFT+/sGvyzzU9P0ryBjnNZnA/wKP4upcfnz8oDYelxerRPlT2YcShn+A+M9MbVqPYMz/pmLbtWxYIP2UO7kqn9eE+wa/X9f9b9T6YqjPlVz7pPq1f7GWUe6s/m6YY3Oxp1D4N1FrxeLshP1CfshPmr4Q/2fEHH09rHD9QMtgVKk9FP3y2D2d/Xeo+ZkXpZEv6jT9nddkYq/krP9gv1r9BZDA/Fan1HlMyFT/aQYC+gT7RPgdyvDC9evo+92CWwAHlEj9ZXda3XfX8PjbwhEh61wA/ypskKPb28D7608Uz8VD2PvZNHrfomNU+/HzuDZL1qj7LOmFuZ5ndPo+bLwi42HY+GNnqCX9J9D6DWcI4SlulP5GAC7ji/CE/gs5PbtqJQj/1l+lTojbhPh/lK5thUOI+z17SV2Un1T541mKE3gG4PurwYFaPgPA+0YDfJJ+41D6WvW8I0TzvPriw3DhKvrk/v5TwC45gYT/bWtoBLkDVPhsOYClwqeQ+T6v8ir6FcT9aK/QlKOLsPteY+cSoDvM+rhUfyy/mXj+0RLaqCL+6PnZqj8zTyPA+aswyrG2Gmz4bDlRauK8CP5ubDoNU5gI/cW/NA6Cj+j6UzYNAomHrPrJ5rky7sQs/sl813APVsz5+NrhAtWcWPxqIBuE6bQ0/sNggyQ6mbz+XJ/DBLr34PiCh/w8R00k/WGx5EuVY+D5ls63LsJmeP+wERg+zaBM/FZl2+fRn1T5WOcGCu3MSPyAxdFCvPcw++0V+YL96Gj+Cx4Ui5e/5PqkaH3LtOFA/fthsjcfp3j4=\",\"dtype\":\"float64\",\"order\":\"little\",\"shape\":[238]}},\"selected\":{\"id\":\"1218\"},\"selection_policy\":{\"id\":\"1232\"}},\"id\":\"1217\",\"type\":\"ColumnDataSource\"},{\"attributes\":{\"fill_alpha\":{\"value\":0.2},\"fill_color\":{\"value\":\"#6d904f\"},\"hatch_alpha\":{\"value\":0.2},\"hatch_color\":{\"value\":\"#6d904f\"},\"line_alpha\":{\"value\":0.2},\"line_color\":{\"value\":\"#6d904f\"},\"size\":{\"value\":5.477225575051661},\"x\":{\"field\":\"TotalCoinsMined\"},\"y\":{\"field\":\"TotalCoinSupply\"}},\"id\":\"1289\",\"type\":\"Scatter\"},{\"attributes\":{\"label\":{\"value\":\"0\"},\"renderers\":[{\"id\":\"1223\"}]},\"id\":\"1236\",\"type\":\"LegendItem\"},{\"attributes\":{\"source\":{\"id\":\"1217\"}},\"id\":\"1224\",\"type\":\"CDSView\"},{\"attributes\":{\"click_policy\":\"mute\",\"coordinates\":null,\"group\":null,\"items\":[{\"id\":\"1236\"},{\"id\":\"1258\"},{\"id\":\"1282\"},{\"id\":\"1308\"}],\"location\":[0,0],\"title\":\"Class\"},\"id\":\"1235\",\"type\":\"Legend\"},{\"attributes\":{},\"id\":\"1239\",\"type\":\"Selection\"},{\"attributes\":{},\"id\":\"1218\",\"type\":\"Selection\"},{\"attributes\":{},\"id\":\"1285\",\"type\":\"Selection\"},{\"attributes\":{\"bottom_units\":\"screen\",\"coordinates\":null,\"fill_alpha\":0.5,\"fill_color\":\"lightgrey\",\"group\":null,\"left_units\":\"screen\",\"level\":\"overlay\",\"line_alpha\":1.0,\"line_color\":\"black\",\"line_dash\":[4,4],\"line_width\":2,\"right_units\":\"screen\",\"syncable\":false,\"top_units\":\"screen\"},\"id\":\"1203\",\"type\":\"BoxAnnotation\"},{\"attributes\":{\"fill_color\":{\"value\":\"#6d904f\"},\"hatch_color\":{\"value\":\"#6d904f\"},\"line_color\":{\"value\":\"#6d904f\"},\"size\":{\"value\":5.477225575051661},\"x\":{\"field\":\"TotalCoinsMined\"},\"y\":{\"field\":\"TotalCoinSupply\"}},\"id\":\"1287\",\"type\":\"Scatter\"},{\"attributes\":{},\"id\":\"1232\",\"type\":\"UnionRenderers\"},{\"attributes\":{},\"id\":\"1215\",\"type\":\"BasicTickFormatter\"},{\"attributes\":{\"source\":{\"id\":\"1238\"}},\"id\":\"1245\",\"type\":\"CDSView\"},{\"attributes\":{\"fill_color\":{\"value\":\"#fc4f30\"},\"hatch_color\":{\"value\":\"#fc4f30\"},\"line_color\":{\"value\":\"#fc4f30\"},\"size\":{\"value\":5.477225575051661},\"x\":{\"field\":\"TotalCoinsMined\"},\"y\":{\"field\":\"TotalCoinSupply\"}},\"id\":\"1241\",\"type\":\"Scatter\"},{\"attributes\":{},\"id\":\"1191\",\"type\":\"BasicTicker\"},{\"attributes\":{\"children\":[{\"id\":\"1174\"},{\"id\":\"1181\"},{\"id\":\"1454\"}],\"margin\":[0,0,0,0],\"name\":\"Row01987\",\"tags\":[\"embedded\"]},\"id\":\"1173\",\"type\":\"Row\"},{\"attributes\":{\"coordinates\":null,\"data_source\":{\"id\":\"1217\"},\"glyph\":{\"id\":\"1220\"},\"group\":null,\"hover_glyph\":null,\"muted_glyph\":{\"id\":\"1222\"},\"nonselection_glyph\":{\"id\":\"1221\"},\"selection_glyph\":{\"id\":\"1237\"},\"view\":{\"id\":\"1224\"}},\"id\":\"1223\",\"type\":\"GlyphRenderer\"},{\"attributes\":{\"label\":{\"value\":\"1\"},\"renderers\":[{\"id\":\"1244\"}]},\"id\":\"1258\",\"type\":\"LegendItem\"},{\"attributes\":{\"label\":{\"value\":\"2\"},\"renderers\":[{\"id\":\"1266\"}]},\"id\":\"1282\",\"type\":\"LegendItem\"},{\"attributes\":{\"fill_alpha\":{\"value\":0.2},\"fill_color\":{\"value\":\"#fc4f30\"},\"hatch_alpha\":{\"value\":0.2},\"hatch_color\":{\"value\":\"#fc4f30\"},\"line_alpha\":{\"value\":0.2},\"line_color\":{\"value\":\"#fc4f30\"},\"size\":{\"value\":5.477225575051661},\"x\":{\"field\":\"TotalCoinsMined\"},\"y\":{\"field\":\"TotalCoinSupply\"}},\"id\":\"1243\",\"type\":\"Scatter\"},{\"attributes\":{\"margin\":[5,5,5,5],\"name\":\"HSpacer01991\",\"sizing_mode\":\"stretch_width\"},\"id\":\"1174\",\"type\":\"Spacer\"},{\"attributes\":{},\"id\":\"1255\",\"type\":\"UnionRenderers\"},{\"attributes\":{\"angle\":{\"value\":0.0},\"fill_alpha\":{\"value\":1.0},\"fill_color\":{\"value\":\"#30a2da\"},\"hatch_alpha\":{\"value\":1.0},\"hatch_color\":{\"value\":\"#30a2da\"},\"hatch_scale\":{\"value\":12.0},\"hatch_weight\":{\"value\":1.0},\"line_alpha\":{\"value\":1.0},\"line_cap\":{\"value\":\"butt\"},\"line_color\":{\"value\":\"#30a2da\"},\"line_dash\":{\"value\":[]},\"line_dash_offset\":{\"value\":0},\"line_join\":{\"value\":\"bevel\"},\"line_width\":{\"value\":1},\"marker\":{\"value\":\"circle\"},\"size\":{\"value\":5.477225575051661},\"x\":{\"field\":\"TotalCoinsMined\"},\"y\":{\"field\":\"TotalCoinSupply\"}},\"id\":\"1237\",\"type\":\"Scatter\"},{\"attributes\":{\"fill_alpha\":{\"value\":0.1},\"fill_color\":{\"value\":\"#fc4f30\"},\"hatch_alpha\":{\"value\":0.1},\"hatch_color\":{\"value\":\"#fc4f30\"},\"line_alpha\":{\"value\":0.1},\"line_color\":{\"value\":\"#fc4f30\"},\"size\":{\"value\":5.477225575051661},\"x\":{\"field\":\"TotalCoinsMined\"},\"y\":{\"field\":\"TotalCoinSupply\"}},\"id\":\"1242\",\"type\":\"Scatter\"},{\"attributes\":{\"fill_alpha\":{\"value\":0.2},\"fill_color\":{\"value\":\"#e5ae38\"},\"hatch_alpha\":{\"value\":0.2},\"hatch_color\":{\"value\":\"#e5ae38\"},\"line_alpha\":{\"value\":0.2},\"line_color\":{\"value\":\"#e5ae38\"},\"size\":{\"value\":5.477225575051661},\"x\":{\"field\":\"TotalCoinsMined\"},\"y\":{\"field\":\"TotalCoinSupply\"}},\"id\":\"1265\",\"type\":\"Scatter\"},{\"attributes\":{},\"id\":\"1279\",\"type\":\"UnionRenderers\"},{\"attributes\":{\"coordinates\":null,\"data_source\":{\"id\":\"1238\"},\"glyph\":{\"id\":\"1241\"},\"group\":null,\"hover_glyph\":null,\"muted_glyph\":{\"id\":\"1243\"},\"nonselection_glyph\":{\"id\":\"1242\"},\"selection_glyph\":{\"id\":\"1259\"},\"view\":{\"id\":\"1245\"}},\"id\":\"1244\",\"type\":\"GlyphRenderer\"},{\"attributes\":{},\"id\":\"1216\",\"type\":\"AllLabels\"},{\"attributes\":{\"angle\":{\"value\":0.0},\"fill_alpha\":{\"value\":1.0},\"fill_color\":{\"value\":\"#fc4f30\"},\"hatch_alpha\":{\"value\":1.0},\"hatch_color\":{\"value\":\"#fc4f30\"},\"hatch_scale\":{\"value\":12.0},\"hatch_weight\":{\"value\":1.0},\"line_alpha\":{\"value\":1.0},\"line_cap\":{\"value\":\"butt\"},\"line_color\":{\"value\":\"#fc4f30\"},\"line_dash\":{\"value\":[]},\"line_dash_offset\":{\"value\":0},\"line_join\":{\"value\":\"bevel\"},\"line_width\":{\"value\":1},\"marker\":{\"value\":\"circle\"},\"size\":{\"value\":5.477225575051661},\"x\":{\"field\":\"TotalCoinsMined\"},\"y\":{\"field\":\"TotalCoinSupply\"}},\"id\":\"1259\",\"type\":\"Scatter\"},{\"attributes\":{\"fill_color\":{\"value\":\"#e5ae38\"},\"hatch_color\":{\"value\":\"#e5ae38\"},\"line_color\":{\"value\":\"#e5ae38\"},\"size\":{\"value\":5.477225575051661},\"x\":{\"field\":\"TotalCoinsMined\"},\"y\":{\"field\":\"TotalCoinSupply\"}},\"id\":\"1263\",\"type\":\"Scatter\"},{\"attributes\":{},\"id\":\"1186\",\"type\":\"LinearScale\"},{\"attributes\":{\"coordinates\":null,\"group\":null,\"text_color\":\"black\",\"text_font_size\":\"12pt\"},\"id\":\"1182\",\"type\":\"Title\"},{\"attributes\":{\"angle\":{\"value\":0.0},\"fill_alpha\":{\"value\":1.0},\"fill_color\":{\"value\":\"#e5ae38\"},\"hatch_alpha\":{\"value\":1.0},\"hatch_color\":{\"value\":\"#e5ae38\"},\"hatch_scale\":{\"value\":12.0},\"hatch_weight\":{\"value\":1.0},\"line_alpha\":{\"value\":1.0},\"line_cap\":{\"value\":\"butt\"},\"line_color\":{\"value\":\"#e5ae38\"},\"line_dash\":{\"value\":[]},\"line_dash_offset\":{\"value\":0},\"line_join\":{\"value\":\"bevel\"},\"line_width\":{\"value\":1},\"marker\":{\"value\":\"circle\"},\"size\":{\"value\":5.477225575051661},\"x\":{\"field\":\"TotalCoinsMined\"},\"y\":{\"field\":\"TotalCoinSupply\"}},\"id\":\"1283\",\"type\":\"Scatter\"},{\"attributes\":{\"label\":{\"value\":\"3\"},\"renderers\":[{\"id\":\"1290\"}]},\"id\":\"1308\",\"type\":\"LegendItem\"},{\"attributes\":{},\"id\":\"1212\",\"type\":\"BasicTickFormatter\"},{\"attributes\":{\"axis\":{\"id\":\"1190\"},\"coordinates\":null,\"grid_line_color\":null,\"group\":null,\"ticker\":null},\"id\":\"1193\",\"type\":\"Grid\"},{\"attributes\":{\"angle\":{\"value\":0.0},\"fill_alpha\":{\"value\":1.0},\"fill_color\":{\"value\":\"#6d904f\"},\"hatch_alpha\":{\"value\":1.0},\"hatch_color\":{\"value\":\"#6d904f\"},\"hatch_scale\":{\"value\":12.0},\"hatch_weight\":{\"value\":1.0},\"line_alpha\":{\"value\":1.0},\"line_cap\":{\"value\":\"butt\"},\"line_color\":{\"value\":\"#6d904f\"},\"line_dash\":{\"value\":[]},\"line_dash_offset\":{\"value\":0},\"line_join\":{\"value\":\"bevel\"},\"line_width\":{\"value\":1},\"marker\":{\"value\":\"circle\"},\"size\":{\"value\":5.477225575051661},\"x\":{\"field\":\"TotalCoinsMined\"},\"y\":{\"field\":\"TotalCoinSupply\"}},\"id\":\"1309\",\"type\":\"Scatter\"},{\"attributes\":{\"fill_alpha\":{\"value\":0.1},\"fill_color\":{\"value\":\"#e5ae38\"},\"hatch_alpha\":{\"value\":0.1},\"hatch_color\":{\"value\":\"#e5ae38\"},\"line_alpha\":{\"value\":0.1},\"line_color\":{\"value\":\"#e5ae38\"},\"size\":{\"value\":5.477225575051661},\"x\":{\"field\":\"TotalCoinsMined\"},\"y\":{\"field\":\"TotalCoinSupply\"}},\"id\":\"1264\",\"type\":\"Scatter\"},{\"attributes\":{\"source\":{\"id\":\"1260\"}},\"id\":\"1267\",\"type\":\"CDSView\"},{\"attributes\":{},\"id\":\"1261\",\"type\":\"Selection\"},{\"attributes\":{\"end\":1.042857142857143,\"reset_end\":1.042857142857143,\"reset_start\":-0.04285714285714286,\"start\":-0.04285714285714286,\"tags\":[[[\"TotalCoinsMined\",\"TotalCoinsMined\",null]]]},\"id\":\"1175\",\"type\":\"Range1d\"},{\"attributes\":{},\"id\":\"1305\",\"type\":\"UnionRenderers\"},{\"attributes\":{},\"id\":\"1188\",\"type\":\"LinearScale\"},{\"attributes\":{\"fill_color\":{\"value\":\"#30a2da\"},\"hatch_color\":{\"value\":\"#30a2da\"},\"line_color\":{\"value\":\"#30a2da\"},\"size\":{\"value\":5.477225575051661},\"x\":{\"field\":\"TotalCoinsMined\"},\"y\":{\"field\":\"TotalCoinSupply\"}},\"id\":\"1220\",\"type\":\"Scatter\"},{\"attributes\":{\"axis_label\":\"TotalCoinSupply\",\"coordinates\":null,\"formatter\":{\"id\":\"1215\"},\"group\":null,\"major_label_policy\":{\"id\":\"1216\"},\"ticker\":{\"id\":\"1195\"}},\"id\":\"1194\",\"type\":\"LinearAxis\"},{\"attributes\":{\"fill_alpha\":{\"value\":0.1},\"fill_color\":{\"value\":\"#6d904f\"},\"hatch_alpha\":{\"value\":0.1},\"hatch_color\":{\"value\":\"#6d904f\"},\"line_alpha\":{\"value\":0.1},\"line_color\":{\"value\":\"#6d904f\"},\"size\":{\"value\":5.477225575051661},\"x\":{\"field\":\"TotalCoinsMined\"},\"y\":{\"field\":\"TotalCoinSupply\"}},\"id\":\"1288\",\"type\":\"Scatter\"},{\"attributes\":{\"axis_label\":\"TotalCoinsMined\",\"coordinates\":null,\"formatter\":{\"id\":\"1212\"},\"group\":null,\"major_label_policy\":{\"id\":\"1213\"},\"ticker\":{\"id\":\"1191\"}},\"id\":\"1190\",\"type\":\"LinearAxis\"},{\"attributes\":{\"data\":{\"Class\":[1,1,1,1,1,1,1,1,1,1,1,1,1,1,1,1,1,1,1,1,1,1,1,1,1,1,1,1,1,1,1,1,1,1,1,1,1,1,1,1,1,1,1,1,1,1,1,1,1,1,1,1,1,1,1,1,1,1,1,1,1,1,1,1,1,1,1,1,1,1,1,1,1,1,1,1,1,1,1,1,1,1,1,1,1,1,1,1,1,1,1,1,1,1,1,1,1,1,1,1,1,1,1,1,1,1,1,1,1,1,1,1,1,1,1,1,1,1,1,1,1,1,1,1,1,1,1,1,1,1,1,1,1,1,1,1,1,1,1,1,1,1,1,1,1,1,1,1,1,1,1,1,1,1,1,1,1,1,1,1,1,1,1,1,1,1,1,1,1,1,1,1,1,1,1,1,1,1,1,1,1,1,1,1,1,1,1,1,1,1,1,1,1,1,1,1,1,1,1,1,1,1,1,1,1,1,1,1,1,1,1,1,1,1,1,1,1,1,1,1,1,1,1,1,1,1,1,1,1,1,1,1,1,1,1,1,1,1,1,1,1,1,1,1,1,1,1,1,1,1,1,1,1,1,1,1,1,1,1,1,1,1,1,1,1,1,1,1,1,1,1,1,1,1,1,1,1,1,1,1,1,1,1,1,1,1,1],\"CoinName\":[\"42 Coin\",\"404Coin\",\"EliteCoin\",\"Dash\",\"Bitshares\",\"BitcoinDark\",\"PayCoin\",\"KoboCoin\",\"Aurora Coin\",\"BlueCoin\",\"EnergyCoin\",\"BitBar\",\"CryptoBullion\",\"CasinoCoin\",\"Diamond\",\"Exclusive Coin\",\"FlutterCoin\",\"HoboNickels\",\"HyperStake\",\"IOCoin\",\"MaxCoin\",\"MintCoin\",\"MazaCoin\",\"Nautilus Coin\",\"NavCoin\",\"OpalCoin\",\"Orbitcoin\",\"PotCoin\",\"PhoenixCoin\",\"Reddcoin\",\"SuperCoin\",\"SyncCoin\",\"TeslaCoin\",\"TittieCoin\",\"TorCoin\",\"UnitaryStatus Dollar\",\"UltraCoin\",\"VeriCoin\",\"X11 Coin\",\"Crypti\",\"StealthCoin\",\"ZCC Coin\",\"BurstCoin\",\"StorjCoin\",\"Neutron\",\"FairCoin\",\"RubyCoin\",\"Kore\",\"Dnotes\",\"8BIT Coin\",\"Sativa Coin\",\"Ucoin\",\"Vtorrent\",\"IslaCoin\",\"Nexus\",\"Droidz\",\"Squall Coin\",\"Diggits\",\"Paycon\",\"Emercoin\",\"EverGreenCoin\",\"Decred\",\"EDRCoin\",\"Hitcoin\",\"DubaiCoin\",\"PWR Coin\",\"BillaryCoin\",\"GPU Coin\",\"EuropeCoin\",\"ZeitCoin\",\"SwingCoin\",\"SafeExchangeCoin\",\"Nebuchadnezzar\",\"Ratecoin\",\"Revenu\",\"Clockcoin\",\"VIP Tokens\",\"BitSend\",\"Let it Ride\",\"PutinCoin\",\"iBankCoin\",\"Frankywillcoin\",\"MudraCoin\",\"Lutetium Coin\",\"GoldBlocks\",\"CarterCoin\",\"BitTokens\",\"MustangCoin\",\"ZoneCoin\",\"RootCoin\",\"BitCurrency\",\"Swiscoin\",\"BuzzCoin\",\"Opair\",\"PesoBit\",\"Halloween Coin\",\"CoffeeCoin\",\"RoyalCoin\",\"GanjaCoin V2\",\"TeamUP\",\"LanaCoin\",\"ARK\",\"InsaneCoin\",\"EmberCoin\",\"XenixCoin\",\"FreeCoin\",\"PLNCoin\",\"AquariusCoin\",\"Creatio\",\"Eternity\",\"Eurocoin\",\"BitcoinFast\",\"Stakenet\",\"BitConnect Coin\",\"MoneyCoin\",\"Enigma\",\"Russiacoin\",\"PandaCoin\",\"GameUnits\",\"GAKHcoin\",\"Allsafe\",\"LiteCreed\",\"Klingon Empire Darsek\",\"Internet of People\",\"KushCoin\",\"Printerium\",\"Impeach\",\"Zilbercoin\",\"FirstCoin\",\"FindCoin\",\"OpenChat\",\"RenosCoin\",\"VirtacoinPlus\",\"TajCoin\",\"Impact\",\"Atmos\",\"HappyCoin\",\"MacronCoin\",\"Condensate\",\"Independent Money System\",\"ArgusCoin\",\"LomoCoin\",\"ProCurrency\",\"GoldReserve\",\"GrowthCoin\",\"Phreak\",\"Degas Coin\",\"HTML5 Coin\",\"Ultimate Secure Cash\",\"QTUM\",\"Espers\",\"Denarius\",\"Virta Unique Coin\",\"Bitcoin Planet\",\"BritCoin\",\"Linda\",\"DeepOnion\",\"Signatum\",\"Cream\",\"Monoeci\",\"Draftcoin\",\"Stakecoin\",\"CoinonatX\",\"Ethereum Dark\",\"Obsidian\",\"Cardano\",\"Regalcoin\",\"TrezarCoin\",\"TerraNovaCoin\",\"Rupee\",\"WomenCoin\",\"Theresa May Coin\",\"NamoCoin\",\"LUXCoin\",\"Xios\",\"Bitcloud 2.0\",\"KekCoin\",\"BlackholeCoin\",\"Infinity Economics\",\"Magnet\",\"Lamden Tau\",\"Electra\",\"Bitcoin Diamond\",\"Cash & Back Coin\",\"Bulwark\",\"Kalkulus\",\"GermanCoin\",\"LiteCoin Ultra\",\"PhantomX\",\"Digiwage\",\"Trollcoin\",\"Litecoin Plus\",\"Monkey Project\",\"TokenPay\",\"1717 Masonic Commemorative Token\",\"My Big Coin\",\"Unified Society USDEX\",\"Tokyo Coin\",\"Stipend\",\"Pushi\",\"Ellerium\",\"Velox\",\"Ontology\",\"Bitspace\",\"Briacoin\",\"Ignition\",\"MedicCoin\",\"Bitcoin Green\",\"Deviant Coin\",\"Abjcoin\",\"Semux\",\"Carebit\",\"Zealium\",\"Proton\",\"iDealCash\",\"Bitcoin Incognito\",\"HollyWoodCoin\",\"Swisscoin\",\"Xt3ch\",\"TheVig\",\"EmaratCoin\",\"Dekado\",\"Lynx\",\"Poseidon Quark\",\"BitcoinWSpectrum\",\"Muse\",\"Trivechain\",\"Dystem\",\"Giant\",\"Peony Coin\",\"Absolute Coin\",\"Vitae\",\"TPCash\",\"ARENON\",\"EUNO\",\"MMOCoin\",\"Ketan\",\"XDNA\",\"PAXEX\",\"ThunderStake\",\"Kcash\",\"Bettex coin\",\"BitMoney\",\"Junson Ming Chan Coin\",\"HerbCoin\",\"PirateCash\",\"Oduwa\",\"Galilel\",\"Crypto Sports\",\"Credit\",\"Dash Platinum\",\"Nasdacoin\",\"Beetle Coin\",\"Titan Coin\",\"Award\",\"Insane Coin\",\"ALAX\",\"LiteDoge\",\"TruckCoin\",\"OrangeCoin\",\"BitstarCoin\",\"NeosCoin\",\"HyperCoin\",\"PinkCoin\",\"AudioCoin\",\"IncaKoin\",\"Piggy Coin\",\"Genstake\",\"XiaoMiCoin\",\"CapriCoin\",\" ClubCoin\",\"Radium\",\"Creditbit \",\"OKCash\",\"Lisk\",\"HiCoin\",\"WhiteCoin\",\"FriendshipCoin\",\"Triangles Coin\",\"EOS\",\"Oxycoin\",\"TigerCash\",\"Particl\",\"Nxt\",\"ZEPHYR\",\"Gapcoin\",\"BitcoinPlus\"],\"TotalCoinSupply\":{\"__ndarray__\":\"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\",\"dtype\":\"float64\",\"order\":\"little\",\"shape\":[287]},\"TotalCoinsMined\":{\"__ndarray__\":\"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\",\"dtype\":\"float64\",\"order\":\"little\",\"shape\":[287]}},\"selected\":{\"id\":\"1239\"},\"selection_policy\":{\"id\":\"1255\"}},\"id\":\"1238\",\"type\":\"ColumnDataSource\"},{\"attributes\":{\"coordinates\":null,\"data_source\":{\"id\":\"1284\"},\"glyph\":{\"id\":\"1287\"},\"group\":null,\"hover_glyph\":null,\"muted_glyph\":{\"id\":\"1289\"},\"nonselection_glyph\":{\"id\":\"1288\"},\"selection_glyph\":{\"id\":\"1309\"},\"view\":{\"id\":\"1291\"}},\"id\":\"1290\",\"type\":\"GlyphRenderer\"},{\"attributes\":{\"source\":{\"id\":\"1284\"}},\"id\":\"1291\",\"type\":\"CDSView\"}],\"root_ids\":[\"1173\"]},\"title\":\"Bokeh Application\",\"version\":\"2.4.1\"}};\n",
       "    var render_items = [{\"docid\":\"48ecb195-9773-41a0-969f-37d70dce33d2\",\"root_ids\":[\"1173\"],\"roots\":{\"1173\":\"fde69abb-a5de-44b7-b44b-ab84dbf5c051\"}}];\n",
       "    root.Bokeh.embed.embed_items_notebook(docs_json, render_items);\n",
       "  }\n",
       "  if (root.Bokeh !== undefined && root.Bokeh.Panel !== undefined) {\n",
       "    embed_document(root);\n",
       "  } else {\n",
       "    var attempts = 0;\n",
       "    var timer = setInterval(function(root) {\n",
       "      if (root.Bokeh !== undefined && root.Bokeh.Panel !== undefined) {\n",
       "        clearInterval(timer);\n",
       "        embed_document(root);\n",
       "      } else if (document.readyState == \"complete\") {\n",
       "        attempts++;\n",
       "        if (attempts > 200) {\n",
       "          clearInterval(timer);\n",
       "          console.log(\"Bokeh: ERROR: Unable to run BokehJS code because BokehJS library is missing\");\n",
       "        }\n",
       "      }\n",
       "    }, 25, root)\n",
       "  }\n",
       "})(window);</script>"
      ],
      "text/plain": [
       ":NdOverlay   [Class]\n",
       "   :Scatter   [TotalCoinsMined]   (TotalCoinSupply,CoinName)"
      ]
     },
     "execution_count": 54,
     "metadata": {
      "application/vnd.holoviews_exec.v0+json": {
       "id": "1173"
      }
     },
     "output_type": "execute_result"
    }
   ],
   "source": [
    "# Create a hvplot.scatter plot using x=\"TotalCoinsMined\" and y=\"TotalCoinSupply\".\n",
    "plot_df.hvplot.scatter(x=\"TotalCoinsMined\", y=\"TotalCoinSupply\", by=\"Class\", hover_cols=['CoinName'])\n"
   ]
  },
  {
   "cell_type": "code",
   "execution_count": null,
   "metadata": {},
   "outputs": [],
   "source": []
  }
 ],
 "metadata": {
  "file_extension": ".py",
  "interpreter": {
   "hash": "b4c4ec750e5546eacd0a7a03bd0f392d1131bc4c1daf20c15b2e7a60a616a4f9"
  },
  "kernelspec": {
   "display_name": "PythonData",
   "language": "python",
   "name": "python3"
  },
  "language_info": {
   "codemirror_mode": {
    "name": "ipython",
    "version": 3
   },
   "file_extension": ".py",
   "mimetype": "text/x-python",
   "name": "python",
   "nbconvert_exporter": "python",
   "pygments_lexer": "ipython3",
   "version": "3.7.11"
  },
  "latex_envs": {
   "LaTeX_envs_menu_present": true,
   "autoclose": false,
   "autocomplete": true,
   "bibliofile": "biblio.bib",
   "cite_by": "apalike",
   "current_citInitial": 1,
   "eqLabelWithNumbers": true,
   "eqNumInitial": 1,
   "hotkeys": {
    "equation": "Ctrl-E",
    "itemize": "Ctrl-I"
   },
   "labels_anchors": false,
   "latex_user_defs": false,
   "report_style_numbering": false,
   "user_envs_cfg": false
  },
  "mimetype": "text/x-python",
  "name": "python",
  "npconvert_exporter": "python",
  "pygments_lexer": "ipython3",
  "version": 3
 },
 "nbformat": 4,
 "nbformat_minor": 2
}
